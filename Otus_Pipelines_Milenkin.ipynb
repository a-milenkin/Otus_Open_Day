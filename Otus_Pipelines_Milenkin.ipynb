{
 "cells": [
  {
   "cell_type": "markdown",
   "metadata": {},
   "source": [
    "# <center> Pipelines, Serialization </center> "
   ]
  },
  {
   "cell_type": "markdown",
   "metadata": {},
   "source": [
    "<p style=\"align: center;\"><img align=center src=\"./images/Industrial-Pipeline-Cleaning.jpg\"  width=1000></p>"
   ]
  },
  {
   "cell_type": "markdown",
   "metadata": {},
   "source": [
    "."
   ]
  },
  {
   "cell_type": "markdown",
   "metadata": {},
   "source": [
    "."
   ]
  },
  {
   "cell_type": "markdown",
   "metadata": {},
   "source": [
    "<p style=\"align: center;\"><img align=center src=\"https://hazelcast.com/wp-content/uploads/2019/11/24_DataPipleline-1.png\"  width=1000></p>"
   ]
  },
  {
   "cell_type": "code",
   "execution_count": 1,
   "metadata": {},
   "outputs": [
    {
     "data": {
      "text/html": [
       "<style>.container { width:80% !important; }</style>"
      ],
      "text/plain": [
       "<IPython.core.display.HTML object>"
      ]
     },
     "metadata": {},
     "output_type": "display_data"
    }
   ],
   "source": [
    "import pandas as pd\n",
    "import numpy as np\n",
    "\n",
    "# Пара библиотек для визуализации\n",
    "import matplotlib.pyplot as plt\n",
    "%matplotlib inline\n",
    "\n",
    "\n",
    "from IPython.core.display import display, HTML\n",
    "display(HTML(\"<style>.container { width:80% !important; }</style>\"))\n",
    "\n",
    "import warnings\n",
    "warnings.filterwarnings(\"ignore\")"
   ]
  },
  {
   "cell_type": "code",
   "execution_count": null,
   "metadata": {},
   "outputs": [],
   "source": [
    " "
   ]
  },
  {
   "cell_type": "code",
   "execution_count": null,
   "metadata": {},
   "outputs": [],
   "source": [
    " "
   ]
  },
  {
   "cell_type": "markdown",
   "metadata": {},
   "source": [
    "# Импорт Данных"
   ]
  },
  {
   "cell_type": "code",
   "execution_count": 2,
   "metadata": {},
   "outputs": [],
   "source": [
    "file_path = 'https://raw.githubusercontent.com/a-milenkin/Datasetes_for_Piplines/main/responses.csv'\n",
    "data = pd.read_csv(file_path)"
   ]
  },
  {
   "cell_type": "code",
   "execution_count": 3,
   "metadata": {},
   "outputs": [
    {
     "data": {
      "text/html": [
       "<div>\n",
       "<style scoped>\n",
       "    .dataframe tbody tr th:only-of-type {\n",
       "        vertical-align: middle;\n",
       "    }\n",
       "\n",
       "    .dataframe tbody tr th {\n",
       "        vertical-align: top;\n",
       "    }\n",
       "\n",
       "    .dataframe thead th {\n",
       "        text-align: right;\n",
       "    }\n",
       "</style>\n",
       "<table border=\"1\" class=\"dataframe\">\n",
       "  <thead>\n",
       "    <tr style=\"text-align: right;\">\n",
       "      <th></th>\n",
       "      <th>Music</th>\n",
       "      <th>Slow songs or fast songs</th>\n",
       "      <th>Dance</th>\n",
       "      <th>Folk</th>\n",
       "      <th>Country</th>\n",
       "      <th>Classical music</th>\n",
       "      <th>Musical</th>\n",
       "      <th>Pop</th>\n",
       "      <th>Rock</th>\n",
       "      <th>Metal or Hardrock</th>\n",
       "      <th>...</th>\n",
       "      <th>Age</th>\n",
       "      <th>Height</th>\n",
       "      <th>Weight</th>\n",
       "      <th>Number of siblings</th>\n",
       "      <th>Gender</th>\n",
       "      <th>Left - right handed</th>\n",
       "      <th>Education</th>\n",
       "      <th>Only child</th>\n",
       "      <th>Village - town</th>\n",
       "      <th>House - block of flats</th>\n",
       "    </tr>\n",
       "  </thead>\n",
       "  <tbody>\n",
       "    <tr>\n",
       "      <th>0</th>\n",
       "      <td>5.0</td>\n",
       "      <td>3.0</td>\n",
       "      <td>2.0</td>\n",
       "      <td>1.0</td>\n",
       "      <td>2.0</td>\n",
       "      <td>2.0</td>\n",
       "      <td>1.0</td>\n",
       "      <td>5.0</td>\n",
       "      <td>5.0</td>\n",
       "      <td>1.0</td>\n",
       "      <td>...</td>\n",
       "      <td>20.0</td>\n",
       "      <td>163.0</td>\n",
       "      <td>48.0</td>\n",
       "      <td>1.0</td>\n",
       "      <td>female</td>\n",
       "      <td>right handed</td>\n",
       "      <td>college/bachelor degree</td>\n",
       "      <td>no</td>\n",
       "      <td>village</td>\n",
       "      <td>block of flats</td>\n",
       "    </tr>\n",
       "    <tr>\n",
       "      <th>1</th>\n",
       "      <td>4.0</td>\n",
       "      <td>4.0</td>\n",
       "      <td>2.0</td>\n",
       "      <td>1.0</td>\n",
       "      <td>1.0</td>\n",
       "      <td>1.0</td>\n",
       "      <td>2.0</td>\n",
       "      <td>3.0</td>\n",
       "      <td>5.0</td>\n",
       "      <td>4.0</td>\n",
       "      <td>...</td>\n",
       "      <td>19.0</td>\n",
       "      <td>163.0</td>\n",
       "      <td>58.0</td>\n",
       "      <td>2.0</td>\n",
       "      <td>female</td>\n",
       "      <td>right handed</td>\n",
       "      <td>college/bachelor degree</td>\n",
       "      <td>no</td>\n",
       "      <td>city</td>\n",
       "      <td>block of flats</td>\n",
       "    </tr>\n",
       "    <tr>\n",
       "      <th>2</th>\n",
       "      <td>5.0</td>\n",
       "      <td>5.0</td>\n",
       "      <td>2.0</td>\n",
       "      <td>2.0</td>\n",
       "      <td>3.0</td>\n",
       "      <td>4.0</td>\n",
       "      <td>5.0</td>\n",
       "      <td>3.0</td>\n",
       "      <td>5.0</td>\n",
       "      <td>3.0</td>\n",
       "      <td>...</td>\n",
       "      <td>20.0</td>\n",
       "      <td>176.0</td>\n",
       "      <td>67.0</td>\n",
       "      <td>2.0</td>\n",
       "      <td>female</td>\n",
       "      <td>right handed</td>\n",
       "      <td>secondary school</td>\n",
       "      <td>no</td>\n",
       "      <td>city</td>\n",
       "      <td>block of flats</td>\n",
       "    </tr>\n",
       "    <tr>\n",
       "      <th>3</th>\n",
       "      <td>5.0</td>\n",
       "      <td>3.0</td>\n",
       "      <td>2.0</td>\n",
       "      <td>1.0</td>\n",
       "      <td>1.0</td>\n",
       "      <td>1.0</td>\n",
       "      <td>1.0</td>\n",
       "      <td>2.0</td>\n",
       "      <td>2.0</td>\n",
       "      <td>1.0</td>\n",
       "      <td>...</td>\n",
       "      <td>22.0</td>\n",
       "      <td>172.0</td>\n",
       "      <td>59.0</td>\n",
       "      <td>1.0</td>\n",
       "      <td>female</td>\n",
       "      <td>right handed</td>\n",
       "      <td>college/bachelor degree</td>\n",
       "      <td>yes</td>\n",
       "      <td>city</td>\n",
       "      <td>house/bungalow</td>\n",
       "    </tr>\n",
       "    <tr>\n",
       "      <th>4</th>\n",
       "      <td>5.0</td>\n",
       "      <td>3.0</td>\n",
       "      <td>4.0</td>\n",
       "      <td>3.0</td>\n",
       "      <td>2.0</td>\n",
       "      <td>4.0</td>\n",
       "      <td>3.0</td>\n",
       "      <td>5.0</td>\n",
       "      <td>3.0</td>\n",
       "      <td>1.0</td>\n",
       "      <td>...</td>\n",
       "      <td>20.0</td>\n",
       "      <td>170.0</td>\n",
       "      <td>59.0</td>\n",
       "      <td>1.0</td>\n",
       "      <td>female</td>\n",
       "      <td>right handed</td>\n",
       "      <td>secondary school</td>\n",
       "      <td>no</td>\n",
       "      <td>village</td>\n",
       "      <td>house/bungalow</td>\n",
       "    </tr>\n",
       "  </tbody>\n",
       "</table>\n",
       "<p>5 rows × 150 columns</p>\n",
       "</div>"
      ],
      "text/plain": [
       "   Music  Slow songs or fast songs  Dance  Folk  Country  Classical music  \\\n",
       "0    5.0                       3.0    2.0   1.0      2.0              2.0   \n",
       "1    4.0                       4.0    2.0   1.0      1.0              1.0   \n",
       "2    5.0                       5.0    2.0   2.0      3.0              4.0   \n",
       "3    5.0                       3.0    2.0   1.0      1.0              1.0   \n",
       "4    5.0                       3.0    4.0   3.0      2.0              4.0   \n",
       "\n",
       "   Musical  Pop  Rock  Metal or Hardrock  ...   Age  Height  Weight  \\\n",
       "0      1.0  5.0   5.0                1.0  ...  20.0   163.0    48.0   \n",
       "1      2.0  3.0   5.0                4.0  ...  19.0   163.0    58.0   \n",
       "2      5.0  3.0   5.0                3.0  ...  20.0   176.0    67.0   \n",
       "3      1.0  2.0   2.0                1.0  ...  22.0   172.0    59.0   \n",
       "4      3.0  5.0   3.0                1.0  ...  20.0   170.0    59.0   \n",
       "\n",
       "   Number of siblings  Gender  Left - right handed                Education  \\\n",
       "0                 1.0  female         right handed  college/bachelor degree   \n",
       "1                 2.0  female         right handed  college/bachelor degree   \n",
       "2                 2.0  female         right handed         secondary school   \n",
       "3                 1.0  female         right handed  college/bachelor degree   \n",
       "4                 1.0  female         right handed         secondary school   \n",
       "\n",
       "   Only child  Village - town  House - block of flats  \n",
       "0          no         village          block of flats  \n",
       "1          no            city          block of flats  \n",
       "2          no            city          block of flats  \n",
       "3         yes            city          house/bungalow  \n",
       "4          no         village          house/bungalow  \n",
       "\n",
       "[5 rows x 150 columns]"
      ]
     },
     "execution_count": 3,
     "metadata": {},
     "output_type": "execute_result"
    }
   ],
   "source": [
    "data.head()"
   ]
  },
  {
   "cell_type": "markdown",
   "metadata": {},
   "source": [
    "<div class=\"alert alert-info\">\n",
    "\n",
    "<b>Про датасет </b>\n",
    "\n",
    "\n",
    "    \n",
    "Приведеные результаты опроса молодежи до 21-го года по тому, какие вещи делют их счастливыми по 5-й шкале\n",
    "    \n",
    "</div>\n"
   ]
  },
  {
   "cell_type": "markdown",
   "metadata": {},
   "source": [
    "<div class=\"alert alert-info\">\n",
    "\n",
    "<b>Про Задачу </b>\n",
    "\n",
    "Попробуем классифицировать людей по оценкам уровня счастья\n",
    "    \n",
    "</div>\n"
   ]
  },
  {
   "cell_type": "code",
   "execution_count": 4,
   "metadata": {},
   "outputs": [],
   "source": [
    "interesting_features = [\"Happiness in life\", \"Age\", \"Height\", \"Gender\", \"Weight\", \n",
    "              \"Left - right handed\", \"Village - town\", \"Getting up\", \"God\",\n",
    "              \"Health\", \"Borrowed stuff\", \"Self-criticism\", \"Elections\", \n",
    "              \"Smoking\", \"Alcohol\" ,\"Number of friends\", \"Spending on healthy eating\",\n",
    "              \"Music\", \"Movies\", \"Friends versus money\", \"Changing the past\"]\n",
    "\n",
    "\n",
    "target = [\"Happiness in life\"]"
   ]
  },
  {
   "cell_type": "code",
   "execution_count": 5,
   "metadata": {},
   "outputs": [],
   "source": [
    "# data[\"Happiness in life\"].hist();"
   ]
  },
  {
   "cell_type": "code",
   "execution_count": 6,
   "metadata": {},
   "outputs": [],
   "source": [
    "data = data[interesting_features]"
   ]
  },
  {
   "cell_type": "code",
   "execution_count": 7,
   "metadata": {},
   "outputs": [
    {
     "data": {
      "image/png": "[encoded data removed]",
      "text/plain": [
       "<Figure size 432x288 with 1 Axes>"
      ]
     },
     "metadata": {
      "needs_background": "light"
     },
     "output_type": "display_data"
    }
   ],
   "source": [
    "# Сбалансируем немного классы\n",
    "\n",
    "def happiness_score(x):\n",
    "    if x < 4:\n",
    "        return -1\n",
    "    elif x == 4.0:\n",
    "        return 0\n",
    "    else:\n",
    "        return 1\n",
    "    \n",
    "data[\"Happiness in life\"] = data[\"Happiness in life\"].apply(happiness_score)\n",
    "\n",
    "data[\"Happiness in life\"].hist();"
   ]
  },
  {
   "cell_type": "markdown",
   "metadata": {},
   "source": [
    "# Как пишут код обычно? - The painful way"
   ]
  },
  {
   "cell_type": "code",
   "execution_count": 8,
   "metadata": {},
   "outputs": [
    {
     "data": {
      "text/plain": [
       "<AxesSubplot:>"
      ]
     },
     "execution_count": 8,
     "metadata": {},
     "output_type": "execute_result"
    },
    {
     "data": {
      "image/png": "[encoded data removed]",
      "text/plain": [
       "<Figure size 432x288 with 1 Axes>"
      ]
     },
     "metadata": {
      "needs_background": "light"
     },
     "output_type": "display_data"
    }
   ],
   "source": [
    "data[\"Happiness in life\"].hist()"
   ]
  },
  {
   "cell_type": "markdown",
   "metadata": {},
   "source": [
    "# Какой-нибудь EDA (исследование данных)"
   ]
  },
  {
   "cell_type": "code",
   "execution_count": 9,
   "metadata": {
    "scrolled": true
   },
   "outputs": [
    {
     "data": {
      "image/png": "[encoded data removed]",
      "text/plain": [
       "<Figure size 1800x1080 with 16 Axes>"
      ]
     },
     "metadata": {
      "needs_background": "light"
     },
     "output_type": "display_data"
    }
   ],
   "source": [
    "data.hist(figsize=(25, 15))\n",
    "\n",
    "plt.show()"
   ]
  },
  {
   "cell_type": "code",
   "execution_count": 10,
   "metadata": {},
   "outputs": [
    {
     "data": {
      "text/plain": [
       "<AxesSubplot:>"
      ]
     },
     "execution_count": 10,
     "metadata": {},
     "output_type": "execute_result"
    },
    {
     "data": {
      "image/png": "[encoded data removed]",
      "text/plain": [
       "<Figure size 432x288 with 2 Axes>"
      ]
     },
     "metadata": {
      "needs_background": "light"
     },
     "output_type": "display_data"
    }
   ],
   "source": [
    "import seaborn as sns\n",
    "\n",
    "sns.heatmap(data.corr())"
   ]
  },
  {
   "cell_type": "markdown",
   "metadata": {},
   "source": [
    "# Есть ли в данных выбросы? Есть почти всегда!"
   ]
  },
  {
   "cell_type": "code",
   "execution_count": 11,
   "metadata": {},
   "outputs": [],
   "source": [
    "# data.isnull().sum()"
   ]
  },
  {
   "cell_type": "code",
   "execution_count": 12,
   "metadata": {},
   "outputs": [],
   "source": [
    "data.dropna(inplace=True)"
   ]
  },
  {
   "cell_type": "code",
   "execution_count": 13,
   "metadata": {},
   "outputs": [
    {
     "name": "stdout",
     "output_type": "stream",
     "text": [
      "(740, 21) (185, 21)\n"
     ]
    }
   ],
   "source": [
    "from sklearn.model_selection import train_test_split\n",
    "from sklearn.preprocessing import StandardScaler, OneHotEncoder\n",
    "\n",
    "\n",
    "data_train, data_test = train_test_split(data, test_size=0.2, stratify=data[target])\n",
    "\n",
    "print(data_train.shape, data_test.shape)"
   ]
  },
  {
   "cell_type": "code",
   "execution_count": 14,
   "metadata": {},
   "outputs": [
    {
     "data": {
      "text/html": [
       "<div>\n",
       "<style scoped>\n",
       "    .dataframe tbody tr th:only-of-type {\n",
       "        vertical-align: middle;\n",
       "    }\n",
       "\n",
       "    .dataframe tbody tr th {\n",
       "        vertical-align: top;\n",
       "    }\n",
       "\n",
       "    .dataframe thead th {\n",
       "        text-align: right;\n",
       "    }\n",
       "</style>\n",
       "<table border=\"1\" class=\"dataframe\">\n",
       "  <thead>\n",
       "    <tr style=\"text-align: right;\">\n",
       "      <th></th>\n",
       "      <th>Happiness in life</th>\n",
       "      <th>Age</th>\n",
       "      <th>Height</th>\n",
       "      <th>Gender</th>\n",
       "      <th>Weight</th>\n",
       "      <th>Left - right handed</th>\n",
       "      <th>Village - town</th>\n",
       "      <th>Getting up</th>\n",
       "      <th>God</th>\n",
       "      <th>Health</th>\n",
       "      <th>...</th>\n",
       "      <th>Self-criticism</th>\n",
       "      <th>Elections</th>\n",
       "      <th>Smoking</th>\n",
       "      <th>Alcohol</th>\n",
       "      <th>Number of friends</th>\n",
       "      <th>Spending on healthy eating</th>\n",
       "      <th>Music</th>\n",
       "      <th>Movies</th>\n",
       "      <th>Friends versus money</th>\n",
       "      <th>Changing the past</th>\n",
       "    </tr>\n",
       "  </thead>\n",
       "  <tbody>\n",
       "    <tr>\n",
       "      <th>0</th>\n",
       "      <td>0</td>\n",
       "      <td>20.0</td>\n",
       "      <td>163.0</td>\n",
       "      <td>female</td>\n",
       "      <td>48.0</td>\n",
       "      <td>right handed</td>\n",
       "      <td>village</td>\n",
       "      <td>2.0</td>\n",
       "      <td>1.0</td>\n",
       "      <td>1.0</td>\n",
       "      <td>...</td>\n",
       "      <td>1.0</td>\n",
       "      <td>4.0</td>\n",
       "      <td>never smoked</td>\n",
       "      <td>drink a lot</td>\n",
       "      <td>3</td>\n",
       "      <td>3.0</td>\n",
       "      <td>5.0</td>\n",
       "      <td>5.0</td>\n",
       "      <td>3.0</td>\n",
       "      <td>1.0</td>\n",
       "    </tr>\n",
       "    <tr>\n",
       "      <th>1</th>\n",
       "      <td>0</td>\n",
       "      <td>19.0</td>\n",
       "      <td>163.0</td>\n",
       "      <td>female</td>\n",
       "      <td>58.0</td>\n",
       "      <td>right handed</td>\n",
       "      <td>city</td>\n",
       "      <td>5.0</td>\n",
       "      <td>1.0</td>\n",
       "      <td>4.0</td>\n",
       "      <td>...</td>\n",
       "      <td>4.0</td>\n",
       "      <td>5.0</td>\n",
       "      <td>never smoked</td>\n",
       "      <td>drink a lot</td>\n",
       "      <td>3</td>\n",
       "      <td>2.0</td>\n",
       "      <td>4.0</td>\n",
       "      <td>5.0</td>\n",
       "      <td>4.0</td>\n",
       "      <td>4.0</td>\n",
       "    </tr>\n",
       "    <tr>\n",
       "      <th>2</th>\n",
       "      <td>0</td>\n",
       "      <td>20.0</td>\n",
       "      <td>176.0</td>\n",
       "      <td>female</td>\n",
       "      <td>67.0</td>\n",
       "      <td>right handed</td>\n",
       "      <td>city</td>\n",
       "      <td>4.0</td>\n",
       "      <td>5.0</td>\n",
       "      <td>2.0</td>\n",
       "      <td>...</td>\n",
       "      <td>4.0</td>\n",
       "      <td>5.0</td>\n",
       "      <td>tried smoking</td>\n",
       "      <td>drink a lot</td>\n",
       "      <td>3</td>\n",
       "      <td>2.0</td>\n",
       "      <td>5.0</td>\n",
       "      <td>5.0</td>\n",
       "      <td>5.0</td>\n",
       "      <td>5.0</td>\n",
       "    </tr>\n",
       "    <tr>\n",
       "      <th>3</th>\n",
       "      <td>-1</td>\n",
       "      <td>22.0</td>\n",
       "      <td>172.0</td>\n",
       "      <td>female</td>\n",
       "      <td>59.0</td>\n",
       "      <td>right handed</td>\n",
       "      <td>city</td>\n",
       "      <td>1.0</td>\n",
       "      <td>4.0</td>\n",
       "      <td>1.0</td>\n",
       "      <td>...</td>\n",
       "      <td>5.0</td>\n",
       "      <td>5.0</td>\n",
       "      <td>former smoker</td>\n",
       "      <td>drink a lot</td>\n",
       "      <td>1</td>\n",
       "      <td>1.0</td>\n",
       "      <td>5.0</td>\n",
       "      <td>5.0</td>\n",
       "      <td>2.0</td>\n",
       "      <td>5.0</td>\n",
       "    </tr>\n",
       "    <tr>\n",
       "      <th>4</th>\n",
       "      <td>-1</td>\n",
       "      <td>20.0</td>\n",
       "      <td>170.0</td>\n",
       "      <td>female</td>\n",
       "      <td>59.0</td>\n",
       "      <td>right handed</td>\n",
       "      <td>village</td>\n",
       "      <td>4.0</td>\n",
       "      <td>5.0</td>\n",
       "      <td>3.0</td>\n",
       "      <td>...</td>\n",
       "      <td>5.0</td>\n",
       "      <td>5.0</td>\n",
       "      <td>tried smoking</td>\n",
       "      <td>social drinker</td>\n",
       "      <td>3</td>\n",
       "      <td>4.0</td>\n",
       "      <td>5.0</td>\n",
       "      <td>5.0</td>\n",
       "      <td>3.0</td>\n",
       "      <td>4.0</td>\n",
       "    </tr>\n",
       "  </tbody>\n",
       "</table>\n",
       "<p>5 rows × 21 columns</p>\n",
       "</div>"
      ],
      "text/plain": [
       "   Happiness in life   Age  Height  Gender  Weight Left - right handed  \\\n",
       "0                  0  20.0   163.0  female    48.0        right handed   \n",
       "1                  0  19.0   163.0  female    58.0        right handed   \n",
       "2                  0  20.0   176.0  female    67.0        right handed   \n",
       "3                 -1  22.0   172.0  female    59.0        right handed   \n",
       "4                 -1  20.0   170.0  female    59.0        right handed   \n",
       "\n",
       "  Village - town  Getting up  God  Health  ...  Self-criticism  Elections  \\\n",
       "0        village         2.0  1.0     1.0  ...             1.0        4.0   \n",
       "1           city         5.0  1.0     4.0  ...             4.0        5.0   \n",
       "2           city         4.0  5.0     2.0  ...             4.0        5.0   \n",
       "3           city         1.0  4.0     1.0  ...             5.0        5.0   \n",
       "4        village         4.0  5.0     3.0  ...             5.0        5.0   \n",
       "\n",
       "         Smoking         Alcohol Number of friends  \\\n",
       "0   never smoked     drink a lot                 3   \n",
       "1   never smoked     drink a lot                 3   \n",
       "2  tried smoking     drink a lot                 3   \n",
       "3  former smoker     drink a lot                 1   \n",
       "4  tried smoking  social drinker                 3   \n",
       "\n",
       "   Spending on healthy eating  Music  Movies  Friends versus money  \\\n",
       "0                         3.0    5.0     5.0                   3.0   \n",
       "1                         2.0    4.0     5.0                   4.0   \n",
       "2                         2.0    5.0     5.0                   5.0   \n",
       "3                         1.0    5.0     5.0                   2.0   \n",
       "4                         4.0    5.0     5.0                   3.0   \n",
       "\n",
       "   Changing the past  \n",
       "0                1.0  \n",
       "1                4.0  \n",
       "2                5.0  \n",
       "3                5.0  \n",
       "4                4.0  \n",
       "\n",
       "[5 rows x 21 columns]"
      ]
     },
     "execution_count": 14,
     "metadata": {},
     "output_type": "execute_result"
    }
   ],
   "source": [
    "data.head()"
   ]
  },
  {
   "cell_type": "code",
   "execution_count": 15,
   "metadata": {},
   "outputs": [
    {
     "data": {
      "text/plain": [
       "social drinker    605\n",
       "drink a lot       210\n",
       "never             110\n",
       "Name: Alcohol, dtype: int64"
      ]
     },
     "execution_count": 15,
     "metadata": {},
     "output_type": "execute_result"
    }
   ],
   "source": [
    "data['Alcohol'].value_counts()"
   ]
  },
  {
   "cell_type": "markdown",
   "metadata": {},
   "source": [
    " "
   ]
  },
  {
   "cell_type": "markdown",
   "metadata": {},
   "source": [
    "# Какие признаки в данных?"
   ]
  },
  {
   "cell_type": "code",
   "execution_count": 16,
   "metadata": {},
   "outputs": [
    {
     "data": {
      "text/plain": [
       "15"
      ]
     },
     "execution_count": 16,
     "metadata": {},
     "output_type": "execute_result"
    }
   ],
   "source": [
    "numerical_features = ['Age', 'Height', 'Weight']  # Численные переменные\n",
    "\n",
    "# Бинарные признаки\n",
    "to_dummies = [\n",
    "    'Gender', 'Left - right handed', 'Village - town', 'Smoking',  \"Alcohol\" ,\n",
    "]\n",
    "\n",
    "# Категориальные признаки\n",
    "categorical_features = [\n",
    "    col for col in data.columns if col not in numerical_features + target + to_dummies\n",
    "]\n",
    "\n",
    "all_features = categorical_features + numerical_features\n",
    "len(all_features)"
   ]
  },
  {
   "cell_type": "code",
   "execution_count": 17,
   "metadata": {},
   "outputs": [],
   "source": [
    "# data[numerical_features]"
   ]
  },
  {
   "cell_type": "code",
   "execution_count": 18,
   "metadata": {},
   "outputs": [],
   "source": [
    "from sklearn.preprocessing import StandardScaler, RobustScaler, LabelEncoder, OneHotEncoder, MinMaxScaler"
   ]
  },
  {
   "cell_type": "code",
   "execution_count": 19,
   "metadata": {},
   "outputs": [],
   "source": [
    "scaler = StandardScaler() # Нормировка для численных признаков"
   ]
  },
  {
   "cell_type": "code",
   "execution_count": 20,
   "metadata": {},
   "outputs": [
    {
     "data": {
      "text/plain": [
       "array([[ 1.28599171,  0.44342801,  0.55451878],\n",
       "       [ 0.56286567,  1.12826912,  1.14803734],\n",
       "       [-0.8833864 ,  0.44342801,  0.2577595 ],\n",
       "       [ 2.73224379, -0.73058532, -0.48413871],\n",
       "       [ 0.20130265, -1.1219231 , -0.48413871],\n",
       "       [ 2.73224379, -0.53491644, -1.07765727],\n",
       "       [-1.60651244,  1.22610356, -0.26156925],\n",
       "       [-1.24494942,  0.14992468,  0.10937986],\n",
       "       [ 0.20130265, -1.31759199, -0.63251835],\n",
       "       [-1.60651244,  0.83476579,  0.6287086 ]])"
      ]
     },
     "execution_count": 20,
     "metadata": {},
     "output_type": "execute_result"
    }
   ],
   "source": [
    "data_train_scaled = scaler.fit_transform(data_train[numerical_features])\n",
    "data_train_scaled[:10]"
   ]
  },
  {
   "cell_type": "code",
   "execution_count": 21,
   "metadata": {},
   "outputs": [
    {
     "data": {
      "text/plain": [
       "array([[0., 1., 0., 1., 0., 1., 0., 0., 1., 0., 0., 0., 1.],\n",
       "       [0., 1., 0., 1., 0., 1., 0., 0., 1., 0., 0., 1., 0.],\n",
       "       [0., 1., 0., 1., 1., 0., 0., 0., 0., 1., 1., 0., 0.],\n",
       "       [1., 0., 0., 1., 1., 0., 0., 1., 0., 0., 0., 0., 1.],\n",
       "       [1., 0., 0., 1., 0., 1., 0., 1., 0., 0., 0., 0., 1.],\n",
       "       [1., 0., 0., 1., 1., 0., 0., 1., 0., 0., 0., 0., 1.],\n",
       "       [0., 1., 0., 1., 0., 1., 0., 1., 0., 0., 0., 0., 1.],\n",
       "       [1., 0., 0., 1., 1., 0., 0., 0., 0., 1., 0., 0., 1.],\n",
       "       [1., 0., 0., 1., 0., 1., 1., 0., 0., 0., 0., 0., 1.],\n",
       "       [0., 1., 0., 1., 1., 0., 0., 0., 1., 0., 0., 1., 0.]])"
      ]
     },
     "execution_count": 21,
     "metadata": {},
     "output_type": "execute_result"
    }
   ],
   "source": [
    "ohe = OneHotEncoder(sparse=False, handle_unknown='ignore')  # кодирование для категориальных признаков\n",
    "\n",
    "data_train_ohe = ohe.fit_transform(data_train[to_dummies])\n",
    "data_train_ohe[:10]"
   ]
  },
  {
   "cell_type": "code",
   "execution_count": 22,
   "metadata": {},
   "outputs": [
    {
     "data": {
      "text/html": [
       "<div>\n",
       "<style scoped>\n",
       "    .dataframe tbody tr th:only-of-type {\n",
       "        vertical-align: middle;\n",
       "    }\n",
       "\n",
       "    .dataframe tbody tr th {\n",
       "        vertical-align: top;\n",
       "    }\n",
       "\n",
       "    .dataframe thead th {\n",
       "        text-align: right;\n",
       "    }\n",
       "</style>\n",
       "<table border=\"1\" class=\"dataframe\">\n",
       "  <thead>\n",
       "    <tr style=\"text-align: right;\">\n",
       "      <th></th>\n",
       "      <th>Age</th>\n",
       "      <th>Height</th>\n",
       "      <th>Weight</th>\n",
       "      <th>x0_female</th>\n",
       "      <th>x0_male</th>\n",
       "      <th>x1_left handed</th>\n",
       "      <th>x1_right handed</th>\n",
       "      <th>x2_city</th>\n",
       "      <th>x2_village</th>\n",
       "      <th>x3_current smoker</th>\n",
       "      <th>x3_former smoker</th>\n",
       "      <th>x3_never smoked</th>\n",
       "      <th>x3_tried smoking</th>\n",
       "      <th>x4_drink a lot</th>\n",
       "      <th>x4_never</th>\n",
       "      <th>x4_social drinker</th>\n",
       "    </tr>\n",
       "  </thead>\n",
       "  <tbody>\n",
       "    <tr>\n",
       "      <th>0</th>\n",
       "      <td>1.285992</td>\n",
       "      <td>0.443428</td>\n",
       "      <td>0.554519</td>\n",
       "      <td>0.0</td>\n",
       "      <td>1.0</td>\n",
       "      <td>0.0</td>\n",
       "      <td>1.0</td>\n",
       "      <td>0.0</td>\n",
       "      <td>1.0</td>\n",
       "      <td>0.0</td>\n",
       "      <td>0.0</td>\n",
       "      <td>1.0</td>\n",
       "      <td>0.0</td>\n",
       "      <td>0.0</td>\n",
       "      <td>0.0</td>\n",
       "      <td>1.0</td>\n",
       "    </tr>\n",
       "    <tr>\n",
       "      <th>1</th>\n",
       "      <td>0.562866</td>\n",
       "      <td>1.128269</td>\n",
       "      <td>1.148037</td>\n",
       "      <td>0.0</td>\n",
       "      <td>1.0</td>\n",
       "      <td>0.0</td>\n",
       "      <td>1.0</td>\n",
       "      <td>0.0</td>\n",
       "      <td>1.0</td>\n",
       "      <td>0.0</td>\n",
       "      <td>0.0</td>\n",
       "      <td>1.0</td>\n",
       "      <td>0.0</td>\n",
       "      <td>0.0</td>\n",
       "      <td>1.0</td>\n",
       "      <td>0.0</td>\n",
       "    </tr>\n",
       "    <tr>\n",
       "      <th>2</th>\n",
       "      <td>-0.883386</td>\n",
       "      <td>0.443428</td>\n",
       "      <td>0.257759</td>\n",
       "      <td>0.0</td>\n",
       "      <td>1.0</td>\n",
       "      <td>0.0</td>\n",
       "      <td>1.0</td>\n",
       "      <td>1.0</td>\n",
       "      <td>0.0</td>\n",
       "      <td>0.0</td>\n",
       "      <td>0.0</td>\n",
       "      <td>0.0</td>\n",
       "      <td>1.0</td>\n",
       "      <td>1.0</td>\n",
       "      <td>0.0</td>\n",
       "      <td>0.0</td>\n",
       "    </tr>\n",
       "    <tr>\n",
       "      <th>3</th>\n",
       "      <td>2.732244</td>\n",
       "      <td>-0.730585</td>\n",
       "      <td>-0.484139</td>\n",
       "      <td>1.0</td>\n",
       "      <td>0.0</td>\n",
       "      <td>0.0</td>\n",
       "      <td>1.0</td>\n",
       "      <td>1.0</td>\n",
       "      <td>0.0</td>\n",
       "      <td>0.0</td>\n",
       "      <td>1.0</td>\n",
       "      <td>0.0</td>\n",
       "      <td>0.0</td>\n",
       "      <td>0.0</td>\n",
       "      <td>0.0</td>\n",
       "      <td>1.0</td>\n",
       "    </tr>\n",
       "    <tr>\n",
       "      <th>4</th>\n",
       "      <td>0.201303</td>\n",
       "      <td>-1.121923</td>\n",
       "      <td>-0.484139</td>\n",
       "      <td>1.0</td>\n",
       "      <td>0.0</td>\n",
       "      <td>0.0</td>\n",
       "      <td>1.0</td>\n",
       "      <td>0.0</td>\n",
       "      <td>1.0</td>\n",
       "      <td>0.0</td>\n",
       "      <td>1.0</td>\n",
       "      <td>0.0</td>\n",
       "      <td>0.0</td>\n",
       "      <td>0.0</td>\n",
       "      <td>0.0</td>\n",
       "      <td>1.0</td>\n",
       "    </tr>\n",
       "  </tbody>\n",
       "</table>\n",
       "</div>"
      ],
      "text/plain": [
       "        Age    Height    Weight  x0_female  x0_male  x1_left handed  \\\n",
       "0  1.285992  0.443428  0.554519        0.0      1.0             0.0   \n",
       "1  0.562866  1.128269  1.148037        0.0      1.0             0.0   \n",
       "2 -0.883386  0.443428  0.257759        0.0      1.0             0.0   \n",
       "3  2.732244 -0.730585 -0.484139        1.0      0.0             0.0   \n",
       "4  0.201303 -1.121923 -0.484139        1.0      0.0             0.0   \n",
       "\n",
       "   x1_right handed  x2_city  x2_village  x3_current smoker  x3_former smoker  \\\n",
       "0              1.0      0.0         1.0                0.0               0.0   \n",
       "1              1.0      0.0         1.0                0.0               0.0   \n",
       "2              1.0      1.0         0.0                0.0               0.0   \n",
       "3              1.0      1.0         0.0                0.0               1.0   \n",
       "4              1.0      0.0         1.0                0.0               1.0   \n",
       "\n",
       "   x3_never smoked  x3_tried smoking  x4_drink a lot  x4_never  \\\n",
       "0              1.0               0.0             0.0       0.0   \n",
       "1              1.0               0.0             0.0       1.0   \n",
       "2              0.0               1.0             1.0       0.0   \n",
       "3              0.0               0.0             0.0       0.0   \n",
       "4              0.0               0.0             0.0       0.0   \n",
       "\n",
       "   x4_social drinker  \n",
       "0                1.0  \n",
       "1                0.0  \n",
       "2                0.0  \n",
       "3                1.0  \n",
       "4                1.0  "
      ]
     },
     "execution_count": 22,
     "metadata": {},
     "output_type": "execute_result"
    }
   ],
   "source": [
    "data_train_tramsformed = pd.concat([pd.DataFrame(data_train_scaled, columns=numerical_features),\n",
    "                                    pd.DataFrame(data_train_ohe, columns=ohe.get_feature_names()),\n",
    "                                   # pd.DataFrame(data_train[categorical_features].values)\n",
    "                                   ], axis=1)\n",
    "data_train_tramsformed.head()"
   ]
  },
  {
   "cell_type": "markdown",
   "metadata": {},
   "source": [
    "# ML часть"
   ]
  },
  {
   "cell_type": "code",
   "execution_count": 23,
   "metadata": {},
   "outputs": [],
   "source": [
    "from sklearn.linear_model import LogisticRegression\n",
    "\n",
    "from sklearn.metrics import classification_report, confusion_matrix, f1_score, make_scorer"
   ]
  },
  {
   "cell_type": "code",
   "execution_count": 24,
   "metadata": {},
   "outputs": [
    {
     "data": {
      "text/plain": [
       "LogisticRegression()"
      ]
     },
     "execution_count": 24,
     "metadata": {},
     "output_type": "execute_result"
    }
   ],
   "source": [
    "model = LogisticRegression()\n",
    "\n",
    "model.fit(data_train_tramsformed, data_train[target])"
   ]
  },
  {
   "cell_type": "code",
   "execution_count": 25,
   "metadata": {},
   "outputs": [
    {
     "name": "stdout",
     "output_type": "stream",
     "text": [
      "              precision    recall  f1-score   support\n",
      "\n",
      "          -1       1.00      0.01      0.02       259\n",
      "           0       0.51      1.00      0.67       374\n",
      "           1       0.00      0.00      0.00       107\n",
      "\n",
      "    accuracy                           0.51       740\n",
      "   macro avg       0.50      0.34      0.23       740\n",
      "weighted avg       0.61      0.51      0.35       740\n",
      "\n"
     ]
    }
   ],
   "source": [
    "preds = model.predict(data_train_tramsformed)\n",
    "\n",
    "\n",
    "print(classification_report(data_train[target], preds))"
   ]
  },
  {
   "cell_type": "markdown",
   "metadata": {},
   "source": [
    "# А как же тест?! Валидация"
   ]
  },
  {
   "cell_type": "code",
   "execution_count": 26,
   "metadata": {},
   "outputs": [
    {
     "data": {
      "text/plain": [
       "array([[-0.16026037,  1.12826912,  1.3706068 ],\n",
       "       [-0.8833864 , -1.41542644, -1.22603691],\n",
       "       [-1.24494942, -0.73058532, -0.92927763],\n",
       "       [-0.8833864 , -1.1219231 , -0.85508781],\n",
       "       [-0.8833864 , -0.04574421, -0.85508781],\n",
       "       [ 2.37068077, -0.04574421,  0.92546788],\n",
       "       [-0.8833864 , -0.2414131 , -0.33575907],\n",
       "       [-1.24494942, -0.53491644,  0.03519004],\n",
       "       [ 0.20130265, -0.04574421, -0.33575907],\n",
       "       [-0.16026037,  0.6390969 , -0.70670817]])"
      ]
     },
     "execution_count": 26,
     "metadata": {},
     "output_type": "execute_result"
    }
   ],
   "source": [
    "data_test_scaled = scaler.transform(data_test[numerical_features])\n",
    "data_test_scaled[:10]"
   ]
  },
  {
   "cell_type": "code",
   "execution_count": 27,
   "metadata": {},
   "outputs": [
    {
     "data": {
      "text/plain": [
       "array([[0., 1., 0., 1., 0., 1., 0., 1., 0., 0., 1., 0., 0.],\n",
       "       [1., 0., 0., 1., 0., 1., 0., 1., 0., 0., 0., 0., 1.],\n",
       "       [1., 0., 0., 1., 1., 0., 0., 0., 1., 0., 0., 0., 1.],\n",
       "       [1., 0., 0., 1., 1., 0., 0., 0., 0., 1., 0., 0., 1.],\n",
       "       [1., 0., 0., 1., 1., 0., 0., 0., 0., 1., 0., 0., 1.],\n",
       "       [1., 0., 0., 1., 0., 1., 1., 0., 0., 0., 0., 0., 1.],\n",
       "       [1., 0., 0., 1., 1., 0., 0., 1., 0., 0., 0., 0., 1.],\n",
       "       [0., 1., 0., 1., 0., 1., 1., 0., 0., 0., 1., 0., 0.],\n",
       "       [1., 0., 0., 1., 1., 0., 0., 0., 0., 1., 0., 0., 1.],\n",
       "       [0., 1., 0., 1., 1., 0., 0., 0., 0., 1., 0., 0., 1.]])"
      ]
     },
     "execution_count": 27,
     "metadata": {},
     "output_type": "execute_result"
    }
   ],
   "source": [
    "data_test_ohe = ohe.transform(data_test[to_dummies])\n",
    "data_test_ohe[:10]"
   ]
  },
  {
   "cell_type": "code",
   "execution_count": 28,
   "metadata": {},
   "outputs": [
    {
     "data": {
      "text/html": [
       "<div>\n",
       "<style scoped>\n",
       "    .dataframe tbody tr th:only-of-type {\n",
       "        vertical-align: middle;\n",
       "    }\n",
       "\n",
       "    .dataframe tbody tr th {\n",
       "        vertical-align: top;\n",
       "    }\n",
       "\n",
       "    .dataframe thead th {\n",
       "        text-align: right;\n",
       "    }\n",
       "</style>\n",
       "<table border=\"1\" class=\"dataframe\">\n",
       "  <thead>\n",
       "    <tr style=\"text-align: right;\">\n",
       "      <th></th>\n",
       "      <th>Age</th>\n",
       "      <th>Height</th>\n",
       "      <th>Weight</th>\n",
       "      <th>x0_female</th>\n",
       "      <th>x0_male</th>\n",
       "      <th>x1_left handed</th>\n",
       "      <th>x1_right handed</th>\n",
       "      <th>x2_city</th>\n",
       "      <th>x2_village</th>\n",
       "      <th>x3_current smoker</th>\n",
       "      <th>x3_former smoker</th>\n",
       "      <th>x3_never smoked</th>\n",
       "      <th>x3_tried smoking</th>\n",
       "      <th>x4_drink a lot</th>\n",
       "      <th>x4_never</th>\n",
       "      <th>x4_social drinker</th>\n",
       "    </tr>\n",
       "  </thead>\n",
       "  <tbody>\n",
       "    <tr>\n",
       "      <th>0</th>\n",
       "      <td>-0.160260</td>\n",
       "      <td>1.128269</td>\n",
       "      <td>1.370607</td>\n",
       "      <td>0.0</td>\n",
       "      <td>1.0</td>\n",
       "      <td>0.0</td>\n",
       "      <td>1.0</td>\n",
       "      <td>0.0</td>\n",
       "      <td>1.0</td>\n",
       "      <td>0.0</td>\n",
       "      <td>1.0</td>\n",
       "      <td>0.0</td>\n",
       "      <td>0.0</td>\n",
       "      <td>1.0</td>\n",
       "      <td>0.0</td>\n",
       "      <td>0.0</td>\n",
       "    </tr>\n",
       "    <tr>\n",
       "      <th>1</th>\n",
       "      <td>-0.883386</td>\n",
       "      <td>-1.415426</td>\n",
       "      <td>-1.226037</td>\n",
       "      <td>1.0</td>\n",
       "      <td>0.0</td>\n",
       "      <td>0.0</td>\n",
       "      <td>1.0</td>\n",
       "      <td>0.0</td>\n",
       "      <td>1.0</td>\n",
       "      <td>0.0</td>\n",
       "      <td>1.0</td>\n",
       "      <td>0.0</td>\n",
       "      <td>0.0</td>\n",
       "      <td>0.0</td>\n",
       "      <td>0.0</td>\n",
       "      <td>1.0</td>\n",
       "    </tr>\n",
       "    <tr>\n",
       "      <th>2</th>\n",
       "      <td>-1.244949</td>\n",
       "      <td>-0.730585</td>\n",
       "      <td>-0.929278</td>\n",
       "      <td>1.0</td>\n",
       "      <td>0.0</td>\n",
       "      <td>0.0</td>\n",
       "      <td>1.0</td>\n",
       "      <td>1.0</td>\n",
       "      <td>0.0</td>\n",
       "      <td>0.0</td>\n",
       "      <td>0.0</td>\n",
       "      <td>1.0</td>\n",
       "      <td>0.0</td>\n",
       "      <td>0.0</td>\n",
       "      <td>0.0</td>\n",
       "      <td>1.0</td>\n",
       "    </tr>\n",
       "    <tr>\n",
       "      <th>3</th>\n",
       "      <td>-0.883386</td>\n",
       "      <td>-1.121923</td>\n",
       "      <td>-0.855088</td>\n",
       "      <td>1.0</td>\n",
       "      <td>0.0</td>\n",
       "      <td>0.0</td>\n",
       "      <td>1.0</td>\n",
       "      <td>1.0</td>\n",
       "      <td>0.0</td>\n",
       "      <td>0.0</td>\n",
       "      <td>0.0</td>\n",
       "      <td>0.0</td>\n",
       "      <td>1.0</td>\n",
       "      <td>0.0</td>\n",
       "      <td>0.0</td>\n",
       "      <td>1.0</td>\n",
       "    </tr>\n",
       "    <tr>\n",
       "      <th>4</th>\n",
       "      <td>-0.883386</td>\n",
       "      <td>-0.045744</td>\n",
       "      <td>-0.855088</td>\n",
       "      <td>1.0</td>\n",
       "      <td>0.0</td>\n",
       "      <td>0.0</td>\n",
       "      <td>1.0</td>\n",
       "      <td>1.0</td>\n",
       "      <td>0.0</td>\n",
       "      <td>0.0</td>\n",
       "      <td>0.0</td>\n",
       "      <td>0.0</td>\n",
       "      <td>1.0</td>\n",
       "      <td>0.0</td>\n",
       "      <td>0.0</td>\n",
       "      <td>1.0</td>\n",
       "    </tr>\n",
       "  </tbody>\n",
       "</table>\n",
       "</div>"
      ],
      "text/plain": [
       "        Age    Height    Weight  x0_female  x0_male  x1_left handed  \\\n",
       "0 -0.160260  1.128269  1.370607        0.0      1.0             0.0   \n",
       "1 -0.883386 -1.415426 -1.226037        1.0      0.0             0.0   \n",
       "2 -1.244949 -0.730585 -0.929278        1.0      0.0             0.0   \n",
       "3 -0.883386 -1.121923 -0.855088        1.0      0.0             0.0   \n",
       "4 -0.883386 -0.045744 -0.855088        1.0      0.0             0.0   \n",
       "\n",
       "   x1_right handed  x2_city  x2_village  x3_current smoker  x3_former smoker  \\\n",
       "0              1.0      0.0         1.0                0.0               1.0   \n",
       "1              1.0      0.0         1.0                0.0               1.0   \n",
       "2              1.0      1.0         0.0                0.0               0.0   \n",
       "3              1.0      1.0         0.0                0.0               0.0   \n",
       "4              1.0      1.0         0.0                0.0               0.0   \n",
       "\n",
       "   x3_never smoked  x3_tried smoking  x4_drink a lot  x4_never  \\\n",
       "0              0.0               0.0             1.0       0.0   \n",
       "1              0.0               0.0             0.0       0.0   \n",
       "2              1.0               0.0             0.0       0.0   \n",
       "3              0.0               1.0             0.0       0.0   \n",
       "4              0.0               1.0             0.0       0.0   \n",
       "\n",
       "   x4_social drinker  \n",
       "0                0.0  \n",
       "1                1.0  \n",
       "2                1.0  \n",
       "3                1.0  \n",
       "4                1.0  "
      ]
     },
     "execution_count": 28,
     "metadata": {},
     "output_type": "execute_result"
    }
   ],
   "source": [
    "data_test_tramsformed = pd.concat([pd.DataFrame(data_test_scaled, columns=numerical_features),\n",
    "                                    pd.DataFrame(data_test_ohe, columns=ohe.get_feature_names()),\n",
    "                                    #pd.DataFrame(data_test[categorical_features].values)\n",
    "                                  ], axis=1)\n",
    "data_test_tramsformed.head()"
   ]
  },
  {
   "cell_type": "code",
   "execution_count": 29,
   "metadata": {},
   "outputs": [],
   "source": [
    "preds = model.predict(data_test_tramsformed)"
   ]
  },
  {
   "cell_type": "code",
   "execution_count": 30,
   "metadata": {},
   "outputs": [
    {
     "name": "stdout",
     "output_type": "stream",
     "text": [
      "              precision    recall  f1-score   support\n",
      "\n",
      "          -1       0.00      0.00      0.00        65\n",
      "           0       0.50      0.99      0.66        93\n",
      "           1       0.00      0.00      0.00        27\n",
      "\n",
      "    accuracy                           0.50       185\n",
      "   macro avg       0.17      0.33      0.22       185\n",
      "weighted avg       0.25      0.50      0.33       185\n",
      "\n"
     ]
    }
   ],
   "source": [
    "print(classification_report(data_test[target], preds))"
   ]
  },
  {
   "cell_type": "markdown",
   "metadata": {},
   "source": [
    "## Что не так с этим способом?"
   ]
  },
  {
   "cell_type": "markdown",
   "metadata": {},
   "source": [
    "<div class=\"alert alert-warning\">\n",
    "\n",
    "\n",
    " - Дублируем код ли кода\n",
    "\n",
    " - Сложно маштабировать\n",
    "\n",
    " - Сложно поддерживать свой код\n",
    "    \n",
    " - Много времени("
   ]
  },
  {
   "cell_type": "markdown",
   "metadata": {},
   "source": [
    "Как сохранить всю эту махину? "
   ]
  },
  {
   "cell_type": "code",
   "execution_count": null,
   "metadata": {},
   "outputs": [],
   "source": [
    " "
   ]
  },
  {
   "cell_type": "markdown",
   "metadata": {},
   "source": [
    "# Как пишут код true-датасаентисты - The pipeline way "
   ]
  },
  {
   "cell_type": "markdown",
   "metadata": {},
   "source": [
    "<div>\n",
    "<img src=\"https://i.pinimg.com/564x/41/d2/4b/41d24b25710d7746b22a7eb34316952c.jpg\" width=\"500\"/>\n",
    "</div>"
   ]
  },
  {
   "cell_type": "markdown",
   "metadata": {},
   "source": [
    "<div class=\"alert alert-info\">\n",
    "\n",
    "Pipeline позволяет обернуть сразу несколько этапов обработки данных в один объект\n",
    "\n",
    "- **FunctionTransformer**: преобразует функцию в трансформер\n",
    "- **FeatureUnion**: объединяет результаты нескольких трансформеров в один датасет\n",
    "- **ColumnTransformer**: выбирает определенные колонки\n",
    "- **make_pipeline**: удобная обертка для создания пайплайна, можно использовать вместо Pipeline "
   ]
  },
  {
   "cell_type": "code",
   "execution_count": null,
   "metadata": {},
   "outputs": [],
   "source": [
    " "
   ]
  },
  {
   "cell_type": "code",
   "execution_count": 31,
   "metadata": {},
   "outputs": [],
   "source": [
    "# Гости этого вечера. Нужные нам фрагменты для сборки пайплайна\n",
    "\n",
    "from sklearn.pipeline import Pipeline, make_pipeline, FeatureUnion\n",
    "from sklearn.compose import ColumnTransformer, make_column_selector\n",
    "\n",
    "from sklearn.impute import SimpleImputer, KNNImputer\n",
    "from sklearn.feature_selection import SelectKBest, chi2, f_classif"
   ]
  },
  {
   "cell_type": "code",
   "execution_count": 59,
   "metadata": {},
   "outputs": [
    {
     "data": {
      "text/html": [
       "<style>#sk-671cc1e3-6e2b-44eb-be61-c894b30da59d {color: black;background-color: white;}#sk-671cc1e3-6e2b-44eb-be61-c894b30da59d pre{padding: 0;}#sk-671cc1e3-6e2b-44eb-be61-c894b30da59d div.sk-toggleable {background-color: white;}#sk-671cc1e3-6e2b-44eb-be61-c894b30da59d label.sk-toggleable__label {cursor: pointer;display: block;width: 100%;margin-bottom: 0;padding: 0.3em;box-sizing: border-box;text-align: center;}#sk-671cc1e3-6e2b-44eb-be61-c894b30da59d div.sk-toggleable__content {max-height: 0;max-width: 0;overflow: hidden;text-align: left;background-color: #f0f8ff;}#sk-671cc1e3-6e2b-44eb-be61-c894b30da59d div.sk-toggleable__content pre {margin: 0.2em;color: black;border-radius: 0.25em;background-color: #f0f8ff;}#sk-671cc1e3-6e2b-44eb-be61-c894b30da59d input.sk-toggleable__control:checked~div.sk-toggleable__content {max-height: 200px;max-width: 100%;overflow: auto;}#sk-671cc1e3-6e2b-44eb-be61-c894b30da59d div.sk-estimator input.sk-toggleable__control:checked~label.sk-toggleable__label {background-color: #d4ebff;}#sk-671cc1e3-6e2b-44eb-be61-c894b30da59d div.sk-label input.sk-toggleable__control:checked~label.sk-toggleable__label {background-color: #d4ebff;}#sk-671cc1e3-6e2b-44eb-be61-c894b30da59d input.sk-hidden--visually {border: 0;clip: rect(1px 1px 1px 1px);clip: rect(1px, 1px, 1px, 1px);height: 1px;margin: -1px;overflow: hidden;padding: 0;position: absolute;width: 1px;}#sk-671cc1e3-6e2b-44eb-be61-c894b30da59d div.sk-estimator {font-family: monospace;background-color: #f0f8ff;border: 1px dotted black;border-radius: 0.25em;box-sizing: border-box;margin-bottom: 0.5em;}#sk-671cc1e3-6e2b-44eb-be61-c894b30da59d div.sk-estimator:hover {background-color: #d4ebff;}#sk-671cc1e3-6e2b-44eb-be61-c894b30da59d div.sk-parallel-item::after {content: \"\";width: 100%;border-bottom: 1px solid gray;flex-grow: 1;}#sk-671cc1e3-6e2b-44eb-be61-c894b30da59d div.sk-label:hover label.sk-toggleable__label {background-color: #d4ebff;}#sk-671cc1e3-6e2b-44eb-be61-c894b30da59d div.sk-serial::before {content: \"\";position: absolute;border-left: 1px solid gray;box-sizing: border-box;top: 2em;bottom: 0;left: 50%;}#sk-671cc1e3-6e2b-44eb-be61-c894b30da59d div.sk-serial {display: flex;flex-direction: column;align-items: center;background-color: white;padding-right: 0.2em;padding-left: 0.2em;}#sk-671cc1e3-6e2b-44eb-be61-c894b30da59d div.sk-item {z-index: 1;}#sk-671cc1e3-6e2b-44eb-be61-c894b30da59d div.sk-parallel {display: flex;align-items: stretch;justify-content: center;background-color: white;}#sk-671cc1e3-6e2b-44eb-be61-c894b30da59d div.sk-parallel::before {content: \"\";position: absolute;border-left: 1px solid gray;box-sizing: border-box;top: 2em;bottom: 0;left: 50%;}#sk-671cc1e3-6e2b-44eb-be61-c894b30da59d div.sk-parallel-item {display: flex;flex-direction: column;position: relative;background-color: white;}#sk-671cc1e3-6e2b-44eb-be61-c894b30da59d div.sk-parallel-item:first-child::after {align-self: flex-end;width: 50%;}#sk-671cc1e3-6e2b-44eb-be61-c894b30da59d div.sk-parallel-item:last-child::after {align-self: flex-start;width: 50%;}#sk-671cc1e3-6e2b-44eb-be61-c894b30da59d div.sk-parallel-item:only-child::after {width: 0;}#sk-671cc1e3-6e2b-44eb-be61-c894b30da59d div.sk-dashed-wrapped {border: 1px dashed gray;margin: 0 0.4em 0.5em 0.4em;box-sizing: border-box;padding-bottom: 0.4em;background-color: white;position: relative;}#sk-671cc1e3-6e2b-44eb-be61-c894b30da59d div.sk-label label {font-family: monospace;font-weight: bold;background-color: white;display: inline-block;line-height: 1.2em;}#sk-671cc1e3-6e2b-44eb-be61-c894b30da59d div.sk-label-container {position: relative;z-index: 2;text-align: center;}#sk-671cc1e3-6e2b-44eb-be61-c894b30da59d div.sk-container {display: inline-block;position: relative;}</style><div id=\"sk-671cc1e3-6e2b-44eb-be61-c894b30da59d\" class\"sk-top-container\"><div class=\"sk-container\"><div class=\"sk-item sk-dashed-wrapped\"><div class=\"sk-label-container\"><div class=\"sk-label sk-toggleable\"><input class=\"sk-toggleable__control sk-hidden--visually\" id=\"2b7e138a-6a18-46f5-ba34-a7ee26f845a2\" type=\"checkbox\" ><label class=\"sk-toggleable__label\" for=\"2b7e138a-6a18-46f5-ba34-a7ee26f845a2\">Pipeline</label><div class=\"sk-toggleable__content\"><pre>Pipeline(steps=[('preprocessor',\n",
       "                 Pipeline(steps=[('data_transformer',\n",
       "                                  ColumnTransformer(transformers=[('numerical',\n",
       "                                                                   Pipeline(steps=[('imputer',\n",
       "                                                                                    SimpleImputer()),\n",
       "                                                                                   ('scaler',\n",
       "                                                                                    StandardScaler()),\n",
       "                                                                                   ('fs',\n",
       "                                                                                    SelectKBest(k='all'))]),\n",
       "                                                                   ['Age',\n",
       "                                                                    'Height',\n",
       "                                                                    'Weight']),\n",
       "                                                                  ('categorical',\n",
       "                                                                   Pipeline(steps=[('imputer',\n",
       "                                                                                    SimpleImputer()),\n",
       "                                                                                   ('onehot',\n",
       "                                                                                    OneHotEncoder(handle_unknown='ignore'))]),\n",
       "                                                                   ['Getting '\n",
       "                                                                    'up',\n",
       "                                                                    'God',\n",
       "                                                                    'Health',\n",
       "                                                                    'Borrowed '\n",
       "                                                                    'stuff',\n",
       "                                                                    'Self-criticism',\n",
       "                                                                    'Elections',\n",
       "                                                                    'Number of '\n",
       "                                                                    'friends',\n",
       "                                                                    'Spending '\n",
       "                                                                    'on '\n",
       "                                                                    'healthy '\n",
       "                                                                    'eating',\n",
       "                                                                    'Music',\n",
       "                                                                    'Movies',\n",
       "                                                                    'Friends '\n",
       "                                                                    'versus '\n",
       "                                                                    'money',\n",
       "                                                                    'Changing '\n",
       "                                                                    'the '\n",
       "                                                                    'past'])]))])),\n",
       "                ('classifier', LogisticRegression())])</pre></div></div></div><div class=\"sk-serial\"><div class=\"sk-item\"><div class=\"sk-label-container\"><div class=\"sk-label sk-toggleable\"><input class=\"sk-toggleable__control sk-hidden--visually\" id=\"9b22f5a1-caf9-439a-be1b-798c5e91b7c8\" type=\"checkbox\" ><label class=\"sk-toggleable__label\" for=\"9b22f5a1-caf9-439a-be1b-798c5e91b7c8\">preprocessor: Pipeline</label><div class=\"sk-toggleable__content\"><pre>Pipeline(steps=[('data_transformer',\n",
       "                 ColumnTransformer(transformers=[('numerical',\n",
       "                                                  Pipeline(steps=[('imputer',\n",
       "                                                                   SimpleImputer()),\n",
       "                                                                  ('scaler',\n",
       "                                                                   StandardScaler()),\n",
       "                                                                  ('fs',\n",
       "                                                                   SelectKBest(k='all'))]),\n",
       "                                                  ['Age', 'Height', 'Weight']),\n",
       "                                                 ('categorical',\n",
       "                                                  Pipeline(steps=[('imputer',\n",
       "                                                                   SimpleImputer()),\n",
       "                                                                  ('onehot',\n",
       "                                                                   OneHotEncoder(handle_unknown='ignore'))]),\n",
       "                                                  ['Getting up', 'God',\n",
       "                                                   'Health', 'Borrowed stuff',\n",
       "                                                   'Self-criticism',\n",
       "                                                   'Elections',\n",
       "                                                   'Number of friends',\n",
       "                                                   'Spending on healthy eating',\n",
       "                                                   'Music', 'Movies',\n",
       "                                                   'Friends versus money',\n",
       "                                                   'Changing the past'])]))])</pre></div></div></div><div class=\"sk-serial\"><div class=\"sk-item sk-dashed-wrapped\"><div class=\"sk-label-container\"><div class=\"sk-label sk-toggleable\"><input class=\"sk-toggleable__control sk-hidden--visually\" id=\"6cdc0970-716c-47a4-83ba-88cf59941ffe\" type=\"checkbox\" ><label class=\"sk-toggleable__label\" for=\"6cdc0970-716c-47a4-83ba-88cf59941ffe\">data_transformer: ColumnTransformer</label><div class=\"sk-toggleable__content\"><pre>ColumnTransformer(transformers=[('numerical',\n",
       "                                 Pipeline(steps=[('imputer', SimpleImputer()),\n",
       "                                                 ('scaler', StandardScaler()),\n",
       "                                                 ('fs', SelectKBest(k='all'))]),\n",
       "                                 ['Age', 'Height', 'Weight']),\n",
       "                                ('categorical',\n",
       "                                 Pipeline(steps=[('imputer', SimpleImputer()),\n",
       "                                                 ('onehot',\n",
       "                                                  OneHotEncoder(handle_unknown='ignore'))]),\n",
       "                                 ['Getting up', 'God', 'Health',\n",
       "                                  'Borrowed stuff', 'Self-criticism',\n",
       "                                  'Elections', 'Number of friends',\n",
       "                                  'Spending on healthy eating', 'Music',\n",
       "                                  'Movies', 'Friends versus money',\n",
       "                                  'Changing the past'])])</pre></div></div></div><div class=\"sk-parallel\"><div class=\"sk-parallel-item\"><div class=\"sk-item\"><div class=\"sk-label-container\"><div class=\"sk-label sk-toggleable\"><input class=\"sk-toggleable__control sk-hidden--visually\" id=\"021c8163-d6d2-4f0b-994f-ee061bcb5839\" type=\"checkbox\" ><label class=\"sk-toggleable__label\" for=\"021c8163-d6d2-4f0b-994f-ee061bcb5839\">numerical</label><div class=\"sk-toggleable__content\"><pre>['Age', 'Height', 'Weight']</pre></div></div></div><div class=\"sk-serial\"><div class=\"sk-item\"><div class=\"sk-serial\"><div class=\"sk-item\"><div class=\"sk-estimator sk-toggleable\"><input class=\"sk-toggleable__control sk-hidden--visually\" id=\"9fb947cd-13c3-4006-9e74-dcd4d5603a67\" type=\"checkbox\" ><label class=\"sk-toggleable__label\" for=\"9fb947cd-13c3-4006-9e74-dcd4d5603a67\">SimpleImputer</label><div class=\"sk-toggleable__content\"><pre>SimpleImputer()</pre></div></div></div><div class=\"sk-item\"><div class=\"sk-estimator sk-toggleable\"><input class=\"sk-toggleable__control sk-hidden--visually\" id=\"e7c9249a-9ff0-437a-94d2-d93f298c55f0\" type=\"checkbox\" ><label class=\"sk-toggleable__label\" for=\"e7c9249a-9ff0-437a-94d2-d93f298c55f0\">StandardScaler</label><div class=\"sk-toggleable__content\"><pre>StandardScaler()</pre></div></div></div><div class=\"sk-item\"><div class=\"sk-estimator sk-toggleable\"><input class=\"sk-toggleable__control sk-hidden--visually\" id=\"8557b537-0327-46a6-92cc-2ee1fadb6955\" type=\"checkbox\" ><label class=\"sk-toggleable__label\" for=\"8557b537-0327-46a6-92cc-2ee1fadb6955\">SelectKBest</label><div class=\"sk-toggleable__content\"><pre>SelectKBest(k='all')</pre></div></div></div></div></div></div></div></div><div class=\"sk-parallel-item\"><div class=\"sk-item\"><div class=\"sk-label-container\"><div class=\"sk-label sk-toggleable\"><input class=\"sk-toggleable__control sk-hidden--visually\" id=\"0c0d8738-31d9-47ed-aead-2b2b2f44ada8\" type=\"checkbox\" ><label class=\"sk-toggleable__label\" for=\"0c0d8738-31d9-47ed-aead-2b2b2f44ada8\">categorical</label><div class=\"sk-toggleable__content\"><pre>['Getting up', 'God', 'Health', 'Borrowed stuff', 'Self-criticism', 'Elections', 'Number of friends', 'Spending on healthy eating', 'Music', 'Movies', 'Friends versus money', 'Changing the past']</pre></div></div></div><div class=\"sk-serial\"><div class=\"sk-item\"><div class=\"sk-serial\"><div class=\"sk-item\"><div class=\"sk-estimator sk-toggleable\"><input class=\"sk-toggleable__control sk-hidden--visually\" id=\"407d8d64-ea35-47df-9ffa-bc1df297e1d2\" type=\"checkbox\" ><label class=\"sk-toggleable__label\" for=\"407d8d64-ea35-47df-9ffa-bc1df297e1d2\">SimpleImputer</label><div class=\"sk-toggleable__content\"><pre>SimpleImputer()</pre></div></div></div><div class=\"sk-item\"><div class=\"sk-estimator sk-toggleable\"><input class=\"sk-toggleable__control sk-hidden--visually\" id=\"139e1e01-cebb-4742-84dc-9f5fc168ff7a\" type=\"checkbox\" ><label class=\"sk-toggleable__label\" for=\"139e1e01-cebb-4742-84dc-9f5fc168ff7a\">OneHotEncoder</label><div class=\"sk-toggleable__content\"><pre>OneHotEncoder(handle_unknown='ignore')</pre></div></div></div></div></div></div></div></div></div></div></div></div><div class=\"sk-item\"><div class=\"sk-estimator sk-toggleable\"><input class=\"sk-toggleable__control sk-hidden--visually\" id=\"79502b97-1aad-4673-b8ea-629934b2bbf9\" type=\"checkbox\" ><label class=\"sk-toggleable__label\" for=\"79502b97-1aad-4673-b8ea-629934b2bbf9\">LogisticRegression</label><div class=\"sk-toggleable__content\"><pre>LogisticRegression()</pre></div></div></div></div></div></div></div>"
      ],
      "text/plain": [
       "Pipeline(steps=[('preprocessor',\n",
       "                 Pipeline(steps=[('data_transformer',\n",
       "                                  ColumnTransformer(transformers=[('numerical',\n",
       "                                                                   Pipeline(steps=[('imputer',\n",
       "                                                                                    SimpleImputer()),\n",
       "                                                                                   ('scaler',\n",
       "                                                                                    StandardScaler()),\n",
       "                                                                                   ('fs',\n",
       "                                                                                    SelectKBest(k='all'))]),\n",
       "                                                                   ['Age',\n",
       "                                                                    'Height',\n",
       "                                                                    'Weight']),\n",
       "                                                                  ('categorical',\n",
       "                                                                   Pipeline(steps=[('imputer',\n",
       "                                                                                    SimpleImputer()),\n",
       "                                                                                   ('onehot',\n",
       "                                                                                    OneHotEncoder(handle_unknown='ignore'))]),\n",
       "                                                                   ['Getting '\n",
       "                                                                    'up',\n",
       "                                                                    'God',\n",
       "                                                                    'Health',\n",
       "                                                                    'Borrowed '\n",
       "                                                                    'stuff',\n",
       "                                                                    'Self-criticism',\n",
       "                                                                    'Elections',\n",
       "                                                                    'Number of '\n",
       "                                                                    'friends',\n",
       "                                                                    'Spending '\n",
       "                                                                    'on '\n",
       "                                                                    'healthy '\n",
       "                                                                    'eating',\n",
       "                                                                    'Music',\n",
       "                                                                    'Movies',\n",
       "                                                                    'Friends '\n",
       "                                                                    'versus '\n",
       "                                                                    'money',\n",
       "                                                                    'Changing '\n",
       "                                                                    'the '\n",
       "                                                                    'past'])]))])),\n",
       "                ('classifier', LogisticRegression())])"
      ]
     },
     "execution_count": 59,
     "metadata": {},
     "output_type": "execute_result"
    }
   ],
   "source": [
    "#   Для категориальных - применяем SimpleImputer, а затем StandardScaler\n",
    "numerical_transformer = Pipeline(steps=[\n",
    "    (\"imputer\", SimpleImputer()),\n",
    "    (\"scaler\", StandardScaler()),\n",
    "    (\"fs\", SelectKBest(score_func=f_classif, k=\"all\")),\n",
    "])\n",
    "\n",
    "#   Для категориальных - применяем SimpleImputer, а затем OneHotEncoder\n",
    "categorical_transformer = Pipeline(steps=[\n",
    "    (\"imputer\", SimpleImputer()),\n",
    "    (\"onehot\", OneHotEncoder(handle_unknown=\"ignore\")),\n",
    "])\n",
    "\n",
    "# Собираем воедино трансформеры для числовых и категориальных признаков\n",
    "data_transformer = ColumnTransformer(transformers=[\n",
    "    (\"numerical\", numerical_transformer, numerical_features),\n",
    "    (\"categorical\", categorical_transformer, categorical_features),\n",
    "])\n",
    "\n",
    "# Создание конвейера препроцессора, который сначала преобразует данные\n",
    "preprocessor = Pipeline(steps=[(\"data_transformer\", data_transformer)])\n",
    "\n",
    "classifier_pipline = Pipeline(\n",
    "    steps=[(\"preprocessor\", preprocessor), \n",
    "           (\"classifier\", LogisticRegression())])\n",
    "\n",
    "classifier_pipline"
   ]
  },
  {
   "cell_type": "markdown",
   "metadata": {},
   "source": [
    "# Добавим магии - отрисовка!"
   ]
  },
  {
   "cell_type": "code",
   "execution_count": 33,
   "metadata": {},
   "outputs": [],
   "source": [
    "import sklearn\n",
    "sklearn.set_config(display='diagram') #Подключим визуал"
   ]
  },
  {
   "cell_type": "code",
   "execution_count": 34,
   "metadata": {},
   "outputs": [
    {
     "data": {
      "text/html": [
       "<style>#sk-74e8c23d-71a5-4a88-9f30-ad3468fda154 {color: black;background-color: white;}#sk-74e8c23d-71a5-4a88-9f30-ad3468fda154 pre{padding: 0;}#sk-74e8c23d-71a5-4a88-9f30-ad3468fda154 div.sk-toggleable {background-color: white;}#sk-74e8c23d-71a5-4a88-9f30-ad3468fda154 label.sk-toggleable__label {cursor: pointer;display: block;width: 100%;margin-bottom: 0;padding: 0.3em;box-sizing: border-box;text-align: center;}#sk-74e8c23d-71a5-4a88-9f30-ad3468fda154 div.sk-toggleable__content {max-height: 0;max-width: 0;overflow: hidden;text-align: left;background-color: #f0f8ff;}#sk-74e8c23d-71a5-4a88-9f30-ad3468fda154 div.sk-toggleable__content pre {margin: 0.2em;color: black;border-radius: 0.25em;background-color: #f0f8ff;}#sk-74e8c23d-71a5-4a88-9f30-ad3468fda154 input.sk-toggleable__control:checked~div.sk-toggleable__content {max-height: 200px;max-width: 100%;overflow: auto;}#sk-74e8c23d-71a5-4a88-9f30-ad3468fda154 div.sk-estimator input.sk-toggleable__control:checked~label.sk-toggleable__label {background-color: #d4ebff;}#sk-74e8c23d-71a5-4a88-9f30-ad3468fda154 div.sk-label input.sk-toggleable__control:checked~label.sk-toggleable__label {background-color: #d4ebff;}#sk-74e8c23d-71a5-4a88-9f30-ad3468fda154 input.sk-hidden--visually {border: 0;clip: rect(1px 1px 1px 1px);clip: rect(1px, 1px, 1px, 1px);height: 1px;margin: -1px;overflow: hidden;padding: 0;position: absolute;width: 1px;}#sk-74e8c23d-71a5-4a88-9f30-ad3468fda154 div.sk-estimator {font-family: monospace;background-color: #f0f8ff;border: 1px dotted black;border-radius: 0.25em;box-sizing: border-box;margin-bottom: 0.5em;}#sk-74e8c23d-71a5-4a88-9f30-ad3468fda154 div.sk-estimator:hover {background-color: #d4ebff;}#sk-74e8c23d-71a5-4a88-9f30-ad3468fda154 div.sk-parallel-item::after {content: \"\";width: 100%;border-bottom: 1px solid gray;flex-grow: 1;}#sk-74e8c23d-71a5-4a88-9f30-ad3468fda154 div.sk-label:hover label.sk-toggleable__label {background-color: #d4ebff;}#sk-74e8c23d-71a5-4a88-9f30-ad3468fda154 div.sk-serial::before {content: \"\";position: absolute;border-left: 1px solid gray;box-sizing: border-box;top: 2em;bottom: 0;left: 50%;}#sk-74e8c23d-71a5-4a88-9f30-ad3468fda154 div.sk-serial {display: flex;flex-direction: column;align-items: center;background-color: white;padding-right: 0.2em;padding-left: 0.2em;}#sk-74e8c23d-71a5-4a88-9f30-ad3468fda154 div.sk-item {z-index: 1;}#sk-74e8c23d-71a5-4a88-9f30-ad3468fda154 div.sk-parallel {display: flex;align-items: stretch;justify-content: center;background-color: white;}#sk-74e8c23d-71a5-4a88-9f30-ad3468fda154 div.sk-parallel::before {content: \"\";position: absolute;border-left: 1px solid gray;box-sizing: border-box;top: 2em;bottom: 0;left: 50%;}#sk-74e8c23d-71a5-4a88-9f30-ad3468fda154 div.sk-parallel-item {display: flex;flex-direction: column;position: relative;background-color: white;}#sk-74e8c23d-71a5-4a88-9f30-ad3468fda154 div.sk-parallel-item:first-child::after {align-self: flex-end;width: 50%;}#sk-74e8c23d-71a5-4a88-9f30-ad3468fda154 div.sk-parallel-item:last-child::after {align-self: flex-start;width: 50%;}#sk-74e8c23d-71a5-4a88-9f30-ad3468fda154 div.sk-parallel-item:only-child::after {width: 0;}#sk-74e8c23d-71a5-4a88-9f30-ad3468fda154 div.sk-dashed-wrapped {border: 1px dashed gray;margin: 0 0.4em 0.5em 0.4em;box-sizing: border-box;padding-bottom: 0.4em;background-color: white;position: relative;}#sk-74e8c23d-71a5-4a88-9f30-ad3468fda154 div.sk-label label {font-family: monospace;font-weight: bold;background-color: white;display: inline-block;line-height: 1.2em;}#sk-74e8c23d-71a5-4a88-9f30-ad3468fda154 div.sk-label-container {position: relative;z-index: 2;text-align: center;}#sk-74e8c23d-71a5-4a88-9f30-ad3468fda154 div.sk-container {display: inline-block;position: relative;}</style><div id=\"sk-74e8c23d-71a5-4a88-9f30-ad3468fda154\" class\"sk-top-container\"><div class=\"sk-container\"><div class=\"sk-item sk-dashed-wrapped\"><div class=\"sk-label-container\"><div class=\"sk-label sk-toggleable\"><input class=\"sk-toggleable__control sk-hidden--visually\" id=\"e4ff1f10-665a-4fdd-8717-d6fb533e9cdd\" type=\"checkbox\" ><label class=\"sk-toggleable__label\" for=\"e4ff1f10-665a-4fdd-8717-d6fb533e9cdd\">Pipeline</label><div class=\"sk-toggleable__content\"><pre>Pipeline(steps=[('preprocessor',\n",
       "                 Pipeline(steps=[('data_transformer',\n",
       "                                  ColumnTransformer(transformers=[('numerical',\n",
       "                                                                   Pipeline(steps=[('imputer',\n",
       "                                                                                    SimpleImputer()),\n",
       "                                                                                   ('scaler',\n",
       "                                                                                    StandardScaler()),\n",
       "                                                                                   ('fs',\n",
       "                                                                                    SelectKBest(k='all'))]),\n",
       "                                                                   ['Age',\n",
       "                                                                    'Height',\n",
       "                                                                    'Weight']),\n",
       "                                                                  ('categorical',\n",
       "                                                                   Pipeline(steps=[('imputer',\n",
       "                                                                                    SimpleImputer()),\n",
       "                                                                                   ('onehot',\n",
       "                                                                                    OneHotEncoder(handle_unknown='ignore'))]),\n",
       "                                                                   ['Getting '\n",
       "                                                                    'up',\n",
       "                                                                    'God',\n",
       "                                                                    'Health',\n",
       "                                                                    'Borrowed '\n",
       "                                                                    'stuff',\n",
       "                                                                    'Self-criticism',\n",
       "                                                                    'Elections',\n",
       "                                                                    'Number of '\n",
       "                                                                    'friends',\n",
       "                                                                    'Spending '\n",
       "                                                                    'on '\n",
       "                                                                    'healthy '\n",
       "                                                                    'eating',\n",
       "                                                                    'Music',\n",
       "                                                                    'Movies',\n",
       "                                                                    'Friends '\n",
       "                                                                    'versus '\n",
       "                                                                    'money',\n",
       "                                                                    'Changing '\n",
       "                                                                    'the '\n",
       "                                                                    'past'])]))])),\n",
       "                ('classifier', LogisticRegression())])</pre></div></div></div><div class=\"sk-serial\"><div class=\"sk-item\"><div class=\"sk-label-container\"><div class=\"sk-label sk-toggleable\"><input class=\"sk-toggleable__control sk-hidden--visually\" id=\"21cfda96-5c32-4e05-87f8-af3d33b448b7\" type=\"checkbox\" ><label class=\"sk-toggleable__label\" for=\"21cfda96-5c32-4e05-87f8-af3d33b448b7\">preprocessor: Pipeline</label><div class=\"sk-toggleable__content\"><pre>Pipeline(steps=[('data_transformer',\n",
       "                 ColumnTransformer(transformers=[('numerical',\n",
       "                                                  Pipeline(steps=[('imputer',\n",
       "                                                                   SimpleImputer()),\n",
       "                                                                  ('scaler',\n",
       "                                                                   StandardScaler()),\n",
       "                                                                  ('fs',\n",
       "                                                                   SelectKBest(k='all'))]),\n",
       "                                                  ['Age', 'Height', 'Weight']),\n",
       "                                                 ('categorical',\n",
       "                                                  Pipeline(steps=[('imputer',\n",
       "                                                                   SimpleImputer()),\n",
       "                                                                  ('onehot',\n",
       "                                                                   OneHotEncoder(handle_unknown='ignore'))]),\n",
       "                                                  ['Getting up', 'God',\n",
       "                                                   'Health', 'Borrowed stuff',\n",
       "                                                   'Self-criticism',\n",
       "                                                   'Elections',\n",
       "                                                   'Number of friends',\n",
       "                                                   'Spending on healthy eating',\n",
       "                                                   'Music', 'Movies',\n",
       "                                                   'Friends versus money',\n",
       "                                                   'Changing the past'])]))])</pre></div></div></div><div class=\"sk-serial\"><div class=\"sk-item sk-dashed-wrapped\"><div class=\"sk-label-container\"><div class=\"sk-label sk-toggleable\"><input class=\"sk-toggleable__control sk-hidden--visually\" id=\"3b593cfd-5574-4ff1-ad1c-2ccc262bb833\" type=\"checkbox\" ><label class=\"sk-toggleable__label\" for=\"3b593cfd-5574-4ff1-ad1c-2ccc262bb833\">data_transformer: ColumnTransformer</label><div class=\"sk-toggleable__content\"><pre>ColumnTransformer(transformers=[('numerical',\n",
       "                                 Pipeline(steps=[('imputer', SimpleImputer()),\n",
       "                                                 ('scaler', StandardScaler()),\n",
       "                                                 ('fs', SelectKBest(k='all'))]),\n",
       "                                 ['Age', 'Height', 'Weight']),\n",
       "                                ('categorical',\n",
       "                                 Pipeline(steps=[('imputer', SimpleImputer()),\n",
       "                                                 ('onehot',\n",
       "                                                  OneHotEncoder(handle_unknown='ignore'))]),\n",
       "                                 ['Getting up', 'God', 'Health',\n",
       "                                  'Borrowed stuff', 'Self-criticism',\n",
       "                                  'Elections', 'Number of friends',\n",
       "                                  'Spending on healthy eating', 'Music',\n",
       "                                  'Movies', 'Friends versus money',\n",
       "                                  'Changing the past'])])</pre></div></div></div><div class=\"sk-parallel\"><div class=\"sk-parallel-item\"><div class=\"sk-item\"><div class=\"sk-label-container\"><div class=\"sk-label sk-toggleable\"><input class=\"sk-toggleable__control sk-hidden--visually\" id=\"08b2d2e2-7d5e-4ac0-9d09-e3d14866a4fb\" type=\"checkbox\" ><label class=\"sk-toggleable__label\" for=\"08b2d2e2-7d5e-4ac0-9d09-e3d14866a4fb\">numerical</label><div class=\"sk-toggleable__content\"><pre>['Age', 'Height', 'Weight']</pre></div></div></div><div class=\"sk-serial\"><div class=\"sk-item\"><div class=\"sk-serial\"><div class=\"sk-item\"><div class=\"sk-estimator sk-toggleable\"><input class=\"sk-toggleable__control sk-hidden--visually\" id=\"dbe192af-8609-4dcc-af30-50b4cf5005df\" type=\"checkbox\" ><label class=\"sk-toggleable__label\" for=\"dbe192af-8609-4dcc-af30-50b4cf5005df\">SimpleImputer</label><div class=\"sk-toggleable__content\"><pre>SimpleImputer()</pre></div></div></div><div class=\"sk-item\"><div class=\"sk-estimator sk-toggleable\"><input class=\"sk-toggleable__control sk-hidden--visually\" id=\"d7e25c49-917a-4b41-9d9c-6b7abd51be0b\" type=\"checkbox\" ><label class=\"sk-toggleable__label\" for=\"d7e25c49-917a-4b41-9d9c-6b7abd51be0b\">StandardScaler</label><div class=\"sk-toggleable__content\"><pre>StandardScaler()</pre></div></div></div><div class=\"sk-item\"><div class=\"sk-estimator sk-toggleable\"><input class=\"sk-toggleable__control sk-hidden--visually\" id=\"b49ff969-077b-4b9a-b2ea-51c07c7cddfa\" type=\"checkbox\" ><label class=\"sk-toggleable__label\" for=\"b49ff969-077b-4b9a-b2ea-51c07c7cddfa\">SelectKBest</label><div class=\"sk-toggleable__content\"><pre>SelectKBest(k='all')</pre></div></div></div></div></div></div></div></div><div class=\"sk-parallel-item\"><div class=\"sk-item\"><div class=\"sk-label-container\"><div class=\"sk-label sk-toggleable\"><input class=\"sk-toggleable__control sk-hidden--visually\" id=\"98ff847d-c740-4b78-aae9-eb1fdacabfff\" type=\"checkbox\" ><label class=\"sk-toggleable__label\" for=\"98ff847d-c740-4b78-aae9-eb1fdacabfff\">categorical</label><div class=\"sk-toggleable__content\"><pre>['Getting up', 'God', 'Health', 'Borrowed stuff', 'Self-criticism', 'Elections', 'Number of friends', 'Spending on healthy eating', 'Music', 'Movies', 'Friends versus money', 'Changing the past']</pre></div></div></div><div class=\"sk-serial\"><div class=\"sk-item\"><div class=\"sk-serial\"><div class=\"sk-item\"><div class=\"sk-estimator sk-toggleable\"><input class=\"sk-toggleable__control sk-hidden--visually\" id=\"08e6b1e1-e53b-4028-8f0d-4c32ea80c2db\" type=\"checkbox\" ><label class=\"sk-toggleable__label\" for=\"08e6b1e1-e53b-4028-8f0d-4c32ea80c2db\">SimpleImputer</label><div class=\"sk-toggleable__content\"><pre>SimpleImputer()</pre></div></div></div><div class=\"sk-item\"><div class=\"sk-estimator sk-toggleable\"><input class=\"sk-toggleable__control sk-hidden--visually\" id=\"50637c29-55e8-4fde-95b3-dfb4d6da8c61\" type=\"checkbox\" ><label class=\"sk-toggleable__label\" for=\"50637c29-55e8-4fde-95b3-dfb4d6da8c61\">OneHotEncoder</label><div class=\"sk-toggleable__content\"><pre>OneHotEncoder(handle_unknown='ignore')</pre></div></div></div></div></div></div></div></div></div></div></div></div><div class=\"sk-item\"><div class=\"sk-estimator sk-toggleable\"><input class=\"sk-toggleable__control sk-hidden--visually\" id=\"48ac3644-cf9f-4270-947e-02fe1f5627b1\" type=\"checkbox\" ><label class=\"sk-toggleable__label\" for=\"48ac3644-cf9f-4270-947e-02fe1f5627b1\">LogisticRegression</label><div class=\"sk-toggleable__content\"><pre>LogisticRegression()</pre></div></div></div></div></div></div></div>"
      ],
      "text/plain": [
       "Pipeline(steps=[('preprocessor',\n",
       "                 Pipeline(steps=[('data_transformer',\n",
       "                                  ColumnTransformer(transformers=[('numerical',\n",
       "                                                                   Pipeline(steps=[('imputer',\n",
       "                                                                                    SimpleImputer()),\n",
       "                                                                                   ('scaler',\n",
       "                                                                                    StandardScaler()),\n",
       "                                                                                   ('fs',\n",
       "                                                                                    SelectKBest(k='all'))]),\n",
       "                                                                   ['Age',\n",
       "                                                                    'Height',\n",
       "                                                                    'Weight']),\n",
       "                                                                  ('categorical',\n",
       "                                                                   Pipeline(steps=[('imputer',\n",
       "                                                                                    SimpleImputer()),\n",
       "                                                                                   ('onehot',\n",
       "                                                                                    OneHotEncoder(handle_unknown='ignore'))]),\n",
       "                                                                   ['Getting '\n",
       "                                                                    'up',\n",
       "                                                                    'God',\n",
       "                                                                    'Health',\n",
       "                                                                    'Borrowed '\n",
       "                                                                    'stuff',\n",
       "                                                                    'Self-criticism',\n",
       "                                                                    'Elections',\n",
       "                                                                    'Number of '\n",
       "                                                                    'friends',\n",
       "                                                                    'Spending '\n",
       "                                                                    'on '\n",
       "                                                                    'healthy '\n",
       "                                                                    'eating',\n",
       "                                                                    'Music',\n",
       "                                                                    'Movies',\n",
       "                                                                    'Friends '\n",
       "                                                                    'versus '\n",
       "                                                                    'money',\n",
       "                                                                    'Changing '\n",
       "                                                                    'the '\n",
       "                                                                    'past'])]))])),\n",
       "                ('classifier', LogisticRegression())])"
      ]
     },
     "execution_count": 34,
     "metadata": {},
     "output_type": "execute_result"
    }
   ],
   "source": [
    "classifier_pipline"
   ]
  },
  {
   "cell_type": "code",
   "execution_count": 35,
   "metadata": {},
   "outputs": [
    {
     "name": "stdout",
     "output_type": "stream",
     "text": [
      "(740, 16) (185, 16)\n"
     ]
    }
   ],
   "source": [
    "from sklearn.model_selection import train_test_split\n",
    "\n",
    "data_train, data_test = train_test_split(data[all_features + target], test_size=0.2, stratify=data[target])\n",
    "print(data_train.shape, data_test.shape)"
   ]
  },
  {
   "cell_type": "code",
   "execution_count": 36,
   "metadata": {},
   "outputs": [],
   "source": [
    "# # data_train.columns\n",
    "# all_features"
   ]
  },
  {
   "cell_type": "code",
   "execution_count": null,
   "metadata": {},
   "outputs": [],
   "source": [
    "# data_train[all_features]"
   ]
  },
  {
   "cell_type": "code",
   "execution_count": 38,
   "metadata": {},
   "outputs": [
    {
     "name": "stdout",
     "output_type": "stream",
     "text": [
      "              precision    recall  f1-score   support\n",
      "\n",
      "          -1       0.51      0.51      0.51        65\n",
      "           0       0.57      0.66      0.61        93\n",
      "           1       0.62      0.30      0.40        27\n",
      "\n",
      "    accuracy                           0.55       185\n",
      "   macro avg       0.56      0.49      0.51       185\n",
      "weighted avg       0.55      0.55      0.54       185\n",
      "\n"
     ]
    }
   ],
   "source": [
    "\n",
    "classifier_pipline.fit(data_train[all_features], data_train[target])\n",
    "\n",
    "preds = classifier_pipline.predict(data_test[all_features])\n",
    "\n",
    "print(classification_report(data_test[target], preds))"
   ]
  },
  {
   "cell_type": "code",
   "execution_count": null,
   "metadata": {},
   "outputs": [],
   "source": [
    " "
   ]
  },
  {
   "cell_type": "code",
   "execution_count": null,
   "metadata": {},
   "outputs": [],
   "source": [
    " "
   ]
  },
  {
   "cell_type": "markdown",
   "metadata": {},
   "source": [
    "# А как подбирать параметры у этой всей махины??"
   ]
  },
  {
   "cell_type": "code",
   "execution_count": 39,
   "metadata": {},
   "outputs": [],
   "source": [
    "from sklearn.model_selection import GridSearchCV, RandomizedSearchCV\n",
    "\n",
    "from sklearn.metrics import f1_score, make_scorer\n",
    "\n",
    "f1 = make_scorer(f1_score, average=\"macro\")"
   ]
  },
  {
   "cell_type": "code",
   "execution_count": 60,
   "metadata": {},
   "outputs": [
    {
     "data": {
      "text/html": [
       "<style>#sk-e58f0513-1828-4860-bbc1-23a5b0dcba05 {color: black;background-color: white;}#sk-e58f0513-1828-4860-bbc1-23a5b0dcba05 pre{padding: 0;}#sk-e58f0513-1828-4860-bbc1-23a5b0dcba05 div.sk-toggleable {background-color: white;}#sk-e58f0513-1828-4860-bbc1-23a5b0dcba05 label.sk-toggleable__label {cursor: pointer;display: block;width: 100%;margin-bottom: 0;padding: 0.3em;box-sizing: border-box;text-align: center;}#sk-e58f0513-1828-4860-bbc1-23a5b0dcba05 div.sk-toggleable__content {max-height: 0;max-width: 0;overflow: hidden;text-align: left;background-color: #f0f8ff;}#sk-e58f0513-1828-4860-bbc1-23a5b0dcba05 div.sk-toggleable__content pre {margin: 0.2em;color: black;border-radius: 0.25em;background-color: #f0f8ff;}#sk-e58f0513-1828-4860-bbc1-23a5b0dcba05 input.sk-toggleable__control:checked~div.sk-toggleable__content {max-height: 200px;max-width: 100%;overflow: auto;}#sk-e58f0513-1828-4860-bbc1-23a5b0dcba05 div.sk-estimator input.sk-toggleable__control:checked~label.sk-toggleable__label {background-color: #d4ebff;}#sk-e58f0513-1828-4860-bbc1-23a5b0dcba05 div.sk-label input.sk-toggleable__control:checked~label.sk-toggleable__label {background-color: #d4ebff;}#sk-e58f0513-1828-4860-bbc1-23a5b0dcba05 input.sk-hidden--visually {border: 0;clip: rect(1px 1px 1px 1px);clip: rect(1px, 1px, 1px, 1px);height: 1px;margin: -1px;overflow: hidden;padding: 0;position: absolute;width: 1px;}#sk-e58f0513-1828-4860-bbc1-23a5b0dcba05 div.sk-estimator {font-family: monospace;background-color: #f0f8ff;border: 1px dotted black;border-radius: 0.25em;box-sizing: border-box;margin-bottom: 0.5em;}#sk-e58f0513-1828-4860-bbc1-23a5b0dcba05 div.sk-estimator:hover {background-color: #d4ebff;}#sk-e58f0513-1828-4860-bbc1-23a5b0dcba05 div.sk-parallel-item::after {content: \"\";width: 100%;border-bottom: 1px solid gray;flex-grow: 1;}#sk-e58f0513-1828-4860-bbc1-23a5b0dcba05 div.sk-label:hover label.sk-toggleable__label {background-color: #d4ebff;}#sk-e58f0513-1828-4860-bbc1-23a5b0dcba05 div.sk-serial::before {content: \"\";position: absolute;border-left: 1px solid gray;box-sizing: border-box;top: 2em;bottom: 0;left: 50%;}#sk-e58f0513-1828-4860-bbc1-23a5b0dcba05 div.sk-serial {display: flex;flex-direction: column;align-items: center;background-color: white;padding-right: 0.2em;padding-left: 0.2em;}#sk-e58f0513-1828-4860-bbc1-23a5b0dcba05 div.sk-item {z-index: 1;}#sk-e58f0513-1828-4860-bbc1-23a5b0dcba05 div.sk-parallel {display: flex;align-items: stretch;justify-content: center;background-color: white;}#sk-e58f0513-1828-4860-bbc1-23a5b0dcba05 div.sk-parallel::before {content: \"\";position: absolute;border-left: 1px solid gray;box-sizing: border-box;top: 2em;bottom: 0;left: 50%;}#sk-e58f0513-1828-4860-bbc1-23a5b0dcba05 div.sk-parallel-item {display: flex;flex-direction: column;position: relative;background-color: white;}#sk-e58f0513-1828-4860-bbc1-23a5b0dcba05 div.sk-parallel-item:first-child::after {align-self: flex-end;width: 50%;}#sk-e58f0513-1828-4860-bbc1-23a5b0dcba05 div.sk-parallel-item:last-child::after {align-self: flex-start;width: 50%;}#sk-e58f0513-1828-4860-bbc1-23a5b0dcba05 div.sk-parallel-item:only-child::after {width: 0;}#sk-e58f0513-1828-4860-bbc1-23a5b0dcba05 div.sk-dashed-wrapped {border: 1px dashed gray;margin: 0 0.4em 0.5em 0.4em;box-sizing: border-box;padding-bottom: 0.4em;background-color: white;position: relative;}#sk-e58f0513-1828-4860-bbc1-23a5b0dcba05 div.sk-label label {font-family: monospace;font-weight: bold;background-color: white;display: inline-block;line-height: 1.2em;}#sk-e58f0513-1828-4860-bbc1-23a5b0dcba05 div.sk-label-container {position: relative;z-index: 2;text-align: center;}#sk-e58f0513-1828-4860-bbc1-23a5b0dcba05 div.sk-container {display: inline-block;position: relative;}</style><div id=\"sk-e58f0513-1828-4860-bbc1-23a5b0dcba05\" class\"sk-top-container\"><div class=\"sk-container\"><div class=\"sk-item sk-dashed-wrapped\"><div class=\"sk-label-container\"><div class=\"sk-label sk-toggleable\"><input class=\"sk-toggleable__control sk-hidden--visually\" id=\"a6c9543d-b834-4f4d-813b-4527f8a00f62\" type=\"checkbox\" ><label class=\"sk-toggleable__label\" for=\"a6c9543d-b834-4f4d-813b-4527f8a00f62\">GridSearchCV</label><div class=\"sk-toggleable__content\"><pre>GridSearchCV(cv=3,\n",
       "             estimator=Pipeline(steps=[('preprocessor',\n",
       "                                        Pipeline(steps=[('data_transformer',\n",
       "                                                         ColumnTransformer(transformers=[('numerical',\n",
       "                                                                                          Pipeline(steps=[('imputer',\n",
       "                                                                                                           SimpleImputer()),\n",
       "                                                                                                          ('scaler',\n",
       "                                                                                                           StandardScaler()),\n",
       "                                                                                                          ('fs',\n",
       "                                                                                                           SelectKBest(k='all'))]),\n",
       "                                                                                          ['Age',\n",
       "                                                                                           'Height',\n",
       "                                                                                           'Weight']),\n",
       "                                                                                         ('categorical',\n",
       "                                                                                          Pipeline(steps=[('imputer',\n",
       "                                                                                                           SimpleImputer()),\n",
       "                                                                                                          ('onehot',\n",
       "                                                                                                           OneHotEncod...\n",
       "       2.96730241e+01, 3.21764175e+01, 3.48910121e+01, 3.78346262e+01,\n",
       "       4.10265811e+01, 4.44878283e+01, 4.82410870e+01, 5.23109931e+01,\n",
       "       5.67242607e+01, 6.15098579e+01, 6.66991966e+01, 7.23263390e+01,\n",
       "       7.84282206e+01, 8.50448934e+01, 9.22197882e+01, 1.00000000e+02]),\n",
       "                         'classifier__class_weight': ['balanced', None],\n",
       "                         'classifier__penalty': ['l1', 'l2'],\n",
       "                         'preprocessor__data_transformer__numerical__imputer__strategy': ['median',\n",
       "                                                                                          'mean']})</pre></div></div></div><div class=\"sk-parallel\"><div class=\"sk-parallel-item\"><div class=\"sk-item\"><div class=\"sk-serial\"><div class=\"sk-item\"><div class=\"sk-serial\"><div class=\"sk-item\"><div class=\"sk-label-container\"><div class=\"sk-label sk-toggleable\"><input class=\"sk-toggleable__control sk-hidden--visually\" id=\"2a75b6c3-bf16-41ae-9f80-0e12b41122cd\" type=\"checkbox\" ><label class=\"sk-toggleable__label\" for=\"2a75b6c3-bf16-41ae-9f80-0e12b41122cd\">preprocessor: Pipeline</label><div class=\"sk-toggleable__content\"><pre>Pipeline(steps=[('data_transformer',\n",
       "                 ColumnTransformer(transformers=[('numerical',\n",
       "                                                  Pipeline(steps=[('imputer',\n",
       "                                                                   SimpleImputer()),\n",
       "                                                                  ('scaler',\n",
       "                                                                   StandardScaler()),\n",
       "                                                                  ('fs',\n",
       "                                                                   SelectKBest(k='all'))]),\n",
       "                                                  ['Age', 'Height', 'Weight']),\n",
       "                                                 ('categorical',\n",
       "                                                  Pipeline(steps=[('imputer',\n",
       "                                                                   SimpleImputer()),\n",
       "                                                                  ('onehot',\n",
       "                                                                   OneHotEncoder(handle_unknown='ignore'))]),\n",
       "                                                  ['Getting up', 'God',\n",
       "                                                   'Health', 'Borrowed stuff',\n",
       "                                                   'Self-criticism',\n",
       "                                                   'Elections',\n",
       "                                                   'Number of friends',\n",
       "                                                   'Spending on healthy eating',\n",
       "                                                   'Music', 'Movies',\n",
       "                                                   'Friends versus money',\n",
       "                                                   'Changing the past'])]))])</pre></div></div></div><div class=\"sk-serial\"><div class=\"sk-item sk-dashed-wrapped\"><div class=\"sk-label-container\"><div class=\"sk-label sk-toggleable\"><input class=\"sk-toggleable__control sk-hidden--visually\" id=\"43a1beff-adcb-4727-801b-90300a623bdc\" type=\"checkbox\" ><label class=\"sk-toggleable__label\" for=\"43a1beff-adcb-4727-801b-90300a623bdc\">data_transformer: ColumnTransformer</label><div class=\"sk-toggleable__content\"><pre>ColumnTransformer(transformers=[('numerical',\n",
       "                                 Pipeline(steps=[('imputer', SimpleImputer()),\n",
       "                                                 ('scaler', StandardScaler()),\n",
       "                                                 ('fs', SelectKBest(k='all'))]),\n",
       "                                 ['Age', 'Height', 'Weight']),\n",
       "                                ('categorical',\n",
       "                                 Pipeline(steps=[('imputer', SimpleImputer()),\n",
       "                                                 ('onehot',\n",
       "                                                  OneHotEncoder(handle_unknown='ignore'))]),\n",
       "                                 ['Getting up', 'God', 'Health',\n",
       "                                  'Borrowed stuff', 'Self-criticism',\n",
       "                                  'Elections', 'Number of friends',\n",
       "                                  'Spending on healthy eating', 'Music',\n",
       "                                  'Movies', 'Friends versus money',\n",
       "                                  'Changing the past'])])</pre></div></div></div><div class=\"sk-parallel\"><div class=\"sk-parallel-item\"><div class=\"sk-item\"><div class=\"sk-label-container\"><div class=\"sk-label sk-toggleable\"><input class=\"sk-toggleable__control sk-hidden--visually\" id=\"44af02fb-113c-4f36-8538-5d254cd693af\" type=\"checkbox\" ><label class=\"sk-toggleable__label\" for=\"44af02fb-113c-4f36-8538-5d254cd693af\">numerical</label><div class=\"sk-toggleable__content\"><pre>['Age', 'Height', 'Weight']</pre></div></div></div><div class=\"sk-serial\"><div class=\"sk-item\"><div class=\"sk-serial\"><div class=\"sk-item\"><div class=\"sk-estimator sk-toggleable\"><input class=\"sk-toggleable__control sk-hidden--visually\" id=\"ad800681-9ea4-4706-8f81-326061f0c332\" type=\"checkbox\" ><label class=\"sk-toggleable__label\" for=\"ad800681-9ea4-4706-8f81-326061f0c332\">SimpleImputer</label><div class=\"sk-toggleable__content\"><pre>SimpleImputer()</pre></div></div></div><div class=\"sk-item\"><div class=\"sk-estimator sk-toggleable\"><input class=\"sk-toggleable__control sk-hidden--visually\" id=\"a55ee4ef-06c2-4bca-8969-e1c2ae637013\" type=\"checkbox\" ><label class=\"sk-toggleable__label\" for=\"a55ee4ef-06c2-4bca-8969-e1c2ae637013\">StandardScaler</label><div class=\"sk-toggleable__content\"><pre>StandardScaler()</pre></div></div></div><div class=\"sk-item\"><div class=\"sk-estimator sk-toggleable\"><input class=\"sk-toggleable__control sk-hidden--visually\" id=\"1ad71ec8-9d12-48b6-a297-39a7911a66ef\" type=\"checkbox\" ><label class=\"sk-toggleable__label\" for=\"1ad71ec8-9d12-48b6-a297-39a7911a66ef\">SelectKBest</label><div class=\"sk-toggleable__content\"><pre>SelectKBest(k='all')</pre></div></div></div></div></div></div></div></div><div class=\"sk-parallel-item\"><div class=\"sk-item\"><div class=\"sk-label-container\"><div class=\"sk-label sk-toggleable\"><input class=\"sk-toggleable__control sk-hidden--visually\" id=\"fb3bf63c-77ea-41a1-b945-dc937f7e38a5\" type=\"checkbox\" ><label class=\"sk-toggleable__label\" for=\"fb3bf63c-77ea-41a1-b945-dc937f7e38a5\">categorical</label><div class=\"sk-toggleable__content\"><pre>['Getting up', 'God', 'Health', 'Borrowed stuff', 'Self-criticism', 'Elections', 'Number of friends', 'Spending on healthy eating', 'Music', 'Movies', 'Friends versus money', 'Changing the past']</pre></div></div></div><div class=\"sk-serial\"><div class=\"sk-item\"><div class=\"sk-serial\"><div class=\"sk-item\"><div class=\"sk-estimator sk-toggleable\"><input class=\"sk-toggleable__control sk-hidden--visually\" id=\"f397a68a-d716-4628-bff7-e7768b85e18f\" type=\"checkbox\" ><label class=\"sk-toggleable__label\" for=\"f397a68a-d716-4628-bff7-e7768b85e18f\">SimpleImputer</label><div class=\"sk-toggleable__content\"><pre>SimpleImputer()</pre></div></div></div><div class=\"sk-item\"><div class=\"sk-estimator sk-toggleable\"><input class=\"sk-toggleable__control sk-hidden--visually\" id=\"8b92f038-1e2c-47e2-8e6e-0689354a4b6f\" type=\"checkbox\" ><label class=\"sk-toggleable__label\" for=\"8b92f038-1e2c-47e2-8e6e-0689354a4b6f\">OneHotEncoder</label><div class=\"sk-toggleable__content\"><pre>OneHotEncoder(handle_unknown='ignore')</pre></div></div></div></div></div></div></div></div></div></div></div></div><div class=\"sk-item\"><div class=\"sk-estimator sk-toggleable\"><input class=\"sk-toggleable__control sk-hidden--visually\" id=\"9bad1278-8dab-4eea-9de2-93fc5d4f5862\" type=\"checkbox\" ><label class=\"sk-toggleable__label\" for=\"9bad1278-8dab-4eea-9de2-93fc5d4f5862\">LogisticRegression</label><div class=\"sk-toggleable__content\"><pre>LogisticRegression()</pre></div></div></div></div></div></div></div></div></div></div></div></div>"
      ],
      "text/plain": [
       "GridSearchCV(cv=3,\n",
       "             estimator=Pipeline(steps=[('preprocessor',\n",
       "                                        Pipeline(steps=[('data_transformer',\n",
       "                                                         ColumnTransformer(transformers=[('numerical',\n",
       "                                                                                          Pipeline(steps=[('imputer',\n",
       "                                                                                                           SimpleImputer()),\n",
       "                                                                                                          ('scaler',\n",
       "                                                                                                           StandardScaler()),\n",
       "                                                                                                          ('fs',\n",
       "                                                                                                           SelectKBest(k='all'))]),\n",
       "                                                                                          ['Age',\n",
       "                                                                                           'Height',\n",
       "                                                                                           'Weight']),\n",
       "                                                                                         ('categorical',\n",
       "                                                                                          Pipeline(steps=[('imputer',\n",
       "                                                                                                           SimpleImputer()),\n",
       "                                                                                                          ('onehot',\n",
       "                                                                                                           OneHotEncod...\n",
       "       2.96730241e+01, 3.21764175e+01, 3.48910121e+01, 3.78346262e+01,\n",
       "       4.10265811e+01, 4.44878283e+01, 4.82410870e+01, 5.23109931e+01,\n",
       "       5.67242607e+01, 6.15098579e+01, 6.66991966e+01, 7.23263390e+01,\n",
       "       7.84282206e+01, 8.50448934e+01, 9.22197882e+01, 1.00000000e+02]),\n",
       "                         'classifier__class_weight': ['balanced', None],\n",
       "                         'classifier__penalty': ['l1', 'l2'],\n",
       "                         'preprocessor__data_transformer__numerical__imputer__strategy': ['median',\n",
       "                                                                                          'mean']})"
      ]
     },
     "execution_count": 60,
     "metadata": {},
     "output_type": "execute_result"
    }
   ],
   "source": [
    "param_grid = {\n",
    "    'classifier__C': np.logspace(-5, 2, 200), # np.linspace(-10, 10)\n",
    "    'classifier__penalty': ['l1', 'l2'],\n",
    "    'classifier__class_weight': ['balanced', None],\n",
    "    \n",
    "    'preprocessor__data_transformer__numerical__imputer__strategy':['median', 'mean']\n",
    "}\n",
    "\n",
    "\n",
    "search = GridSearchCV(classifier_pipline, param_grid, n_jobs=-1, cv=3) #, scoring=f1)\n",
    "\n",
    "search.fit(data_train.drop(target, axis=1), data_train[target])"
   ]
  },
  {
   "cell_type": "markdown",
   "metadata": {},
   "source": [
    "<div class=\"alert alert-info\">\n",
    "\n",
    "Нам даже не нужно теперь делить на `train` и `test`, ведь есть валидация "
   ]
  },
  {
   "cell_type": "code",
   "execution_count": 41,
   "metadata": {},
   "outputs": [
    {
     "data": {
      "text/plain": [
       "{'classifier__C': 0.05805225516094896,\n",
       " 'classifier__class_weight': None,\n",
       " 'classifier__penalty': 'l2',\n",
       " 'preprocessor__data_transformer__numerical__imputer__strategy': 'median'}"
      ]
     },
     "execution_count": 41,
     "metadata": {},
     "output_type": "execute_result"
    }
   ],
   "source": [
    "search.best_params_"
   ]
  },
  {
   "cell_type": "code",
   "execution_count": 42,
   "metadata": {},
   "outputs": [
    {
     "data": {
      "text/plain": [
       "0.5594285902373194"
      ]
     },
     "execution_count": 42,
     "metadata": {},
     "output_type": "execute_result"
    }
   ],
   "source": [
    "search.best_score_"
   ]
  },
  {
   "cell_type": "code",
   "execution_count": null,
   "metadata": {},
   "outputs": [],
   "source": []
  },
  {
   "cell_type": "markdown",
   "metadata": {},
   "source": [
    "# Еще раз, но по шагам!"
   ]
  },
  {
   "cell_type": "code",
   "execution_count": 43,
   "metadata": {},
   "outputs": [],
   "source": [
    "classifier_pipline = Pipeline(\n",
    "    steps=[('preprocessor', preprocessor),\n",
    "           ('classifier', LogisticRegression())])"
   ]
  },
  {
   "cell_type": "code",
   "execution_count": 44,
   "metadata": {},
   "outputs": [],
   "source": [
    "# Создание конвейера препроцессора, который сначала преобразует данные.\n",
    "preprocessor = Pipeline(steps=[(\"data_transformer\", data_transformer)])\n",
    "\n",
    "\n",
    "# Собираем воедино трансформеры для числовых и категориальных признаков\n",
    "data_transformer = ColumnTransformer(\n",
    "    transformers=[\n",
    "        (\"numerical\", numerical_transformer, numerical_features),\n",
    "        (\"categorical\", categorical_transformer, categorical_features),\n",
    "    ]\n",
    ")"
   ]
  },
  {
   "cell_type": "code",
   "execution_count": 45,
   "metadata": {},
   "outputs": [],
   "source": [
    "#   Для категориальных - применяем SimpleImputer, а затем StandardScaler\n",
    "\n",
    "numerical_transformer = Pipeline(\n",
    "    steps=[\n",
    "        (\"imputer\", SimpleImputer()),\n",
    "        (\"scaler\", StandardScaler()),\n",
    "        (\"fs\", SelectKBest(score_func=f_classif, k=\"all\")),\n",
    "    ]\n",
    ")"
   ]
  },
  {
   "cell_type": "code",
   "execution_count": 46,
   "metadata": {},
   "outputs": [
    {
     "data": {
      "text/html": [
       "<style>#sk-adae920e-193a-4345-8dea-c505c9e61ab8 {color: black;background-color: white;}#sk-adae920e-193a-4345-8dea-c505c9e61ab8 pre{padding: 0;}#sk-adae920e-193a-4345-8dea-c505c9e61ab8 div.sk-toggleable {background-color: white;}#sk-adae920e-193a-4345-8dea-c505c9e61ab8 label.sk-toggleable__label {cursor: pointer;display: block;width: 100%;margin-bottom: 0;padding: 0.3em;box-sizing: border-box;text-align: center;}#sk-adae920e-193a-4345-8dea-c505c9e61ab8 div.sk-toggleable__content {max-height: 0;max-width: 0;overflow: hidden;text-align: left;background-color: #f0f8ff;}#sk-adae920e-193a-4345-8dea-c505c9e61ab8 div.sk-toggleable__content pre {margin: 0.2em;color: black;border-radius: 0.25em;background-color: #f0f8ff;}#sk-adae920e-193a-4345-8dea-c505c9e61ab8 input.sk-toggleable__control:checked~div.sk-toggleable__content {max-height: 200px;max-width: 100%;overflow: auto;}#sk-adae920e-193a-4345-8dea-c505c9e61ab8 div.sk-estimator input.sk-toggleable__control:checked~label.sk-toggleable__label {background-color: #d4ebff;}#sk-adae920e-193a-4345-8dea-c505c9e61ab8 div.sk-label input.sk-toggleable__control:checked~label.sk-toggleable__label {background-color: #d4ebff;}#sk-adae920e-193a-4345-8dea-c505c9e61ab8 input.sk-hidden--visually {border: 0;clip: rect(1px 1px 1px 1px);clip: rect(1px, 1px, 1px, 1px);height: 1px;margin: -1px;overflow: hidden;padding: 0;position: absolute;width: 1px;}#sk-adae920e-193a-4345-8dea-c505c9e61ab8 div.sk-estimator {font-family: monospace;background-color: #f0f8ff;border: 1px dotted black;border-radius: 0.25em;box-sizing: border-box;margin-bottom: 0.5em;}#sk-adae920e-193a-4345-8dea-c505c9e61ab8 div.sk-estimator:hover {background-color: #d4ebff;}#sk-adae920e-193a-4345-8dea-c505c9e61ab8 div.sk-parallel-item::after {content: \"\";width: 100%;border-bottom: 1px solid gray;flex-grow: 1;}#sk-adae920e-193a-4345-8dea-c505c9e61ab8 div.sk-label:hover label.sk-toggleable__label {background-color: #d4ebff;}#sk-adae920e-193a-4345-8dea-c505c9e61ab8 div.sk-serial::before {content: \"\";position: absolute;border-left: 1px solid gray;box-sizing: border-box;top: 2em;bottom: 0;left: 50%;}#sk-adae920e-193a-4345-8dea-c505c9e61ab8 div.sk-serial {display: flex;flex-direction: column;align-items: center;background-color: white;padding-right: 0.2em;padding-left: 0.2em;}#sk-adae920e-193a-4345-8dea-c505c9e61ab8 div.sk-item {z-index: 1;}#sk-adae920e-193a-4345-8dea-c505c9e61ab8 div.sk-parallel {display: flex;align-items: stretch;justify-content: center;background-color: white;}#sk-adae920e-193a-4345-8dea-c505c9e61ab8 div.sk-parallel::before {content: \"\";position: absolute;border-left: 1px solid gray;box-sizing: border-box;top: 2em;bottom: 0;left: 50%;}#sk-adae920e-193a-4345-8dea-c505c9e61ab8 div.sk-parallel-item {display: flex;flex-direction: column;position: relative;background-color: white;}#sk-adae920e-193a-4345-8dea-c505c9e61ab8 div.sk-parallel-item:first-child::after {align-self: flex-end;width: 50%;}#sk-adae920e-193a-4345-8dea-c505c9e61ab8 div.sk-parallel-item:last-child::after {align-self: flex-start;width: 50%;}#sk-adae920e-193a-4345-8dea-c505c9e61ab8 div.sk-parallel-item:only-child::after {width: 0;}#sk-adae920e-193a-4345-8dea-c505c9e61ab8 div.sk-dashed-wrapped {border: 1px dashed gray;margin: 0 0.4em 0.5em 0.4em;box-sizing: border-box;padding-bottom: 0.4em;background-color: white;position: relative;}#sk-adae920e-193a-4345-8dea-c505c9e61ab8 div.sk-label label {font-family: monospace;font-weight: bold;background-color: white;display: inline-block;line-height: 1.2em;}#sk-adae920e-193a-4345-8dea-c505c9e61ab8 div.sk-label-container {position: relative;z-index: 2;text-align: center;}#sk-adae920e-193a-4345-8dea-c505c9e61ab8 div.sk-container {display: inline-block;position: relative;}</style><div id=\"sk-adae920e-193a-4345-8dea-c505c9e61ab8\" class\"sk-top-container\"><div class=\"sk-container\"><div class=\"sk-item sk-dashed-wrapped\"><div class=\"sk-label-container\"><div class=\"sk-label sk-toggleable\"><input class=\"sk-toggleable__control sk-hidden--visually\" id=\"81444ae9-4b92-4464-b196-ab03caea7aa8\" type=\"checkbox\" ><label class=\"sk-toggleable__label\" for=\"81444ae9-4b92-4464-b196-ab03caea7aa8\">Pipeline</label><div class=\"sk-toggleable__content\"><pre>Pipeline(steps=[('preprocessor',\n",
       "                 Pipeline(steps=[('data_transformer',\n",
       "                                  ColumnTransformer(transformers=[('numerical',\n",
       "                                                                   Pipeline(steps=[('imputer',\n",
       "                                                                                    SimpleImputer()),\n",
       "                                                                                   ('scaler',\n",
       "                                                                                    StandardScaler()),\n",
       "                                                                                   ('fs',\n",
       "                                                                                    SelectKBest(k='all'))]),\n",
       "                                                                   ['Age',\n",
       "                                                                    'Height',\n",
       "                                                                    'Weight']),\n",
       "                                                                  ('categorical',\n",
       "                                                                   Pipeline(steps=[('imputer',\n",
       "                                                                                    SimpleImputer()),\n",
       "                                                                                   ('onehot',\n",
       "                                                                                    OneHotEncoder(handle_unknown='ignore'))]),\n",
       "                                                                   ['Getting '\n",
       "                                                                    'up',\n",
       "                                                                    'God',\n",
       "                                                                    'Health',\n",
       "                                                                    'Borrowed '\n",
       "                                                                    'stuff',\n",
       "                                                                    'Self-criticism',\n",
       "                                                                    'Elections',\n",
       "                                                                    'Number of '\n",
       "                                                                    'friends',\n",
       "                                                                    'Spending '\n",
       "                                                                    'on '\n",
       "                                                                    'healthy '\n",
       "                                                                    'eating',\n",
       "                                                                    'Music',\n",
       "                                                                    'Movies',\n",
       "                                                                    'Friends '\n",
       "                                                                    'versus '\n",
       "                                                                    'money',\n",
       "                                                                    'Changing '\n",
       "                                                                    'the '\n",
       "                                                                    'past'])]))])),\n",
       "                ('classifier', LogisticRegression())])</pre></div></div></div><div class=\"sk-serial\"><div class=\"sk-item\"><div class=\"sk-label-container\"><div class=\"sk-label sk-toggleable\"><input class=\"sk-toggleable__control sk-hidden--visually\" id=\"fe1f5842-2085-4800-96e7-3864000042b0\" type=\"checkbox\" ><label class=\"sk-toggleable__label\" for=\"fe1f5842-2085-4800-96e7-3864000042b0\">preprocessor: Pipeline</label><div class=\"sk-toggleable__content\"><pre>Pipeline(steps=[('data_transformer',\n",
       "                 ColumnTransformer(transformers=[('numerical',\n",
       "                                                  Pipeline(steps=[('imputer',\n",
       "                                                                   SimpleImputer()),\n",
       "                                                                  ('scaler',\n",
       "                                                                   StandardScaler()),\n",
       "                                                                  ('fs',\n",
       "                                                                   SelectKBest(k='all'))]),\n",
       "                                                  ['Age', 'Height', 'Weight']),\n",
       "                                                 ('categorical',\n",
       "                                                  Pipeline(steps=[('imputer',\n",
       "                                                                   SimpleImputer()),\n",
       "                                                                  ('onehot',\n",
       "                                                                   OneHotEncoder(handle_unknown='ignore'))]),\n",
       "                                                  ['Getting up', 'God',\n",
       "                                                   'Health', 'Borrowed stuff',\n",
       "                                                   'Self-criticism',\n",
       "                                                   'Elections',\n",
       "                                                   'Number of friends',\n",
       "                                                   'Spending on healthy eating',\n",
       "                                                   'Music', 'Movies',\n",
       "                                                   'Friends versus money',\n",
       "                                                   'Changing the past'])]))])</pre></div></div></div><div class=\"sk-serial\"><div class=\"sk-item sk-dashed-wrapped\"><div class=\"sk-label-container\"><div class=\"sk-label sk-toggleable\"><input class=\"sk-toggleable__control sk-hidden--visually\" id=\"25367104-f812-4657-8da5-203b55f0c4d9\" type=\"checkbox\" ><label class=\"sk-toggleable__label\" for=\"25367104-f812-4657-8da5-203b55f0c4d9\">data_transformer: ColumnTransformer</label><div class=\"sk-toggleable__content\"><pre>ColumnTransformer(transformers=[('numerical',\n",
       "                                 Pipeline(steps=[('imputer', SimpleImputer()),\n",
       "                                                 ('scaler', StandardScaler()),\n",
       "                                                 ('fs', SelectKBest(k='all'))]),\n",
       "                                 ['Age', 'Height', 'Weight']),\n",
       "                                ('categorical',\n",
       "                                 Pipeline(steps=[('imputer', SimpleImputer()),\n",
       "                                                 ('onehot',\n",
       "                                                  OneHotEncoder(handle_unknown='ignore'))]),\n",
       "                                 ['Getting up', 'God', 'Health',\n",
       "                                  'Borrowed stuff', 'Self-criticism',\n",
       "                                  'Elections', 'Number of friends',\n",
       "                                  'Spending on healthy eating', 'Music',\n",
       "                                  'Movies', 'Friends versus money',\n",
       "                                  'Changing the past'])])</pre></div></div></div><div class=\"sk-parallel\"><div class=\"sk-parallel-item\"><div class=\"sk-item\"><div class=\"sk-label-container\"><div class=\"sk-label sk-toggleable\"><input class=\"sk-toggleable__control sk-hidden--visually\" id=\"0eeda32e-cdda-4ddc-8360-14420decddb0\" type=\"checkbox\" ><label class=\"sk-toggleable__label\" for=\"0eeda32e-cdda-4ddc-8360-14420decddb0\">numerical</label><div class=\"sk-toggleable__content\"><pre>['Age', 'Height', 'Weight']</pre></div></div></div><div class=\"sk-serial\"><div class=\"sk-item\"><div class=\"sk-serial\"><div class=\"sk-item\"><div class=\"sk-estimator sk-toggleable\"><input class=\"sk-toggleable__control sk-hidden--visually\" id=\"6ed087f1-8994-4290-b1c0-8a7ba4fb7b5a\" type=\"checkbox\" ><label class=\"sk-toggleable__label\" for=\"6ed087f1-8994-4290-b1c0-8a7ba4fb7b5a\">SimpleImputer</label><div class=\"sk-toggleable__content\"><pre>SimpleImputer()</pre></div></div></div><div class=\"sk-item\"><div class=\"sk-estimator sk-toggleable\"><input class=\"sk-toggleable__control sk-hidden--visually\" id=\"12252717-e1f6-4f67-a992-5a523121149b\" type=\"checkbox\" ><label class=\"sk-toggleable__label\" for=\"12252717-e1f6-4f67-a992-5a523121149b\">StandardScaler</label><div class=\"sk-toggleable__content\"><pre>StandardScaler()</pre></div></div></div><div class=\"sk-item\"><div class=\"sk-estimator sk-toggleable\"><input class=\"sk-toggleable__control sk-hidden--visually\" id=\"839c9a25-42cd-40ba-b707-8580548891b7\" type=\"checkbox\" ><label class=\"sk-toggleable__label\" for=\"839c9a25-42cd-40ba-b707-8580548891b7\">SelectKBest</label><div class=\"sk-toggleable__content\"><pre>SelectKBest(k='all')</pre></div></div></div></div></div></div></div></div><div class=\"sk-parallel-item\"><div class=\"sk-item\"><div class=\"sk-label-container\"><div class=\"sk-label sk-toggleable\"><input class=\"sk-toggleable__control sk-hidden--visually\" id=\"bf738d16-dd08-4b19-984c-f236ae908697\" type=\"checkbox\" ><label class=\"sk-toggleable__label\" for=\"bf738d16-dd08-4b19-984c-f236ae908697\">categorical</label><div class=\"sk-toggleable__content\"><pre>['Getting up', 'God', 'Health', 'Borrowed stuff', 'Self-criticism', 'Elections', 'Number of friends', 'Spending on healthy eating', 'Music', 'Movies', 'Friends versus money', 'Changing the past']</pre></div></div></div><div class=\"sk-serial\"><div class=\"sk-item\"><div class=\"sk-serial\"><div class=\"sk-item\"><div class=\"sk-estimator sk-toggleable\"><input class=\"sk-toggleable__control sk-hidden--visually\" id=\"f76047ee-8d31-4fce-9dfc-bbdd2d74bad8\" type=\"checkbox\" ><label class=\"sk-toggleable__label\" for=\"f76047ee-8d31-4fce-9dfc-bbdd2d74bad8\">SimpleImputer</label><div class=\"sk-toggleable__content\"><pre>SimpleImputer()</pre></div></div></div><div class=\"sk-item\"><div class=\"sk-estimator sk-toggleable\"><input class=\"sk-toggleable__control sk-hidden--visually\" id=\"5419d519-7f46-46d0-a74a-f016fdcba0ef\" type=\"checkbox\" ><label class=\"sk-toggleable__label\" for=\"5419d519-7f46-46d0-a74a-f016fdcba0ef\">OneHotEncoder</label><div class=\"sk-toggleable__content\"><pre>OneHotEncoder(handle_unknown='ignore')</pre></div></div></div></div></div></div></div></div></div></div></div></div><div class=\"sk-item\"><div class=\"sk-estimator sk-toggleable\"><input class=\"sk-toggleable__control sk-hidden--visually\" id=\"ef362dbc-597c-418b-8212-1a05d75df0fb\" type=\"checkbox\" ><label class=\"sk-toggleable__label\" for=\"ef362dbc-597c-418b-8212-1a05d75df0fb\">LogisticRegression</label><div class=\"sk-toggleable__content\"><pre>LogisticRegression()</pre></div></div></div></div></div></div></div>"
      ],
      "text/plain": [
       "Pipeline(steps=[('preprocessor',\n",
       "                 Pipeline(steps=[('data_transformer',\n",
       "                                  ColumnTransformer(transformers=[('numerical',\n",
       "                                                                   Pipeline(steps=[('imputer',\n",
       "                                                                                    SimpleImputer()),\n",
       "                                                                                   ('scaler',\n",
       "                                                                                    StandardScaler()),\n",
       "                                                                                   ('fs',\n",
       "                                                                                    SelectKBest(k='all'))]),\n",
       "                                                                   ['Age',\n",
       "                                                                    'Height',\n",
       "                                                                    'Weight']),\n",
       "                                                                  ('categorical',\n",
       "                                                                   Pipeline(steps=[('imputer',\n",
       "                                                                                    SimpleImputer()),\n",
       "                                                                                   ('onehot',\n",
       "                                                                                    OneHotEncoder(handle_unknown='ignore'))]),\n",
       "                                                                   ['Getting '\n",
       "                                                                    'up',\n",
       "                                                                    'God',\n",
       "                                                                    'Health',\n",
       "                                                                    'Borrowed '\n",
       "                                                                    'stuff',\n",
       "                                                                    'Self-criticism',\n",
       "                                                                    'Elections',\n",
       "                                                                    'Number of '\n",
       "                                                                    'friends',\n",
       "                                                                    'Spending '\n",
       "                                                                    'on '\n",
       "                                                                    'healthy '\n",
       "                                                                    'eating',\n",
       "                                                                    'Music',\n",
       "                                                                    'Movies',\n",
       "                                                                    'Friends '\n",
       "                                                                    'versus '\n",
       "                                                                    'money',\n",
       "                                                                    'Changing '\n",
       "                                                                    'the '\n",
       "                                                                    'past'])]))])),\n",
       "                ('classifier', LogisticRegression())])"
      ]
     },
     "execution_count": 46,
     "metadata": {},
     "output_type": "execute_result"
    }
   ],
   "source": [
    "#   Для категориальных - применяем SimpleImputer, а затем OneHotEncoder\n",
    "categorical_transformer = Pipeline(\n",
    "    steps=[\n",
    "        (\"imputer\", SimpleImputer()),\n",
    "        (\"onehot\", OneHotEncoder(handle_unknown=\"ignore\")),\n",
    "    ]\n",
    ")\n",
    "\n",
    "\n",
    "classifier_pipline"
   ]
  },
  {
   "cell_type": "code",
   "execution_count": null,
   "metadata": {},
   "outputs": [],
   "source": []
  },
  {
   "cell_type": "code",
   "execution_count": null,
   "metadata": {},
   "outputs": [],
   "source": []
  },
  {
   "cell_type": "markdown",
   "metadata": {},
   "source": [
    "# А если вдруг одной модели мало?"
   ]
  },
  {
   "cell_type": "code",
   "execution_count": 61,
   "metadata": {},
   "outputs": [
    {
     "data": {
      "text/html": [
       "<style>#sk-eba6ba32-85a1-40b4-9c6c-7eb77c011f4a {color: black;background-color: white;}#sk-eba6ba32-85a1-40b4-9c6c-7eb77c011f4a pre{padding: 0;}#sk-eba6ba32-85a1-40b4-9c6c-7eb77c011f4a div.sk-toggleable {background-color: white;}#sk-eba6ba32-85a1-40b4-9c6c-7eb77c011f4a label.sk-toggleable__label {cursor: pointer;display: block;width: 100%;margin-bottom: 0;padding: 0.3em;box-sizing: border-box;text-align: center;}#sk-eba6ba32-85a1-40b4-9c6c-7eb77c011f4a div.sk-toggleable__content {max-height: 0;max-width: 0;overflow: hidden;text-align: left;background-color: #f0f8ff;}#sk-eba6ba32-85a1-40b4-9c6c-7eb77c011f4a div.sk-toggleable__content pre {margin: 0.2em;color: black;border-radius: 0.25em;background-color: #f0f8ff;}#sk-eba6ba32-85a1-40b4-9c6c-7eb77c011f4a input.sk-toggleable__control:checked~div.sk-toggleable__content {max-height: 200px;max-width: 100%;overflow: auto;}#sk-eba6ba32-85a1-40b4-9c6c-7eb77c011f4a div.sk-estimator input.sk-toggleable__control:checked~label.sk-toggleable__label {background-color: #d4ebff;}#sk-eba6ba32-85a1-40b4-9c6c-7eb77c011f4a div.sk-label input.sk-toggleable__control:checked~label.sk-toggleable__label {background-color: #d4ebff;}#sk-eba6ba32-85a1-40b4-9c6c-7eb77c011f4a input.sk-hidden--visually {border: 0;clip: rect(1px 1px 1px 1px);clip: rect(1px, 1px, 1px, 1px);height: 1px;margin: -1px;overflow: hidden;padding: 0;position: absolute;width: 1px;}#sk-eba6ba32-85a1-40b4-9c6c-7eb77c011f4a div.sk-estimator {font-family: monospace;background-color: #f0f8ff;border: 1px dotted black;border-radius: 0.25em;box-sizing: border-box;margin-bottom: 0.5em;}#sk-eba6ba32-85a1-40b4-9c6c-7eb77c011f4a div.sk-estimator:hover {background-color: #d4ebff;}#sk-eba6ba32-85a1-40b4-9c6c-7eb77c011f4a div.sk-parallel-item::after {content: \"\";width: 100%;border-bottom: 1px solid gray;flex-grow: 1;}#sk-eba6ba32-85a1-40b4-9c6c-7eb77c011f4a div.sk-label:hover label.sk-toggleable__label {background-color: #d4ebff;}#sk-eba6ba32-85a1-40b4-9c6c-7eb77c011f4a div.sk-serial::before {content: \"\";position: absolute;border-left: 1px solid gray;box-sizing: border-box;top: 2em;bottom: 0;left: 50%;}#sk-eba6ba32-85a1-40b4-9c6c-7eb77c011f4a div.sk-serial {display: flex;flex-direction: column;align-items: center;background-color: white;padding-right: 0.2em;padding-left: 0.2em;}#sk-eba6ba32-85a1-40b4-9c6c-7eb77c011f4a div.sk-item {z-index: 1;}#sk-eba6ba32-85a1-40b4-9c6c-7eb77c011f4a div.sk-parallel {display: flex;align-items: stretch;justify-content: center;background-color: white;}#sk-eba6ba32-85a1-40b4-9c6c-7eb77c011f4a div.sk-parallel::before {content: \"\";position: absolute;border-left: 1px solid gray;box-sizing: border-box;top: 2em;bottom: 0;left: 50%;}#sk-eba6ba32-85a1-40b4-9c6c-7eb77c011f4a div.sk-parallel-item {display: flex;flex-direction: column;position: relative;background-color: white;}#sk-eba6ba32-85a1-40b4-9c6c-7eb77c011f4a div.sk-parallel-item:first-child::after {align-self: flex-end;width: 50%;}#sk-eba6ba32-85a1-40b4-9c6c-7eb77c011f4a div.sk-parallel-item:last-child::after {align-self: flex-start;width: 50%;}#sk-eba6ba32-85a1-40b4-9c6c-7eb77c011f4a div.sk-parallel-item:only-child::after {width: 0;}#sk-eba6ba32-85a1-40b4-9c6c-7eb77c011f4a div.sk-dashed-wrapped {border: 1px dashed gray;margin: 0 0.4em 0.5em 0.4em;box-sizing: border-box;padding-bottom: 0.4em;background-color: white;position: relative;}#sk-eba6ba32-85a1-40b4-9c6c-7eb77c011f4a div.sk-label label {font-family: monospace;font-weight: bold;background-color: white;display: inline-block;line-height: 1.2em;}#sk-eba6ba32-85a1-40b4-9c6c-7eb77c011f4a div.sk-label-container {position: relative;z-index: 2;text-align: center;}#sk-eba6ba32-85a1-40b4-9c6c-7eb77c011f4a div.sk-container {display: inline-block;position: relative;}</style><div id=\"sk-eba6ba32-85a1-40b4-9c6c-7eb77c011f4a\" class\"sk-top-container\"><div class=\"sk-container\"><div class=\"sk-item sk-dashed-wrapped\"><div class=\"sk-label-container\"><div class=\"sk-label sk-toggleable\"><input class=\"sk-toggleable__control sk-hidden--visually\" id=\"aa78edb7-8e88-4127-a6b7-2ecb2eb6aa30\" type=\"checkbox\" ><label class=\"sk-toggleable__label\" for=\"aa78edb7-8e88-4127-a6b7-2ecb2eb6aa30\">VotingClassifier</label><div class=\"sk-toggleable__content\"><pre>VotingClassifier(estimators=[('log_regrassion',\n",
       "                              LogisticRegression(multi_class='multinomial',\n",
       "                                                 random_state=1)),\n",
       "                             ('random_forest',\n",
       "                              RandomForestClassifier(n_estimators=50,\n",
       "                                                     random_state=1)),\n",
       "                             ('gnb', GaussianNB())])</pre></div></div></div><div class=\"sk-parallel\"><div class=\"sk-parallel-item\"><div class=\"sk-item\"><div class=\"sk-label-container\"><div class=\"sk-label sk-toggleable\"><label>log_regrassion</label></div></div><div class=\"sk-serial\"><div class=\"sk-item\"><div class=\"sk-estimator sk-toggleable\"><input class=\"sk-toggleable__control sk-hidden--visually\" id=\"7cb50f42-6218-42b7-a5d4-57d487cf2764\" type=\"checkbox\" ><label class=\"sk-toggleable__label\" for=\"7cb50f42-6218-42b7-a5d4-57d487cf2764\">LogisticRegression</label><div class=\"sk-toggleable__content\"><pre>LogisticRegression(multi_class='multinomial', random_state=1)</pre></div></div></div></div></div></div><div class=\"sk-parallel-item\"><div class=\"sk-item\"><div class=\"sk-label-container\"><div class=\"sk-label sk-toggleable\"><label>random_forest</label></div></div><div class=\"sk-serial\"><div class=\"sk-item\"><div class=\"sk-estimator sk-toggleable\"><input class=\"sk-toggleable__control sk-hidden--visually\" id=\"e94adb38-a925-40ab-8c24-065684fb0dcb\" type=\"checkbox\" ><label class=\"sk-toggleable__label\" for=\"e94adb38-a925-40ab-8c24-065684fb0dcb\">RandomForestClassifier</label><div class=\"sk-toggleable__content\"><pre>RandomForestClassifier(n_estimators=50, random_state=1)</pre></div></div></div></div></div></div><div class=\"sk-parallel-item\"><div class=\"sk-item\"><div class=\"sk-label-container\"><div class=\"sk-label sk-toggleable\"><label>gnb</label></div></div><div class=\"sk-serial\"><div class=\"sk-item\"><div class=\"sk-estimator sk-toggleable\"><input class=\"sk-toggleable__control sk-hidden--visually\" id=\"af2227f0-4986-44b0-9292-e65ce5b69998\" type=\"checkbox\" ><label class=\"sk-toggleable__label\" for=\"af2227f0-4986-44b0-9292-e65ce5b69998\">GaussianNB</label><div class=\"sk-toggleable__content\"><pre>GaussianNB()</pre></div></div></div></div></div></div></div></div></div></div>"
      ],
      "text/plain": [
       "VotingClassifier(estimators=[('log_regrassion',\n",
       "                              LogisticRegression(multi_class='multinomial',\n",
       "                                                 random_state=1)),\n",
       "                             ('random_forest',\n",
       "                              RandomForestClassifier(n_estimators=50,\n",
       "                                                     random_state=1)),\n",
       "                             ('gnb', GaussianNB())])"
      ]
     },
     "execution_count": 61,
     "metadata": {},
     "output_type": "execute_result"
    }
   ],
   "source": [
    "from sklearn.linear_model import LogisticRegression\n",
    "from sklearn.naive_bayes import GaussianNB\n",
    "from sklearn.ensemble import RandomForestClassifier, VotingClassifier\n",
    "import xgboost\n",
    "\n",
    "clf1 = LogisticRegression(multi_class=\"multinomial\", random_state=1)\n",
    "clf2 = RandomForestClassifier(n_estimators=50, random_state=1)\n",
    "clf3 = GaussianNB()\n",
    "\n",
    "blending_classifier = VotingClassifier(\n",
    "    estimators=[(\"log_regrassion\", clf1), \n",
    "                (\"random_forest\", clf2), \n",
    "                (\"gnb\", clf3)] \n",
    ")\n",
    "blending_classifier"
   ]
  },
  {
   "cell_type": "code",
   "execution_count": 63,
   "metadata": {},
   "outputs": [
    {
     "data": {
      "text/html": [
       "<style>#sk-68e88f9b-34e6-475d-afeb-3d0ff4de1ea2 {color: black;background-color: white;}#sk-68e88f9b-34e6-475d-afeb-3d0ff4de1ea2 pre{padding: 0;}#sk-68e88f9b-34e6-475d-afeb-3d0ff4de1ea2 div.sk-toggleable {background-color: white;}#sk-68e88f9b-34e6-475d-afeb-3d0ff4de1ea2 label.sk-toggleable__label {cursor: pointer;display: block;width: 100%;margin-bottom: 0;padding: 0.3em;box-sizing: border-box;text-align: center;}#sk-68e88f9b-34e6-475d-afeb-3d0ff4de1ea2 div.sk-toggleable__content {max-height: 0;max-width: 0;overflow: hidden;text-align: left;background-color: #f0f8ff;}#sk-68e88f9b-34e6-475d-afeb-3d0ff4de1ea2 div.sk-toggleable__content pre {margin: 0.2em;color: black;border-radius: 0.25em;background-color: #f0f8ff;}#sk-68e88f9b-34e6-475d-afeb-3d0ff4de1ea2 input.sk-toggleable__control:checked~div.sk-toggleable__content {max-height: 200px;max-width: 100%;overflow: auto;}#sk-68e88f9b-34e6-475d-afeb-3d0ff4de1ea2 div.sk-estimator input.sk-toggleable__control:checked~label.sk-toggleable__label {background-color: #d4ebff;}#sk-68e88f9b-34e6-475d-afeb-3d0ff4de1ea2 div.sk-label input.sk-toggleable__control:checked~label.sk-toggleable__label {background-color: #d4ebff;}#sk-68e88f9b-34e6-475d-afeb-3d0ff4de1ea2 input.sk-hidden--visually {border: 0;clip: rect(1px 1px 1px 1px);clip: rect(1px, 1px, 1px, 1px);height: 1px;margin: -1px;overflow: hidden;padding: 0;position: absolute;width: 1px;}#sk-68e88f9b-34e6-475d-afeb-3d0ff4de1ea2 div.sk-estimator {font-family: monospace;background-color: #f0f8ff;border: 1px dotted black;border-radius: 0.25em;box-sizing: border-box;margin-bottom: 0.5em;}#sk-68e88f9b-34e6-475d-afeb-3d0ff4de1ea2 div.sk-estimator:hover {background-color: #d4ebff;}#sk-68e88f9b-34e6-475d-afeb-3d0ff4de1ea2 div.sk-parallel-item::after {content: \"\";width: 100%;border-bottom: 1px solid gray;flex-grow: 1;}#sk-68e88f9b-34e6-475d-afeb-3d0ff4de1ea2 div.sk-label:hover label.sk-toggleable__label {background-color: #d4ebff;}#sk-68e88f9b-34e6-475d-afeb-3d0ff4de1ea2 div.sk-serial::before {content: \"\";position: absolute;border-left: 1px solid gray;box-sizing: border-box;top: 2em;bottom: 0;left: 50%;}#sk-68e88f9b-34e6-475d-afeb-3d0ff4de1ea2 div.sk-serial {display: flex;flex-direction: column;align-items: center;background-color: white;padding-right: 0.2em;padding-left: 0.2em;}#sk-68e88f9b-34e6-475d-afeb-3d0ff4de1ea2 div.sk-item {z-index: 1;}#sk-68e88f9b-34e6-475d-afeb-3d0ff4de1ea2 div.sk-parallel {display: flex;align-items: stretch;justify-content: center;background-color: white;}#sk-68e88f9b-34e6-475d-afeb-3d0ff4de1ea2 div.sk-parallel::before {content: \"\";position: absolute;border-left: 1px solid gray;box-sizing: border-box;top: 2em;bottom: 0;left: 50%;}#sk-68e88f9b-34e6-475d-afeb-3d0ff4de1ea2 div.sk-parallel-item {display: flex;flex-direction: column;position: relative;background-color: white;}#sk-68e88f9b-34e6-475d-afeb-3d0ff4de1ea2 div.sk-parallel-item:first-child::after {align-self: flex-end;width: 50%;}#sk-68e88f9b-34e6-475d-afeb-3d0ff4de1ea2 div.sk-parallel-item:last-child::after {align-self: flex-start;width: 50%;}#sk-68e88f9b-34e6-475d-afeb-3d0ff4de1ea2 div.sk-parallel-item:only-child::after {width: 0;}#sk-68e88f9b-34e6-475d-afeb-3d0ff4de1ea2 div.sk-dashed-wrapped {border: 1px dashed gray;margin: 0 0.4em 0.5em 0.4em;box-sizing: border-box;padding-bottom: 0.4em;background-color: white;position: relative;}#sk-68e88f9b-34e6-475d-afeb-3d0ff4de1ea2 div.sk-label label {font-family: monospace;font-weight: bold;background-color: white;display: inline-block;line-height: 1.2em;}#sk-68e88f9b-34e6-475d-afeb-3d0ff4de1ea2 div.sk-label-container {position: relative;z-index: 2;text-align: center;}#sk-68e88f9b-34e6-475d-afeb-3d0ff4de1ea2 div.sk-container {display: inline-block;position: relative;}</style><div id=\"sk-68e88f9b-34e6-475d-afeb-3d0ff4de1ea2\" class\"sk-top-container\"><div class=\"sk-container\"><div class=\"sk-item sk-dashed-wrapped\"><div class=\"sk-label-container\"><div class=\"sk-label sk-toggleable\"><input class=\"sk-toggleable__control sk-hidden--visually\" id=\"a698952e-99bf-4607-b662-0be5879ab7ea\" type=\"checkbox\" ><label class=\"sk-toggleable__label\" for=\"a698952e-99bf-4607-b662-0be5879ab7ea\">Pipeline</label><div class=\"sk-toggleable__content\"><pre>Pipeline(steps=[('preprocessor',\n",
       "                 Pipeline(steps=[('data_transformer',\n",
       "                                  ColumnTransformer(transformers=[('numerical',\n",
       "                                                                   Pipeline(steps=[('imputer',\n",
       "                                                                                    SimpleImputer()),\n",
       "                                                                                   ('scaler',\n",
       "                                                                                    StandardScaler()),\n",
       "                                                                                   ('fs',\n",
       "                                                                                    SelectKBest(k='all'))]),\n",
       "                                                                   ['Age',\n",
       "                                                                    'Height',\n",
       "                                                                    'Weight']),\n",
       "                                                                  ('categorical',\n",
       "                                                                   Pipeline(steps=[('imputer',\n",
       "                                                                                    SimpleImputer()),\n",
       "                                                                                   ('onehot',\n",
       "                                                                                    OneHotEncoder(handle_unknown='ignore'))...\n",
       "                                                                    'Elections',\n",
       "                                                                    'Number of '\n",
       "                                                                    'friends',\n",
       "                                                                    'Spending '\n",
       "                                                                    'on '\n",
       "                                                                    'healthy '\n",
       "                                                                    'eating',\n",
       "                                                                    'Music',\n",
       "                                                                    'Movies',\n",
       "                                                                    'Friends '\n",
       "                                                                    'versus '\n",
       "                                                                    'money',\n",
       "                                                                    'Changing '\n",
       "                                                                    'the '\n",
       "                                                                    'past'])]))])),\n",
       "                ('classifier',\n",
       "                 VotingClassifier(estimators=[('log_regrassion',\n",
       "                                               LogisticRegression(multi_class='multinomial',\n",
       "                                                                  random_state=1)),\n",
       "                                              ('random_forest',\n",
       "                                               RandomForestClassifier(n_estimators=50,\n",
       "                                                                      random_state=1)),\n",
       "                                              ('gnb', GaussianNB())]))])</pre></div></div></div><div class=\"sk-serial\"><div class=\"sk-item\"><div class=\"sk-label-container\"><div class=\"sk-label sk-toggleable\"><input class=\"sk-toggleable__control sk-hidden--visually\" id=\"241e7a58-179d-4c7a-a060-5c92840c598c\" type=\"checkbox\" ><label class=\"sk-toggleable__label\" for=\"241e7a58-179d-4c7a-a060-5c92840c598c\">preprocessor: Pipeline</label><div class=\"sk-toggleable__content\"><pre>Pipeline(steps=[('data_transformer',\n",
       "                 ColumnTransformer(transformers=[('numerical',\n",
       "                                                  Pipeline(steps=[('imputer',\n",
       "                                                                   SimpleImputer()),\n",
       "                                                                  ('scaler',\n",
       "                                                                   StandardScaler()),\n",
       "                                                                  ('fs',\n",
       "                                                                   SelectKBest(k='all'))]),\n",
       "                                                  ['Age', 'Height', 'Weight']),\n",
       "                                                 ('categorical',\n",
       "                                                  Pipeline(steps=[('imputer',\n",
       "                                                                   SimpleImputer()),\n",
       "                                                                  ('onehot',\n",
       "                                                                   OneHotEncoder(handle_unknown='ignore'))]),\n",
       "                                                  ['Getting up', 'God',\n",
       "                                                   'Health', 'Borrowed stuff',\n",
       "                                                   'Self-criticism',\n",
       "                                                   'Elections',\n",
       "                                                   'Number of friends',\n",
       "                                                   'Spending on healthy eating',\n",
       "                                                   'Music', 'Movies',\n",
       "                                                   'Friends versus money',\n",
       "                                                   'Changing the past'])]))])</pre></div></div></div><div class=\"sk-serial\"><div class=\"sk-item sk-dashed-wrapped\"><div class=\"sk-label-container\"><div class=\"sk-label sk-toggleable\"><input class=\"sk-toggleable__control sk-hidden--visually\" id=\"8d213c21-a2e3-4d4e-8b64-18ab15675ad9\" type=\"checkbox\" ><label class=\"sk-toggleable__label\" for=\"8d213c21-a2e3-4d4e-8b64-18ab15675ad9\">data_transformer: ColumnTransformer</label><div class=\"sk-toggleable__content\"><pre>ColumnTransformer(transformers=[('numerical',\n",
       "                                 Pipeline(steps=[('imputer', SimpleImputer()),\n",
       "                                                 ('scaler', StandardScaler()),\n",
       "                                                 ('fs', SelectKBest(k='all'))]),\n",
       "                                 ['Age', 'Height', 'Weight']),\n",
       "                                ('categorical',\n",
       "                                 Pipeline(steps=[('imputer', SimpleImputer()),\n",
       "                                                 ('onehot',\n",
       "                                                  OneHotEncoder(handle_unknown='ignore'))]),\n",
       "                                 ['Getting up', 'God', 'Health',\n",
       "                                  'Borrowed stuff', 'Self-criticism',\n",
       "                                  'Elections', 'Number of friends',\n",
       "                                  'Spending on healthy eating', 'Music',\n",
       "                                  'Movies', 'Friends versus money',\n",
       "                                  'Changing the past'])])</pre></div></div></div><div class=\"sk-parallel\"><div class=\"sk-parallel-item\"><div class=\"sk-item\"><div class=\"sk-label-container\"><div class=\"sk-label sk-toggleable\"><input class=\"sk-toggleable__control sk-hidden--visually\" id=\"b8570103-147f-438b-90c5-53f2e4985e9a\" type=\"checkbox\" ><label class=\"sk-toggleable__label\" for=\"b8570103-147f-438b-90c5-53f2e4985e9a\">numerical</label><div class=\"sk-toggleable__content\"><pre>['Age', 'Height', 'Weight']</pre></div></div></div><div class=\"sk-serial\"><div class=\"sk-item\"><div class=\"sk-serial\"><div class=\"sk-item\"><div class=\"sk-estimator sk-toggleable\"><input class=\"sk-toggleable__control sk-hidden--visually\" id=\"2dfbd7e6-2cee-44ca-8f76-650a758a04c9\" type=\"checkbox\" ><label class=\"sk-toggleable__label\" for=\"2dfbd7e6-2cee-44ca-8f76-650a758a04c9\">SimpleImputer</label><div class=\"sk-toggleable__content\"><pre>SimpleImputer()</pre></div></div></div><div class=\"sk-item\"><div class=\"sk-estimator sk-toggleable\"><input class=\"sk-toggleable__control sk-hidden--visually\" id=\"3fff7781-33e0-4a40-93fb-daf4f5366bce\" type=\"checkbox\" ><label class=\"sk-toggleable__label\" for=\"3fff7781-33e0-4a40-93fb-daf4f5366bce\">StandardScaler</label><div class=\"sk-toggleable__content\"><pre>StandardScaler()</pre></div></div></div><div class=\"sk-item\"><div class=\"sk-estimator sk-toggleable\"><input class=\"sk-toggleable__control sk-hidden--visually\" id=\"5c0252a1-4aad-4179-bd50-028db8987151\" type=\"checkbox\" ><label class=\"sk-toggleable__label\" for=\"5c0252a1-4aad-4179-bd50-028db8987151\">SelectKBest</label><div class=\"sk-toggleable__content\"><pre>SelectKBest(k='all')</pre></div></div></div></div></div></div></div></div><div class=\"sk-parallel-item\"><div class=\"sk-item\"><div class=\"sk-label-container\"><div class=\"sk-label sk-toggleable\"><input class=\"sk-toggleable__control sk-hidden--visually\" id=\"81a613cc-fa0f-4a2a-b6e4-1b427c893616\" type=\"checkbox\" ><label class=\"sk-toggleable__label\" for=\"81a613cc-fa0f-4a2a-b6e4-1b427c893616\">categorical</label><div class=\"sk-toggleable__content\"><pre>['Getting up', 'God', 'Health', 'Borrowed stuff', 'Self-criticism', 'Elections', 'Number of friends', 'Spending on healthy eating', 'Music', 'Movies', 'Friends versus money', 'Changing the past']</pre></div></div></div><div class=\"sk-serial\"><div class=\"sk-item\"><div class=\"sk-serial\"><div class=\"sk-item\"><div class=\"sk-estimator sk-toggleable\"><input class=\"sk-toggleable__control sk-hidden--visually\" id=\"b944b848-4e25-4651-a955-8b673ebc0e39\" type=\"checkbox\" ><label class=\"sk-toggleable__label\" for=\"b944b848-4e25-4651-a955-8b673ebc0e39\">SimpleImputer</label><div class=\"sk-toggleable__content\"><pre>SimpleImputer()</pre></div></div></div><div class=\"sk-item\"><div class=\"sk-estimator sk-toggleable\"><input class=\"sk-toggleable__control sk-hidden--visually\" id=\"3cd15d45-a948-458e-8dcd-277dec292af4\" type=\"checkbox\" ><label class=\"sk-toggleable__label\" for=\"3cd15d45-a948-458e-8dcd-277dec292af4\">OneHotEncoder</label><div class=\"sk-toggleable__content\"><pre>OneHotEncoder(handle_unknown='ignore')</pre></div></div></div></div></div></div></div></div></div></div></div></div><div class=\"sk-item sk-dashed-wrapped\"><div class=\"sk-label-container\"><div class=\"sk-label sk-toggleable\"><input class=\"sk-toggleable__control sk-hidden--visually\" id=\"448cda9c-d7c2-4152-b5ea-92e62985c931\" type=\"checkbox\" ><label class=\"sk-toggleable__label\" for=\"448cda9c-d7c2-4152-b5ea-92e62985c931\">classifier: VotingClassifier</label><div class=\"sk-toggleable__content\"><pre>VotingClassifier(estimators=[('log_regrassion',\n",
       "                              LogisticRegression(multi_class='multinomial',\n",
       "                                                 random_state=1)),\n",
       "                             ('random_forest',\n",
       "                              RandomForestClassifier(n_estimators=50,\n",
       "                                                     random_state=1)),\n",
       "                             ('gnb', GaussianNB())])</pre></div></div></div><div class=\"sk-parallel\"><div class=\"sk-parallel-item\"><div class=\"sk-item\"><div class=\"sk-label-container\"><div class=\"sk-label sk-toggleable\"><label>log_regrassion</label></div></div><div class=\"sk-serial\"><div class=\"sk-item\"><div class=\"sk-estimator sk-toggleable\"><input class=\"sk-toggleable__control sk-hidden--visually\" id=\"9fe10067-5e44-4925-b3e7-e252b88d60be\" type=\"checkbox\" ><label class=\"sk-toggleable__label\" for=\"9fe10067-5e44-4925-b3e7-e252b88d60be\">LogisticRegression</label><div class=\"sk-toggleable__content\"><pre>LogisticRegression(multi_class='multinomial', random_state=1)</pre></div></div></div></div></div></div><div class=\"sk-parallel-item\"><div class=\"sk-item\"><div class=\"sk-label-container\"><div class=\"sk-label sk-toggleable\"><label>random_forest</label></div></div><div class=\"sk-serial\"><div class=\"sk-item\"><div class=\"sk-estimator sk-toggleable\"><input class=\"sk-toggleable__control sk-hidden--visually\" id=\"759de78d-94f1-4eee-b81e-c359f847a295\" type=\"checkbox\" ><label class=\"sk-toggleable__label\" for=\"759de78d-94f1-4eee-b81e-c359f847a295\">RandomForestClassifier</label><div class=\"sk-toggleable__content\"><pre>RandomForestClassifier(n_estimators=50, random_state=1)</pre></div></div></div></div></div></div><div class=\"sk-parallel-item\"><div class=\"sk-item\"><div class=\"sk-label-container\"><div class=\"sk-label sk-toggleable\"><label>gnb</label></div></div><div class=\"sk-serial\"><div class=\"sk-item\"><div class=\"sk-estimator sk-toggleable\"><input class=\"sk-toggleable__control sk-hidden--visually\" id=\"f0db9359-211f-4a82-8e93-644cf7d1b0b5\" type=\"checkbox\" ><label class=\"sk-toggleable__label\" for=\"f0db9359-211f-4a82-8e93-644cf7d1b0b5\">GaussianNB</label><div class=\"sk-toggleable__content\"><pre>GaussianNB()</pre></div></div></div></div></div></div></div></div></div></div></div></div>"
      ],
      "text/plain": [
       "Pipeline(steps=[('preprocessor',\n",
       "                 Pipeline(steps=[('data_transformer',\n",
       "                                  ColumnTransformer(transformers=[('numerical',\n",
       "                                                                   Pipeline(steps=[('imputer',\n",
       "                                                                                    SimpleImputer()),\n",
       "                                                                                   ('scaler',\n",
       "                                                                                    StandardScaler()),\n",
       "                                                                                   ('fs',\n",
       "                                                                                    SelectKBest(k='all'))]),\n",
       "                                                                   ['Age',\n",
       "                                                                    'Height',\n",
       "                                                                    'Weight']),\n",
       "                                                                  ('categorical',\n",
       "                                                                   Pipeline(steps=[('imputer',\n",
       "                                                                                    SimpleImputer()),\n",
       "                                                                                   ('onehot',\n",
       "                                                                                    OneHotEncoder(handle_unknown='ignore'))...\n",
       "                                                                    'Elections',\n",
       "                                                                    'Number of '\n",
       "                                                                    'friends',\n",
       "                                                                    'Spending '\n",
       "                                                                    'on '\n",
       "                                                                    'healthy '\n",
       "                                                                    'eating',\n",
       "                                                                    'Music',\n",
       "                                                                    'Movies',\n",
       "                                                                    'Friends '\n",
       "                                                                    'versus '\n",
       "                                                                    'money',\n",
       "                                                                    'Changing '\n",
       "                                                                    'the '\n",
       "                                                                    'past'])]))])),\n",
       "                ('classifier',\n",
       "                 VotingClassifier(estimators=[('log_regrassion',\n",
       "                                               LogisticRegression(multi_class='multinomial',\n",
       "                                                                  random_state=1)),\n",
       "                                              ('random_forest',\n",
       "                                               RandomForestClassifier(n_estimators=50,\n",
       "                                                                      random_state=1)),\n",
       "                                              ('gnb', GaussianNB())]))])"
      ]
     },
     "execution_count": 63,
     "metadata": {},
     "output_type": "execute_result"
    }
   ],
   "source": [
    "classifier_pipline = Pipeline(\n",
    "    steps=[(\"preprocessor\", preprocessor),\n",
    "           (\"classifier\", blending_classifier)]\n",
    ")\n",
    "\n",
    "classifier_pipline"
   ]
  },
  {
   "cell_type": "code",
   "execution_count": null,
   "metadata": {},
   "outputs": [],
   "source": []
  },
  {
   "cell_type": "markdown",
   "metadata": {},
   "source": [
    "# А что если хотим использовать стекинг?"
   ]
  },
  {
   "cell_type": "code",
   "execution_count": 64,
   "metadata": {},
   "outputs": [],
   "source": [
    "# Your code here.\n",
    "from sklearn.ensemble import RandomForestClassifier\n",
    "from sklearn.svm import LinearSVC\n",
    "from sklearn.ensemble import StackingClassifier\n"
   ]
  },
  {
   "cell_type": "code",
   "execution_count": 65,
   "metadata": {},
   "outputs": [],
   "source": [
    "# получим список эстиматоров\n",
    "estimators = [\n",
    "    (\"Random_Forest\", RandomForestClassifier()),\n",
    "    (\"Xgboost\", xgboost.XGBClassifier()),\n",
    "    (\"SVM\", LinearSVC()),\n",
    "    \n",
    "]\n",
    "\n",
    "# построим классификатор используя стекинг и наш список классификаторов\n",
    "stacking_classifier = StackingClassifier(\n",
    "    estimators=estimators,\n",
    "    final_estimator=LogisticRegression(n_jobs=-1, verbose=True),\n",
    "    n_jobs=-1,\n",
    "    verbose=True,\n",
    ")"
   ]
  },
  {
   "cell_type": "code",
   "execution_count": 66,
   "metadata": {},
   "outputs": [
    {
     "data": {
      "text/html": [
       "<style>#sk-828f0332-fbb8-4885-9ede-02b06d425825 {color: black;background-color: white;}#sk-828f0332-fbb8-4885-9ede-02b06d425825 pre{padding: 0;}#sk-828f0332-fbb8-4885-9ede-02b06d425825 div.sk-toggleable {background-color: white;}#sk-828f0332-fbb8-4885-9ede-02b06d425825 label.sk-toggleable__label {cursor: pointer;display: block;width: 100%;margin-bottom: 0;padding: 0.3em;box-sizing: border-box;text-align: center;}#sk-828f0332-fbb8-4885-9ede-02b06d425825 div.sk-toggleable__content {max-height: 0;max-width: 0;overflow: hidden;text-align: left;background-color: #f0f8ff;}#sk-828f0332-fbb8-4885-9ede-02b06d425825 div.sk-toggleable__content pre {margin: 0.2em;color: black;border-radius: 0.25em;background-color: #f0f8ff;}#sk-828f0332-fbb8-4885-9ede-02b06d425825 input.sk-toggleable__control:checked~div.sk-toggleable__content {max-height: 200px;max-width: 100%;overflow: auto;}#sk-828f0332-fbb8-4885-9ede-02b06d425825 div.sk-estimator input.sk-toggleable__control:checked~label.sk-toggleable__label {background-color: #d4ebff;}#sk-828f0332-fbb8-4885-9ede-02b06d425825 div.sk-label input.sk-toggleable__control:checked~label.sk-toggleable__label {background-color: #d4ebff;}#sk-828f0332-fbb8-4885-9ede-02b06d425825 input.sk-hidden--visually {border: 0;clip: rect(1px 1px 1px 1px);clip: rect(1px, 1px, 1px, 1px);height: 1px;margin: -1px;overflow: hidden;padding: 0;position: absolute;width: 1px;}#sk-828f0332-fbb8-4885-9ede-02b06d425825 div.sk-estimator {font-family: monospace;background-color: #f0f8ff;border: 1px dotted black;border-radius: 0.25em;box-sizing: border-box;margin-bottom: 0.5em;}#sk-828f0332-fbb8-4885-9ede-02b06d425825 div.sk-estimator:hover {background-color: #d4ebff;}#sk-828f0332-fbb8-4885-9ede-02b06d425825 div.sk-parallel-item::after {content: \"\";width: 100%;border-bottom: 1px solid gray;flex-grow: 1;}#sk-828f0332-fbb8-4885-9ede-02b06d425825 div.sk-label:hover label.sk-toggleable__label {background-color: #d4ebff;}#sk-828f0332-fbb8-4885-9ede-02b06d425825 div.sk-serial::before {content: \"\";position: absolute;border-left: 1px solid gray;box-sizing: border-box;top: 2em;bottom: 0;left: 50%;}#sk-828f0332-fbb8-4885-9ede-02b06d425825 div.sk-serial {display: flex;flex-direction: column;align-items: center;background-color: white;padding-right: 0.2em;padding-left: 0.2em;}#sk-828f0332-fbb8-4885-9ede-02b06d425825 div.sk-item {z-index: 1;}#sk-828f0332-fbb8-4885-9ede-02b06d425825 div.sk-parallel {display: flex;align-items: stretch;justify-content: center;background-color: white;}#sk-828f0332-fbb8-4885-9ede-02b06d425825 div.sk-parallel::before {content: \"\";position: absolute;border-left: 1px solid gray;box-sizing: border-box;top: 2em;bottom: 0;left: 50%;}#sk-828f0332-fbb8-4885-9ede-02b06d425825 div.sk-parallel-item {display: flex;flex-direction: column;position: relative;background-color: white;}#sk-828f0332-fbb8-4885-9ede-02b06d425825 div.sk-parallel-item:first-child::after {align-self: flex-end;width: 50%;}#sk-828f0332-fbb8-4885-9ede-02b06d425825 div.sk-parallel-item:last-child::after {align-self: flex-start;width: 50%;}#sk-828f0332-fbb8-4885-9ede-02b06d425825 div.sk-parallel-item:only-child::after {width: 0;}#sk-828f0332-fbb8-4885-9ede-02b06d425825 div.sk-dashed-wrapped {border: 1px dashed gray;margin: 0 0.4em 0.5em 0.4em;box-sizing: border-box;padding-bottom: 0.4em;background-color: white;position: relative;}#sk-828f0332-fbb8-4885-9ede-02b06d425825 div.sk-label label {font-family: monospace;font-weight: bold;background-color: white;display: inline-block;line-height: 1.2em;}#sk-828f0332-fbb8-4885-9ede-02b06d425825 div.sk-label-container {position: relative;z-index: 2;text-align: center;}#sk-828f0332-fbb8-4885-9ede-02b06d425825 div.sk-container {display: inline-block;position: relative;}</style><div id=\"sk-828f0332-fbb8-4885-9ede-02b06d425825\" class\"sk-top-container\"><div class=\"sk-container\"><div class=\"sk-item sk-dashed-wrapped\"><div class=\"sk-label-container\"><div class=\"sk-label sk-toggleable\"><input class=\"sk-toggleable__control sk-hidden--visually\" id=\"fc608dcd-9fd1-499e-b552-1e8aef093d31\" type=\"checkbox\" ><label class=\"sk-toggleable__label\" for=\"fc608dcd-9fd1-499e-b552-1e8aef093d31\">StackingClassifier</label><div class=\"sk-toggleable__content\"><pre>StackingClassifier(estimators=[('Random_Forest', RandomForestClassifier()),\n",
       "                               ('Xgboost',\n",
       "                                XGBClassifier(base_score=None, booster=None,\n",
       "                                              colsample_bylevel=None,\n",
       "                                              colsample_bynode=None,\n",
       "                                              colsample_bytree=None, gamma=None,\n",
       "                                              gpu_id=None,\n",
       "                                              importance_type='gain',\n",
       "                                              interaction_constraints=None,\n",
       "                                              learning_rate=None,\n",
       "                                              max_delta_step=None,\n",
       "                                              max_depth=None,\n",
       "                                              min_child_weight=None,\n",
       "                                              missing=nan,\n",
       "                                              monotone_constraints=None,\n",
       "                                              n_estimators=100, n_jobs=None,\n",
       "                                              num_parallel_tree=None,\n",
       "                                              random_state=None, reg_alpha=None,\n",
       "                                              reg_lambda=None,\n",
       "                                              scale_pos_weight=None,\n",
       "                                              subsample=None, tree_method=None,\n",
       "                                              validate_parameters=None,\n",
       "                                              verbosity=None)),\n",
       "                               ('SVM', LinearSVC())],\n",
       "                   final_estimator=LogisticRegression(n_jobs=-1, verbose=True),\n",
       "                   n_jobs=-1, verbose=True)</pre></div></div></div><div class=\"sk-serial\"><div class=\"sk-item\"><div class=\"sk-parallel\"><div class=\"sk-parallel-item\"><div class=\"sk-item\"><div class=\"sk-label-container\"><div class=\"sk-label sk-toggleable\"><label>Random_Forest</label></div></div><div class=\"sk-serial\"><div class=\"sk-item\"><div class=\"sk-estimator sk-toggleable\"><input class=\"sk-toggleable__control sk-hidden--visually\" id=\"ac598a67-17ba-4b9c-be2e-8035d5120193\" type=\"checkbox\" ><label class=\"sk-toggleable__label\" for=\"ac598a67-17ba-4b9c-be2e-8035d5120193\">RandomForestClassifier</label><div class=\"sk-toggleable__content\"><pre>RandomForestClassifier()</pre></div></div></div></div></div></div><div class=\"sk-parallel-item\"><div class=\"sk-item\"><div class=\"sk-label-container\"><div class=\"sk-label sk-toggleable\"><label>Xgboost</label></div></div><div class=\"sk-serial\"><div class=\"sk-item\"><div class=\"sk-estimator sk-toggleable\"><input class=\"sk-toggleable__control sk-hidden--visually\" id=\"7feeb27a-a0b8-487d-9712-e55ad55d67b9\" type=\"checkbox\" ><label class=\"sk-toggleable__label\" for=\"7feeb27a-a0b8-487d-9712-e55ad55d67b9\">XGBClassifier</label><div class=\"sk-toggleable__content\"><pre>XGBClassifier(base_score=None, booster=None, colsample_bylevel=None,\n",
       "              colsample_bynode=None, colsample_bytree=None, gamma=None,\n",
       "              gpu_id=None, importance_type='gain', interaction_constraints=None,\n",
       "              learning_rate=None, max_delta_step=None, max_depth=None,\n",
       "              min_child_weight=None, missing=nan, monotone_constraints=None,\n",
       "              n_estimators=100, n_jobs=None, num_parallel_tree=None,\n",
       "              random_state=None, reg_alpha=None, reg_lambda=None,\n",
       "              scale_pos_weight=None, subsample=None, tree_method=None,\n",
       "              validate_parameters=None, verbosity=None)</pre></div></div></div></div></div></div><div class=\"sk-parallel-item\"><div class=\"sk-item\"><div class=\"sk-label-container\"><div class=\"sk-label sk-toggleable\"><label>SVM</label></div></div><div class=\"sk-serial\"><div class=\"sk-item\"><div class=\"sk-estimator sk-toggleable\"><input class=\"sk-toggleable__control sk-hidden--visually\" id=\"9a325465-3598-477e-957d-aafc978c1926\" type=\"checkbox\" ><label class=\"sk-toggleable__label\" for=\"9a325465-3598-477e-957d-aafc978c1926\">LinearSVC</label><div class=\"sk-toggleable__content\"><pre>LinearSVC()</pre></div></div></div></div></div></div></div></div><div class=\"sk-item\"><div class=\"sk-parallel\"><div class=\"sk-parallel-item\"><div class=\"sk-item\"><div class=\"sk-label-container\"><div class=\"sk-label sk-toggleable\"><label>final_estimator</label></div></div><div class=\"sk-serial\"><div class=\"sk-item\"><div class=\"sk-estimator sk-toggleable\"><input class=\"sk-toggleable__control sk-hidden--visually\" id=\"66bbaa28-01b5-480b-a734-2a6023f3ceca\" type=\"checkbox\" ><label class=\"sk-toggleable__label\" for=\"66bbaa28-01b5-480b-a734-2a6023f3ceca\">LogisticRegression</label><div class=\"sk-toggleable__content\"><pre>LogisticRegression(n_jobs=-1, verbose=True)</pre></div></div></div></div></div></div></div></div></div></div></div></div>"
      ],
      "text/plain": [
       "StackingClassifier(estimators=[('Random_Forest', RandomForestClassifier()),\n",
       "                               ('Xgboost',\n",
       "                                XGBClassifier(base_score=None, booster=None,\n",
       "                                              colsample_bylevel=None,\n",
       "                                              colsample_bynode=None,\n",
       "                                              colsample_bytree=None, gamma=None,\n",
       "                                              gpu_id=None,\n",
       "                                              importance_type='gain',\n",
       "                                              interaction_constraints=None,\n",
       "                                              learning_rate=None,\n",
       "                                              max_delta_step=None,\n",
       "                                              max_depth=None,\n",
       "                                              min_child_weight=None,\n",
       "                                              missing=nan,\n",
       "                                              monotone_constraints=None,\n",
       "                                              n_estimators=100, n_jobs=None,\n",
       "                                              num_parallel_tree=None,\n",
       "                                              random_state=None, reg_alpha=None,\n",
       "                                              reg_lambda=None,\n",
       "                                              scale_pos_weight=None,\n",
       "                                              subsample=None, tree_method=None,\n",
       "                                              validate_parameters=None,\n",
       "                                              verbosity=None)),\n",
       "                               ('SVM', LinearSVC())],\n",
       "                   final_estimator=LogisticRegression(n_jobs=-1, verbose=True),\n",
       "                   n_jobs=-1, verbose=True)"
      ]
     },
     "execution_count": 66,
     "metadata": {},
     "output_type": "execute_result"
    }
   ],
   "source": [
    "stacking_classifier"
   ]
  },
  {
   "cell_type": "code",
   "execution_count": null,
   "metadata": {},
   "outputs": [],
   "source": []
  },
  {
   "cell_type": "code",
   "execution_count": 67,
   "metadata": {},
   "outputs": [
    {
     "data": {
      "text/html": [
       "<style>#sk-4932f6ad-7283-453a-bd7c-e770435500e5 {color: black;background-color: white;}#sk-4932f6ad-7283-453a-bd7c-e770435500e5 pre{padding: 0;}#sk-4932f6ad-7283-453a-bd7c-e770435500e5 div.sk-toggleable {background-color: white;}#sk-4932f6ad-7283-453a-bd7c-e770435500e5 label.sk-toggleable__label {cursor: pointer;display: block;width: 100%;margin-bottom: 0;padding: 0.3em;box-sizing: border-box;text-align: center;}#sk-4932f6ad-7283-453a-bd7c-e770435500e5 div.sk-toggleable__content {max-height: 0;max-width: 0;overflow: hidden;text-align: left;background-color: #f0f8ff;}#sk-4932f6ad-7283-453a-bd7c-e770435500e5 div.sk-toggleable__content pre {margin: 0.2em;color: black;border-radius: 0.25em;background-color: #f0f8ff;}#sk-4932f6ad-7283-453a-bd7c-e770435500e5 input.sk-toggleable__control:checked~div.sk-toggleable__content {max-height: 200px;max-width: 100%;overflow: auto;}#sk-4932f6ad-7283-453a-bd7c-e770435500e5 div.sk-estimator input.sk-toggleable__control:checked~label.sk-toggleable__label {background-color: #d4ebff;}#sk-4932f6ad-7283-453a-bd7c-e770435500e5 div.sk-label input.sk-toggleable__control:checked~label.sk-toggleable__label {background-color: #d4ebff;}#sk-4932f6ad-7283-453a-bd7c-e770435500e5 input.sk-hidden--visually {border: 0;clip: rect(1px 1px 1px 1px);clip: rect(1px, 1px, 1px, 1px);height: 1px;margin: -1px;overflow: hidden;padding: 0;position: absolute;width: 1px;}#sk-4932f6ad-7283-453a-bd7c-e770435500e5 div.sk-estimator {font-family: monospace;background-color: #f0f8ff;border: 1px dotted black;border-radius: 0.25em;box-sizing: border-box;margin-bottom: 0.5em;}#sk-4932f6ad-7283-453a-bd7c-e770435500e5 div.sk-estimator:hover {background-color: #d4ebff;}#sk-4932f6ad-7283-453a-bd7c-e770435500e5 div.sk-parallel-item::after {content: \"\";width: 100%;border-bottom: 1px solid gray;flex-grow: 1;}#sk-4932f6ad-7283-453a-bd7c-e770435500e5 div.sk-label:hover label.sk-toggleable__label {background-color: #d4ebff;}#sk-4932f6ad-7283-453a-bd7c-e770435500e5 div.sk-serial::before {content: \"\";position: absolute;border-left: 1px solid gray;box-sizing: border-box;top: 2em;bottom: 0;left: 50%;}#sk-4932f6ad-7283-453a-bd7c-e770435500e5 div.sk-serial {display: flex;flex-direction: column;align-items: center;background-color: white;padding-right: 0.2em;padding-left: 0.2em;}#sk-4932f6ad-7283-453a-bd7c-e770435500e5 div.sk-item {z-index: 1;}#sk-4932f6ad-7283-453a-bd7c-e770435500e5 div.sk-parallel {display: flex;align-items: stretch;justify-content: center;background-color: white;}#sk-4932f6ad-7283-453a-bd7c-e770435500e5 div.sk-parallel::before {content: \"\";position: absolute;border-left: 1px solid gray;box-sizing: border-box;top: 2em;bottom: 0;left: 50%;}#sk-4932f6ad-7283-453a-bd7c-e770435500e5 div.sk-parallel-item {display: flex;flex-direction: column;position: relative;background-color: white;}#sk-4932f6ad-7283-453a-bd7c-e770435500e5 div.sk-parallel-item:first-child::after {align-self: flex-end;width: 50%;}#sk-4932f6ad-7283-453a-bd7c-e770435500e5 div.sk-parallel-item:last-child::after {align-self: flex-start;width: 50%;}#sk-4932f6ad-7283-453a-bd7c-e770435500e5 div.sk-parallel-item:only-child::after {width: 0;}#sk-4932f6ad-7283-453a-bd7c-e770435500e5 div.sk-dashed-wrapped {border: 1px dashed gray;margin: 0 0.4em 0.5em 0.4em;box-sizing: border-box;padding-bottom: 0.4em;background-color: white;position: relative;}#sk-4932f6ad-7283-453a-bd7c-e770435500e5 div.sk-label label {font-family: monospace;font-weight: bold;background-color: white;display: inline-block;line-height: 1.2em;}#sk-4932f6ad-7283-453a-bd7c-e770435500e5 div.sk-label-container {position: relative;z-index: 2;text-align: center;}#sk-4932f6ad-7283-453a-bd7c-e770435500e5 div.sk-container {display: inline-block;position: relative;}</style><div id=\"sk-4932f6ad-7283-453a-bd7c-e770435500e5\" class\"sk-top-container\"><div class=\"sk-container\"><div class=\"sk-item sk-dashed-wrapped\"><div class=\"sk-label-container\"><div class=\"sk-label sk-toggleable\"><input class=\"sk-toggleable__control sk-hidden--visually\" id=\"44a04f02-ecc9-4d36-aae8-0d69824bf3ff\" type=\"checkbox\" ><label class=\"sk-toggleable__label\" for=\"44a04f02-ecc9-4d36-aae8-0d69824bf3ff\">Pipeline</label><div class=\"sk-toggleable__content\"><pre>Pipeline(steps=[('preprocessor',\n",
       "                 Pipeline(steps=[('data_transformer',\n",
       "                                  ColumnTransformer(transformers=[('numerical',\n",
       "                                                                   Pipeline(steps=[('imputer',\n",
       "                                                                                    SimpleImputer()),\n",
       "                                                                                   ('scaler',\n",
       "                                                                                    StandardScaler()),\n",
       "                                                                                   ('fs',\n",
       "                                                                                    SelectKBest(k='all'))]),\n",
       "                                                                   ['Age',\n",
       "                                                                    'Height',\n",
       "                                                                    'Weight']),\n",
       "                                                                  ('categorical',\n",
       "                                                                   Pipeline(steps=[('imputer',\n",
       "                                                                                    SimpleImputer()),\n",
       "                                                                                   ('onehot',\n",
       "                                                                                    OneHotEncoder(handle_unknown='ignore'))...\n",
       "                                                               max_delta_step=None,\n",
       "                                                               max_depth=None,\n",
       "                                                               min_child_weight=None,\n",
       "                                                               missing=nan,\n",
       "                                                               monotone_constraints=None,\n",
       "                                                               n_estimators=100,\n",
       "                                                               n_jobs=None,\n",
       "                                                               num_parallel_tree=None,\n",
       "                                                               random_state=None,\n",
       "                                                               reg_alpha=None,\n",
       "                                                               reg_lambda=None,\n",
       "                                                               scale_pos_weight=None,\n",
       "                                                               subsample=None,\n",
       "                                                               tree_method=None,\n",
       "                                                               validate_parameters=None,\n",
       "                                                               verbosity=None))],\n",
       "                                    final_estimator=LogisticRegression(n_jobs=-1),\n",
       "                                    n_jobs=-1))])</pre></div></div></div><div class=\"sk-serial\"><div class=\"sk-item\"><div class=\"sk-label-container\"><div class=\"sk-label sk-toggleable\"><input class=\"sk-toggleable__control sk-hidden--visually\" id=\"f3baa978-7a63-4ba5-8e45-419afc442a50\" type=\"checkbox\" ><label class=\"sk-toggleable__label\" for=\"f3baa978-7a63-4ba5-8e45-419afc442a50\">preprocessor: Pipeline</label><div class=\"sk-toggleable__content\"><pre>Pipeline(steps=[('data_transformer',\n",
       "                 ColumnTransformer(transformers=[('numerical',\n",
       "                                                  Pipeline(steps=[('imputer',\n",
       "                                                                   SimpleImputer()),\n",
       "                                                                  ('scaler',\n",
       "                                                                   StandardScaler()),\n",
       "                                                                  ('fs',\n",
       "                                                                   SelectKBest(k='all'))]),\n",
       "                                                  ['Age', 'Height', 'Weight']),\n",
       "                                                 ('categorical',\n",
       "                                                  Pipeline(steps=[('imputer',\n",
       "                                                                   SimpleImputer()),\n",
       "                                                                  ('onehot',\n",
       "                                                                   OneHotEncoder(handle_unknown='ignore'))]),\n",
       "                                                  ['Getting up', 'God',\n",
       "                                                   'Health', 'Borrowed stuff',\n",
       "                                                   'Self-criticism',\n",
       "                                                   'Elections',\n",
       "                                                   'Number of friends',\n",
       "                                                   'Spending on healthy eating',\n",
       "                                                   'Music', 'Movies',\n",
       "                                                   'Friends versus money',\n",
       "                                                   'Changing the past'])]))])</pre></div></div></div><div class=\"sk-serial\"><div class=\"sk-item sk-dashed-wrapped\"><div class=\"sk-label-container\"><div class=\"sk-label sk-toggleable\"><input class=\"sk-toggleable__control sk-hidden--visually\" id=\"e63cb86f-022d-490b-8a2f-ca88812e0236\" type=\"checkbox\" ><label class=\"sk-toggleable__label\" for=\"e63cb86f-022d-490b-8a2f-ca88812e0236\">data_transformer: ColumnTransformer</label><div class=\"sk-toggleable__content\"><pre>ColumnTransformer(transformers=[('numerical',\n",
       "                                 Pipeline(steps=[('imputer', SimpleImputer()),\n",
       "                                                 ('scaler', StandardScaler()),\n",
       "                                                 ('fs', SelectKBest(k='all'))]),\n",
       "                                 ['Age', 'Height', 'Weight']),\n",
       "                                ('categorical',\n",
       "                                 Pipeline(steps=[('imputer', SimpleImputer()),\n",
       "                                                 ('onehot',\n",
       "                                                  OneHotEncoder(handle_unknown='ignore'))]),\n",
       "                                 ['Getting up', 'God', 'Health',\n",
       "                                  'Borrowed stuff', 'Self-criticism',\n",
       "                                  'Elections', 'Number of friends',\n",
       "                                  'Spending on healthy eating', 'Music',\n",
       "                                  'Movies', 'Friends versus money',\n",
       "                                  'Changing the past'])])</pre></div></div></div><div class=\"sk-parallel\"><div class=\"sk-parallel-item\"><div class=\"sk-item\"><div class=\"sk-label-container\"><div class=\"sk-label sk-toggleable\"><input class=\"sk-toggleable__control sk-hidden--visually\" id=\"ea08da2e-1786-41bc-97a1-70d79414ddf3\" type=\"checkbox\" ><label class=\"sk-toggleable__label\" for=\"ea08da2e-1786-41bc-97a1-70d79414ddf3\">numerical</label><div class=\"sk-toggleable__content\"><pre>['Age', 'Height', 'Weight']</pre></div></div></div><div class=\"sk-serial\"><div class=\"sk-item\"><div class=\"sk-serial\"><div class=\"sk-item\"><div class=\"sk-estimator sk-toggleable\"><input class=\"sk-toggleable__control sk-hidden--visually\" id=\"b4cc117a-99ec-4ed1-95c8-589ec9896a34\" type=\"checkbox\" ><label class=\"sk-toggleable__label\" for=\"b4cc117a-99ec-4ed1-95c8-589ec9896a34\">SimpleImputer</label><div class=\"sk-toggleable__content\"><pre>SimpleImputer()</pre></div></div></div><div class=\"sk-item\"><div class=\"sk-estimator sk-toggleable\"><input class=\"sk-toggleable__control sk-hidden--visually\" id=\"d172ebb1-2a61-466f-837f-8b9abe61096b\" type=\"checkbox\" ><label class=\"sk-toggleable__label\" for=\"d172ebb1-2a61-466f-837f-8b9abe61096b\">StandardScaler</label><div class=\"sk-toggleable__content\"><pre>StandardScaler()</pre></div></div></div><div class=\"sk-item\"><div class=\"sk-estimator sk-toggleable\"><input class=\"sk-toggleable__control sk-hidden--visually\" id=\"0686d4ad-c106-4b8c-925f-74132112a86a\" type=\"checkbox\" ><label class=\"sk-toggleable__label\" for=\"0686d4ad-c106-4b8c-925f-74132112a86a\">SelectKBest</label><div class=\"sk-toggleable__content\"><pre>SelectKBest(k='all')</pre></div></div></div></div></div></div></div></div><div class=\"sk-parallel-item\"><div class=\"sk-item\"><div class=\"sk-label-container\"><div class=\"sk-label sk-toggleable\"><input class=\"sk-toggleable__control sk-hidden--visually\" id=\"fb4949c9-2d4d-4115-9063-c532d8fe4134\" type=\"checkbox\" ><label class=\"sk-toggleable__label\" for=\"fb4949c9-2d4d-4115-9063-c532d8fe4134\">categorical</label><div class=\"sk-toggleable__content\"><pre>['Getting up', 'God', 'Health', 'Borrowed stuff', 'Self-criticism', 'Elections', 'Number of friends', 'Spending on healthy eating', 'Music', 'Movies', 'Friends versus money', 'Changing the past']</pre></div></div></div><div class=\"sk-serial\"><div class=\"sk-item\"><div class=\"sk-serial\"><div class=\"sk-item\"><div class=\"sk-estimator sk-toggleable\"><input class=\"sk-toggleable__control sk-hidden--visually\" id=\"e02efcfa-5d08-4f1b-b7a7-269edae737dd\" type=\"checkbox\" ><label class=\"sk-toggleable__label\" for=\"e02efcfa-5d08-4f1b-b7a7-269edae737dd\">SimpleImputer</label><div class=\"sk-toggleable__content\"><pre>SimpleImputer()</pre></div></div></div><div class=\"sk-item\"><div class=\"sk-estimator sk-toggleable\"><input class=\"sk-toggleable__control sk-hidden--visually\" id=\"2b6f0373-7a72-41b2-a5b6-dc1d56094444\" type=\"checkbox\" ><label class=\"sk-toggleable__label\" for=\"2b6f0373-7a72-41b2-a5b6-dc1d56094444\">OneHotEncoder</label><div class=\"sk-toggleable__content\"><pre>OneHotEncoder(handle_unknown='ignore')</pre></div></div></div></div></div></div></div></div></div></div></div></div><div class=\"sk-item\"><div class=\"sk-label-container\"><div class=\"sk-label sk-toggleable\"><input class=\"sk-toggleable__control sk-hidden--visually\" id=\"8bf6a0a8-8c9f-4ce0-95e7-191b5b0cab61\" type=\"checkbox\" ><label class=\"sk-toggleable__label\" for=\"8bf6a0a8-8c9f-4ce0-95e7-191b5b0cab61\">classifier: StackingClassifier</label><div class=\"sk-toggleable__content\"><pre>StackingClassifier(estimators=[('Random_Forest', RandomForestClassifier()),\n",
       "                               ('SVM', LinearSVC()),\n",
       "                               ('Xgboost',\n",
       "                                XGBClassifier(base_score=None, booster=None,\n",
       "                                              colsample_bylevel=None,\n",
       "                                              colsample_bynode=None,\n",
       "                                              colsample_bytree=None, gamma=None,\n",
       "                                              gpu_id=None,\n",
       "                                              importance_type='gain',\n",
       "                                              interaction_constraints=None,\n",
       "                                              learning_rate=None,\n",
       "                                              max_delta_step=None,\n",
       "                                              max_depth=None,\n",
       "                                              min_child_weight=None,\n",
       "                                              missing=nan,\n",
       "                                              monotone_constraints=None,\n",
       "                                              n_estimators=100, n_jobs=None,\n",
       "                                              num_parallel_tree=None,\n",
       "                                              random_state=None, reg_alpha=None,\n",
       "                                              reg_lambda=None,\n",
       "                                              scale_pos_weight=None,\n",
       "                                              subsample=None, tree_method=None,\n",
       "                                              validate_parameters=None,\n",
       "                                              verbosity=None))],\n",
       "                   final_estimator=LogisticRegression(n_jobs=-1), n_jobs=-1)</pre></div></div></div><div class=\"sk-serial\"><div class=\"sk-item\"><div class=\"sk-parallel\"><div class=\"sk-parallel-item\"><div class=\"sk-item\"><div class=\"sk-label-container\"><div class=\"sk-label sk-toggleable\"><label>Random_Forest</label></div></div><div class=\"sk-serial\"><div class=\"sk-item\"><div class=\"sk-estimator sk-toggleable\"><input class=\"sk-toggleable__control sk-hidden--visually\" id=\"70cabb0c-2ede-4213-b25a-79dce9c58054\" type=\"checkbox\" ><label class=\"sk-toggleable__label\" for=\"70cabb0c-2ede-4213-b25a-79dce9c58054\">RandomForestClassifier</label><div class=\"sk-toggleable__content\"><pre>RandomForestClassifier()</pre></div></div></div></div></div></div><div class=\"sk-parallel-item\"><div class=\"sk-item\"><div class=\"sk-label-container\"><div class=\"sk-label sk-toggleable\"><label>SVM</label></div></div><div class=\"sk-serial\"><div class=\"sk-item\"><div class=\"sk-estimator sk-toggleable\"><input class=\"sk-toggleable__control sk-hidden--visually\" id=\"90cd8535-e938-4a4a-984f-afde472d866b\" type=\"checkbox\" ><label class=\"sk-toggleable__label\" for=\"90cd8535-e938-4a4a-984f-afde472d866b\">LinearSVC</label><div class=\"sk-toggleable__content\"><pre>LinearSVC()</pre></div></div></div></div></div></div><div class=\"sk-parallel-item\"><div class=\"sk-item\"><div class=\"sk-label-container\"><div class=\"sk-label sk-toggleable\"><label>Xgboost</label></div></div><div class=\"sk-serial\"><div class=\"sk-item\"><div class=\"sk-estimator sk-toggleable\"><input class=\"sk-toggleable__control sk-hidden--visually\" id=\"95905df3-d954-4801-8c91-fa42aa466bd3\" type=\"checkbox\" ><label class=\"sk-toggleable__label\" for=\"95905df3-d954-4801-8c91-fa42aa466bd3\">XGBClassifier</label><div class=\"sk-toggleable__content\"><pre>XGBClassifier(base_score=None, booster=None, colsample_bylevel=None,\n",
       "              colsample_bynode=None, colsample_bytree=None, gamma=None,\n",
       "              gpu_id=None, importance_type='gain', interaction_constraints=None,\n",
       "              learning_rate=None, max_delta_step=None, max_depth=None,\n",
       "              min_child_weight=None, missing=nan, monotone_constraints=None,\n",
       "              n_estimators=100, n_jobs=None, num_parallel_tree=None,\n",
       "              random_state=None, reg_alpha=None, reg_lambda=None,\n",
       "              scale_pos_weight=None, subsample=None, tree_method=None,\n",
       "              validate_parameters=None, verbosity=None)</pre></div></div></div></div></div></div></div></div><div class=\"sk-item\"><div class=\"sk-parallel\"><div class=\"sk-parallel-item\"><div class=\"sk-item\"><div class=\"sk-label-container\"><div class=\"sk-label sk-toggleable\"><label>final_estimator</label></div></div><div class=\"sk-serial\"><div class=\"sk-item\"><div class=\"sk-estimator sk-toggleable\"><input class=\"sk-toggleable__control sk-hidden--visually\" id=\"221a3ffc-2771-4197-b09d-b2528a1ed006\" type=\"checkbox\" ><label class=\"sk-toggleable__label\" for=\"221a3ffc-2771-4197-b09d-b2528a1ed006\">LogisticRegression</label><div class=\"sk-toggleable__content\"><pre>LogisticRegression(n_jobs=-1)</pre></div></div></div></div></div></div></div></div></div></div></div></div></div></div>"
      ],
      "text/plain": [
       "Pipeline(steps=[('preprocessor',\n",
       "                 Pipeline(steps=[('data_transformer',\n",
       "                                  ColumnTransformer(transformers=[('numerical',\n",
       "                                                                   Pipeline(steps=[('imputer',\n",
       "                                                                                    SimpleImputer()),\n",
       "                                                                                   ('scaler',\n",
       "                                                                                    StandardScaler()),\n",
       "                                                                                   ('fs',\n",
       "                                                                                    SelectKBest(k='all'))]),\n",
       "                                                                   ['Age',\n",
       "                                                                    'Height',\n",
       "                                                                    'Weight']),\n",
       "                                                                  ('categorical',\n",
       "                                                                   Pipeline(steps=[('imputer',\n",
       "                                                                                    SimpleImputer()),\n",
       "                                                                                   ('onehot',\n",
       "                                                                                    OneHotEncoder(handle_unknown='ignore'))...\n",
       "                                                               max_delta_step=None,\n",
       "                                                               max_depth=None,\n",
       "                                                               min_child_weight=None,\n",
       "                                                               missing=nan,\n",
       "                                                               monotone_constraints=None,\n",
       "                                                               n_estimators=100,\n",
       "                                                               n_jobs=None,\n",
       "                                                               num_parallel_tree=None,\n",
       "                                                               random_state=None,\n",
       "                                                               reg_alpha=None,\n",
       "                                                               reg_lambda=None,\n",
       "                                                               scale_pos_weight=None,\n",
       "                                                               subsample=None,\n",
       "                                                               tree_method=None,\n",
       "                                                               validate_parameters=None,\n",
       "                                                               verbosity=None))],\n",
       "                                    final_estimator=LogisticRegression(n_jobs=-1),\n",
       "                                    n_jobs=-1))])"
      ]
     },
     "execution_count": 67,
     "metadata": {},
     "output_type": "execute_result"
    }
   ],
   "source": [
    "# получим список эстиматоров\n",
    "estimators = [\n",
    "    (\"Random_Forest\", RandomForestClassifier()),\n",
    "    (\"SVM\", LinearSVC()),\n",
    "    (\"Xgboost\", xgboost.XGBClassifier()),\n",
    "]\n",
    "\n",
    "# построим классификатор используя стекинг и наш список классификаторов\n",
    "stacking_classifier = StackingClassifier(\n",
    "    estimators=estimators, final_estimator=LogisticRegression(n_jobs=-1), n_jobs=-1\n",
    ")\n",
    "\n",
    "classifier_pipline = Pipeline(\n",
    "    steps=[(\"preprocessor\", preprocessor), (\"classifier\", stacking_classifier)]\n",
    ")\n",
    "\n",
    "classifier_pipline"
   ]
  },
  {
   "cell_type": "code",
   "execution_count": null,
   "metadata": {},
   "outputs": [],
   "source": []
  },
  {
   "cell_type": "code",
   "execution_count": null,
   "metadata": {},
   "outputs": [],
   "source": []
  },
  {
   "cell_type": "code",
   "execution_count": null,
   "metadata": {},
   "outputs": [],
   "source": []
  },
  {
   "cell_type": "code",
   "execution_count": null,
   "metadata": {},
   "outputs": [],
   "source": []
  },
  {
   "cell_type": "markdown",
   "metadata": {},
   "source": [
    "# Чуть более хитрый стекинг/блендинг моделей"
   ]
  },
  {
   "cell_type": "code",
   "execution_count": 68,
   "metadata": {},
   "outputs": [
    {
     "data": {
      "text/html": [
       "<style>#sk-a0ffea58-490c-4942-8822-6ccbc5837f86 {color: black;background-color: white;}#sk-a0ffea58-490c-4942-8822-6ccbc5837f86 pre{padding: 0;}#sk-a0ffea58-490c-4942-8822-6ccbc5837f86 div.sk-toggleable {background-color: white;}#sk-a0ffea58-490c-4942-8822-6ccbc5837f86 label.sk-toggleable__label {cursor: pointer;display: block;width: 100%;margin-bottom: 0;padding: 0.3em;box-sizing: border-box;text-align: center;}#sk-a0ffea58-490c-4942-8822-6ccbc5837f86 div.sk-toggleable__content {max-height: 0;max-width: 0;overflow: hidden;text-align: left;background-color: #f0f8ff;}#sk-a0ffea58-490c-4942-8822-6ccbc5837f86 div.sk-toggleable__content pre {margin: 0.2em;color: black;border-radius: 0.25em;background-color: #f0f8ff;}#sk-a0ffea58-490c-4942-8822-6ccbc5837f86 input.sk-toggleable__control:checked~div.sk-toggleable__content {max-height: 200px;max-width: 100%;overflow: auto;}#sk-a0ffea58-490c-4942-8822-6ccbc5837f86 div.sk-estimator input.sk-toggleable__control:checked~label.sk-toggleable__label {background-color: #d4ebff;}#sk-a0ffea58-490c-4942-8822-6ccbc5837f86 div.sk-label input.sk-toggleable__control:checked~label.sk-toggleable__label {background-color: #d4ebff;}#sk-a0ffea58-490c-4942-8822-6ccbc5837f86 input.sk-hidden--visually {border: 0;clip: rect(1px 1px 1px 1px);clip: rect(1px, 1px, 1px, 1px);height: 1px;margin: -1px;overflow: hidden;padding: 0;position: absolute;width: 1px;}#sk-a0ffea58-490c-4942-8822-6ccbc5837f86 div.sk-estimator {font-family: monospace;background-color: #f0f8ff;border: 1px dotted black;border-radius: 0.25em;box-sizing: border-box;margin-bottom: 0.5em;}#sk-a0ffea58-490c-4942-8822-6ccbc5837f86 div.sk-estimator:hover {background-color: #d4ebff;}#sk-a0ffea58-490c-4942-8822-6ccbc5837f86 div.sk-parallel-item::after {content: \"\";width: 100%;border-bottom: 1px solid gray;flex-grow: 1;}#sk-a0ffea58-490c-4942-8822-6ccbc5837f86 div.sk-label:hover label.sk-toggleable__label {background-color: #d4ebff;}#sk-a0ffea58-490c-4942-8822-6ccbc5837f86 div.sk-serial::before {content: \"\";position: absolute;border-left: 1px solid gray;box-sizing: border-box;top: 2em;bottom: 0;left: 50%;}#sk-a0ffea58-490c-4942-8822-6ccbc5837f86 div.sk-serial {display: flex;flex-direction: column;align-items: center;background-color: white;padding-right: 0.2em;padding-left: 0.2em;}#sk-a0ffea58-490c-4942-8822-6ccbc5837f86 div.sk-item {z-index: 1;}#sk-a0ffea58-490c-4942-8822-6ccbc5837f86 div.sk-parallel {display: flex;align-items: stretch;justify-content: center;background-color: white;}#sk-a0ffea58-490c-4942-8822-6ccbc5837f86 div.sk-parallel::before {content: \"\";position: absolute;border-left: 1px solid gray;box-sizing: border-box;top: 2em;bottom: 0;left: 50%;}#sk-a0ffea58-490c-4942-8822-6ccbc5837f86 div.sk-parallel-item {display: flex;flex-direction: column;position: relative;background-color: white;}#sk-a0ffea58-490c-4942-8822-6ccbc5837f86 div.sk-parallel-item:first-child::after {align-self: flex-end;width: 50%;}#sk-a0ffea58-490c-4942-8822-6ccbc5837f86 div.sk-parallel-item:last-child::after {align-self: flex-start;width: 50%;}#sk-a0ffea58-490c-4942-8822-6ccbc5837f86 div.sk-parallel-item:only-child::after {width: 0;}#sk-a0ffea58-490c-4942-8822-6ccbc5837f86 div.sk-dashed-wrapped {border: 1px dashed gray;margin: 0 0.4em 0.5em 0.4em;box-sizing: border-box;padding-bottom: 0.4em;background-color: white;position: relative;}#sk-a0ffea58-490c-4942-8822-6ccbc5837f86 div.sk-label label {font-family: monospace;font-weight: bold;background-color: white;display: inline-block;line-height: 1.2em;}#sk-a0ffea58-490c-4942-8822-6ccbc5837f86 div.sk-label-container {position: relative;z-index: 2;text-align: center;}#sk-a0ffea58-490c-4942-8822-6ccbc5837f86 div.sk-container {display: inline-block;position: relative;}</style><div id=\"sk-a0ffea58-490c-4942-8822-6ccbc5837f86\" class\"sk-top-container\"><div class=\"sk-container\"><div class=\"sk-item sk-dashed-wrapped\"><div class=\"sk-label-container\"><div class=\"sk-label sk-toggleable\"><input class=\"sk-toggleable__control sk-hidden--visually\" id=\"62aa3844-2396-4b47-9e0a-df5a5a96e3a5\" type=\"checkbox\" ><label class=\"sk-toggleable__label\" for=\"62aa3844-2396-4b47-9e0a-df5a5a96e3a5\">StackingClassifier</label><div class=\"sk-toggleable__content\"><pre>StackingClassifier(estimators=[('SVM',\n",
       "                                Pipeline(steps=[('pipeline',\n",
       "                                                 Pipeline(steps=[('data_transformer',\n",
       "                                                                  ColumnTransformer(transformers=[('numerical',\n",
       "                                                                                                   Pipeline(steps=[('imputer',\n",
       "                                                                                                                    SimpleImputer()),\n",
       "                                                                                                                   ('scaler',\n",
       "                                                                                                                    StandardScaler()),\n",
       "                                                                                                                   ('fs',\n",
       "                                                                                                                    SelectKBest(k='all'))]),\n",
       "                                                                                                   ['Age',\n",
       "                                                                                                    'Height',\n",
       "                                                                                                    'Weight']),\n",
       "                                                                                                  ('categorical',\n",
       "                                                                                                   Pipeline(steps=[('imputer',\n",
       "                                                                                                                    SimpleImputer()),\n",
       "                                                                                                                   ('onehot',\n",
       "                                                                                                                    OneHo...\n",
       "                                                               max_depth=None,\n",
       "                                                               min_child_weight=None,\n",
       "                                                               missing=nan,\n",
       "                                                               monotone_constraints=None,\n",
       "                                                               n_estimators=100,\n",
       "                                                               n_jobs=None,\n",
       "                                                               num_parallel_tree=None,\n",
       "                                                               random_state=None,\n",
       "                                                               reg_alpha=None,\n",
       "                                                               reg_lambda=None,\n",
       "                                                               scale_pos_weight=None,\n",
       "                                                               subsample=None,\n",
       "                                                               tree_method=None,\n",
       "                                                               validate_parameters=None,\n",
       "                                                               verbosity=None))]))],\n",
       "                   final_estimator=LogisticRegression(n_jobs=-1, verbose=True),\n",
       "                   n_jobs=-1, verbose=True)</pre></div></div></div><div class=\"sk-serial\"><div class=\"sk-item\"><div class=\"sk-parallel\"><div class=\"sk-parallel-item\"><div class=\"sk-item\"><div class=\"sk-label-container\"><div class=\"sk-label sk-toggleable\"><label>SVM</label></div></div><div class=\"sk-serial\"><div class=\"sk-item\"><div class=\"sk-serial\"><div class=\"sk-item\"><div class=\"sk-label-container\"><div class=\"sk-label sk-toggleable\"><input class=\"sk-toggleable__control sk-hidden--visually\" id=\"501322ed-ea27-4dbc-b825-73746aef1b7b\" type=\"checkbox\" ><label class=\"sk-toggleable__label\" for=\"501322ed-ea27-4dbc-b825-73746aef1b7b\">pipeline: Pipeline</label><div class=\"sk-toggleable__content\"><pre>Pipeline(steps=[('data_transformer',\n",
       "                 ColumnTransformer(transformers=[('numerical',\n",
       "                                                  Pipeline(steps=[('imputer',\n",
       "                                                                   SimpleImputer()),\n",
       "                                                                  ('scaler',\n",
       "                                                                   StandardScaler()),\n",
       "                                                                  ('fs',\n",
       "                                                                   SelectKBest(k='all'))]),\n",
       "                                                  ['Age', 'Height', 'Weight']),\n",
       "                                                 ('categorical',\n",
       "                                                  Pipeline(steps=[('imputer',\n",
       "                                                                   SimpleImputer()),\n",
       "                                                                  ('onehot',\n",
       "                                                                   OneHotEncoder(handle_unknown='ignore'))]),\n",
       "                                                  ['Getting up', 'God',\n",
       "                                                   'Health', 'Borrowed stuff',\n",
       "                                                   'Self-criticism',\n",
       "                                                   'Elections',\n",
       "                                                   'Number of friends',\n",
       "                                                   'Spending on healthy eating',\n",
       "                                                   'Music', 'Movies',\n",
       "                                                   'Friends versus money',\n",
       "                                                   'Changing the past'])]))])</pre></div></div></div><div class=\"sk-serial\"><div class=\"sk-item sk-dashed-wrapped\"><div class=\"sk-label-container\"><div class=\"sk-label sk-toggleable\"><input class=\"sk-toggleable__control sk-hidden--visually\" id=\"3b8ad1d4-b500-49e4-93e0-b2b6bc64f777\" type=\"checkbox\" ><label class=\"sk-toggleable__label\" for=\"3b8ad1d4-b500-49e4-93e0-b2b6bc64f777\">data_transformer: ColumnTransformer</label><div class=\"sk-toggleable__content\"><pre>ColumnTransformer(transformers=[('numerical',\n",
       "                                 Pipeline(steps=[('imputer', SimpleImputer()),\n",
       "                                                 ('scaler', StandardScaler()),\n",
       "                                                 ('fs', SelectKBest(k='all'))]),\n",
       "                                 ['Age', 'Height', 'Weight']),\n",
       "                                ('categorical',\n",
       "                                 Pipeline(steps=[('imputer', SimpleImputer()),\n",
       "                                                 ('onehot',\n",
       "                                                  OneHotEncoder(handle_unknown='ignore'))]),\n",
       "                                 ['Getting up', 'God', 'Health',\n",
       "                                  'Borrowed stuff', 'Self-criticism',\n",
       "                                  'Elections', 'Number of friends',\n",
       "                                  'Spending on healthy eating', 'Music',\n",
       "                                  'Movies', 'Friends versus money',\n",
       "                                  'Changing the past'])])</pre></div></div></div><div class=\"sk-parallel\"><div class=\"sk-parallel-item\"><div class=\"sk-item\"><div class=\"sk-label-container\"><div class=\"sk-label sk-toggleable\"><input class=\"sk-toggleable__control sk-hidden--visually\" id=\"21bc19e9-34b4-4e20-9fc5-0abd6acd59d9\" type=\"checkbox\" ><label class=\"sk-toggleable__label\" for=\"21bc19e9-34b4-4e20-9fc5-0abd6acd59d9\">numerical</label><div class=\"sk-toggleable__content\"><pre>['Age', 'Height', 'Weight']</pre></div></div></div><div class=\"sk-serial\"><div class=\"sk-item\"><div class=\"sk-serial\"><div class=\"sk-item\"><div class=\"sk-estimator sk-toggleable\"><input class=\"sk-toggleable__control sk-hidden--visually\" id=\"21092e94-1fc7-485c-932c-a2e790c8d7f8\" type=\"checkbox\" ><label class=\"sk-toggleable__label\" for=\"21092e94-1fc7-485c-932c-a2e790c8d7f8\">SimpleImputer</label><div class=\"sk-toggleable__content\"><pre>SimpleImputer()</pre></div></div></div><div class=\"sk-item\"><div class=\"sk-estimator sk-toggleable\"><input class=\"sk-toggleable__control sk-hidden--visually\" id=\"6070d7a5-bfc9-437b-9beb-1a1138d175ad\" type=\"checkbox\" ><label class=\"sk-toggleable__label\" for=\"6070d7a5-bfc9-437b-9beb-1a1138d175ad\">StandardScaler</label><div class=\"sk-toggleable__content\"><pre>StandardScaler()</pre></div></div></div><div class=\"sk-item\"><div class=\"sk-estimator sk-toggleable\"><input class=\"sk-toggleable__control sk-hidden--visually\" id=\"55e6b2a4-94f3-464c-840a-60f4532fc7f5\" type=\"checkbox\" ><label class=\"sk-toggleable__label\" for=\"55e6b2a4-94f3-464c-840a-60f4532fc7f5\">SelectKBest</label><div class=\"sk-toggleable__content\"><pre>SelectKBest(k='all')</pre></div></div></div></div></div></div></div></div><div class=\"sk-parallel-item\"><div class=\"sk-item\"><div class=\"sk-label-container\"><div class=\"sk-label sk-toggleable\"><input class=\"sk-toggleable__control sk-hidden--visually\" id=\"cfd89b24-c66c-4978-981c-52addea27d93\" type=\"checkbox\" ><label class=\"sk-toggleable__label\" for=\"cfd89b24-c66c-4978-981c-52addea27d93\">categorical</label><div class=\"sk-toggleable__content\"><pre>['Getting up', 'God', 'Health', 'Borrowed stuff', 'Self-criticism', 'Elections', 'Number of friends', 'Spending on healthy eating', 'Music', 'Movies', 'Friends versus money', 'Changing the past']</pre></div></div></div><div class=\"sk-serial\"><div class=\"sk-item\"><div class=\"sk-serial\"><div class=\"sk-item\"><div class=\"sk-estimator sk-toggleable\"><input class=\"sk-toggleable__control sk-hidden--visually\" id=\"c885689b-0a38-4c3a-b52a-e716c3369eff\" type=\"checkbox\" ><label class=\"sk-toggleable__label\" for=\"c885689b-0a38-4c3a-b52a-e716c3369eff\">SimpleImputer</label><div class=\"sk-toggleable__content\"><pre>SimpleImputer()</pre></div></div></div><div class=\"sk-item\"><div class=\"sk-estimator sk-toggleable\"><input class=\"sk-toggleable__control sk-hidden--visually\" id=\"e014f1de-f699-4c21-95bc-2eb408f57aa9\" type=\"checkbox\" ><label class=\"sk-toggleable__label\" for=\"e014f1de-f699-4c21-95bc-2eb408f57aa9\">OneHotEncoder</label><div class=\"sk-toggleable__content\"><pre>OneHotEncoder(handle_unknown='ignore')</pre></div></div></div></div></div></div></div></div></div></div></div></div><div class=\"sk-item\"><div class=\"sk-estimator sk-toggleable\"><input class=\"sk-toggleable__control sk-hidden--visually\" id=\"c2c55c9f-56a3-4a77-bbe0-7c014533c0d5\" type=\"checkbox\" ><label class=\"sk-toggleable__label\" for=\"c2c55c9f-56a3-4a77-bbe0-7c014533c0d5\">PCA</label><div class=\"sk-toggleable__content\"><pre>PCA()</pre></div></div></div><div class=\"sk-item\"><div class=\"sk-estimator sk-toggleable\"><input class=\"sk-toggleable__control sk-hidden--visually\" id=\"200be025-a4b6-4bf5-897d-164a76ce2e5b\" type=\"checkbox\" ><label class=\"sk-toggleable__label\" for=\"200be025-a4b6-4bf5-897d-164a76ce2e5b\">LinearSVC</label><div class=\"sk-toggleable__content\"><pre>LinearSVC()</pre></div></div></div></div></div></div></div></div><div class=\"sk-parallel-item\"><div class=\"sk-item\"><div class=\"sk-label-container\"><div class=\"sk-label sk-toggleable\"><label>Random_Forest</label></div></div><div class=\"sk-serial\"><div class=\"sk-item\"><div class=\"sk-serial\"><div class=\"sk-item\"><div class=\"sk-label-container\"><div class=\"sk-label sk-toggleable\"><input class=\"sk-toggleable__control sk-hidden--visually\" id=\"182b034c-eb2c-4395-b999-86bff03beba6\" type=\"checkbox\" ><label class=\"sk-toggleable__label\" for=\"182b034c-eb2c-4395-b999-86bff03beba6\">pipeline: Pipeline</label><div class=\"sk-toggleable__content\"><pre>Pipeline(steps=[('data_transformer',\n",
       "                 ColumnTransformer(transformers=[('numerical',\n",
       "                                                  Pipeline(steps=[('imputer',\n",
       "                                                                   SimpleImputer()),\n",
       "                                                                  ('scaler',\n",
       "                                                                   StandardScaler()),\n",
       "                                                                  ('fs',\n",
       "                                                                   SelectKBest(k='all'))]),\n",
       "                                                  ['Age', 'Height', 'Weight']),\n",
       "                                                 ('categorical',\n",
       "                                                  Pipeline(steps=[('imputer',\n",
       "                                                                   SimpleImputer()),\n",
       "                                                                  ('onehot',\n",
       "                                                                   OneHotEncoder(handle_unknown='ignore'))]),\n",
       "                                                  ['Getting up', 'God',\n",
       "                                                   'Health', 'Borrowed stuff',\n",
       "                                                   'Self-criticism',\n",
       "                                                   'Elections',\n",
       "                                                   'Number of friends',\n",
       "                                                   'Spending on healthy eating',\n",
       "                                                   'Music', 'Movies',\n",
       "                                                   'Friends versus money',\n",
       "                                                   'Changing the past'])]))])</pre></div></div></div><div class=\"sk-serial\"><div class=\"sk-item sk-dashed-wrapped\"><div class=\"sk-label-container\"><div class=\"sk-label sk-toggleable\"><input class=\"sk-toggleable__control sk-hidden--visually\" id=\"c98ab30b-f098-44e5-b318-63858a71623f\" type=\"checkbox\" ><label class=\"sk-toggleable__label\" for=\"c98ab30b-f098-44e5-b318-63858a71623f\">data_transformer: ColumnTransformer</label><div class=\"sk-toggleable__content\"><pre>ColumnTransformer(transformers=[('numerical',\n",
       "                                 Pipeline(steps=[('imputer', SimpleImputer()),\n",
       "                                                 ('scaler', StandardScaler()),\n",
       "                                                 ('fs', SelectKBest(k='all'))]),\n",
       "                                 ['Age', 'Height', 'Weight']),\n",
       "                                ('categorical',\n",
       "                                 Pipeline(steps=[('imputer', SimpleImputer()),\n",
       "                                                 ('onehot',\n",
       "                                                  OneHotEncoder(handle_unknown='ignore'))]),\n",
       "                                 ['Getting up', 'God', 'Health',\n",
       "                                  'Borrowed stuff', 'Self-criticism',\n",
       "                                  'Elections', 'Number of friends',\n",
       "                                  'Spending on healthy eating', 'Music',\n",
       "                                  'Movies', 'Friends versus money',\n",
       "                                  'Changing the past'])])</pre></div></div></div><div class=\"sk-parallel\"><div class=\"sk-parallel-item\"><div class=\"sk-item\"><div class=\"sk-label-container\"><div class=\"sk-label sk-toggleable\"><input class=\"sk-toggleable__control sk-hidden--visually\" id=\"5e2e20e2-9dce-4bae-956b-ee38f71bb1d1\" type=\"checkbox\" ><label class=\"sk-toggleable__label\" for=\"5e2e20e2-9dce-4bae-956b-ee38f71bb1d1\">numerical</label><div class=\"sk-toggleable__content\"><pre>['Age', 'Height', 'Weight']</pre></div></div></div><div class=\"sk-serial\"><div class=\"sk-item\"><div class=\"sk-serial\"><div class=\"sk-item\"><div class=\"sk-estimator sk-toggleable\"><input class=\"sk-toggleable__control sk-hidden--visually\" id=\"cab74493-8aa0-4045-87a7-4ea1a6d47777\" type=\"checkbox\" ><label class=\"sk-toggleable__label\" for=\"cab74493-8aa0-4045-87a7-4ea1a6d47777\">SimpleImputer</label><div class=\"sk-toggleable__content\"><pre>SimpleImputer()</pre></div></div></div><div class=\"sk-item\"><div class=\"sk-estimator sk-toggleable\"><input class=\"sk-toggleable__control sk-hidden--visually\" id=\"4318667c-b3be-4132-9838-4c2031aba18e\" type=\"checkbox\" ><label class=\"sk-toggleable__label\" for=\"4318667c-b3be-4132-9838-4c2031aba18e\">StandardScaler</label><div class=\"sk-toggleable__content\"><pre>StandardScaler()</pre></div></div></div><div class=\"sk-item\"><div class=\"sk-estimator sk-toggleable\"><input class=\"sk-toggleable__control sk-hidden--visually\" id=\"08dfd164-2cda-437d-8e3e-76ecda75e52a\" type=\"checkbox\" ><label class=\"sk-toggleable__label\" for=\"08dfd164-2cda-437d-8e3e-76ecda75e52a\">SelectKBest</label><div class=\"sk-toggleable__content\"><pre>SelectKBest(k='all')</pre></div></div></div></div></div></div></div></div><div class=\"sk-parallel-item\"><div class=\"sk-item\"><div class=\"sk-label-container\"><div class=\"sk-label sk-toggleable\"><input class=\"sk-toggleable__control sk-hidden--visually\" id=\"3945c6c5-3829-4392-bb6d-321b89e518d8\" type=\"checkbox\" ><label class=\"sk-toggleable__label\" for=\"3945c6c5-3829-4392-bb6d-321b89e518d8\">categorical</label><div class=\"sk-toggleable__content\"><pre>['Getting up', 'God', 'Health', 'Borrowed stuff', 'Self-criticism', 'Elections', 'Number of friends', 'Spending on healthy eating', 'Music', 'Movies', 'Friends versus money', 'Changing the past']</pre></div></div></div><div class=\"sk-serial\"><div class=\"sk-item\"><div class=\"sk-serial\"><div class=\"sk-item\"><div class=\"sk-estimator sk-toggleable\"><input class=\"sk-toggleable__control sk-hidden--visually\" id=\"22216c9f-5bf2-49c4-afb8-1c2c12f1b69e\" type=\"checkbox\" ><label class=\"sk-toggleable__label\" for=\"22216c9f-5bf2-49c4-afb8-1c2c12f1b69e\">SimpleImputer</label><div class=\"sk-toggleable__content\"><pre>SimpleImputer()</pre></div></div></div><div class=\"sk-item\"><div class=\"sk-estimator sk-toggleable\"><input class=\"sk-toggleable__control sk-hidden--visually\" id=\"ff16a523-1bdc-4e31-997f-aa03cebc86ae\" type=\"checkbox\" ><label class=\"sk-toggleable__label\" for=\"ff16a523-1bdc-4e31-997f-aa03cebc86ae\">OneHotEncoder</label><div class=\"sk-toggleable__content\"><pre>OneHotEncoder(handle_unknown='ignore')</pre></div></div></div></div></div></div></div></div></div></div></div></div><div class=\"sk-item\"><div class=\"sk-estimator sk-toggleable\"><input class=\"sk-toggleable__control sk-hidden--visually\" id=\"d55954f1-b18f-461a-9293-5cfd9d343686\" type=\"checkbox\" ><label class=\"sk-toggleable__label\" for=\"d55954f1-b18f-461a-9293-5cfd9d343686\">RandomForestClassifier</label><div class=\"sk-toggleable__content\"><pre>RandomForestClassifier()</pre></div></div></div></div></div></div></div></div><div class=\"sk-parallel-item\"><div class=\"sk-item\"><div class=\"sk-label-container\"><div class=\"sk-label sk-toggleable\"><label>Xgboost</label></div></div><div class=\"sk-serial\"><div class=\"sk-item\"><div class=\"sk-serial\"><div class=\"sk-item\"><div class=\"sk-label-container\"><div class=\"sk-label sk-toggleable\"><input class=\"sk-toggleable__control sk-hidden--visually\" id=\"a7afee18-b37e-492b-819b-bb1d0da69830\" type=\"checkbox\" ><label class=\"sk-toggleable__label\" for=\"a7afee18-b37e-492b-819b-bb1d0da69830\">pipeline: Pipeline</label><div class=\"sk-toggleable__content\"><pre>Pipeline(steps=[('data_transformer',\n",
       "                 ColumnTransformer(transformers=[('numerical',\n",
       "                                                  Pipeline(steps=[('imputer',\n",
       "                                                                   SimpleImputer()),\n",
       "                                                                  ('scaler',\n",
       "                                                                   StandardScaler()),\n",
       "                                                                  ('fs',\n",
       "                                                                   SelectKBest(k='all'))]),\n",
       "                                                  ['Age', 'Height', 'Weight']),\n",
       "                                                 ('categorical',\n",
       "                                                  Pipeline(steps=[('imputer',\n",
       "                                                                   SimpleImputer()),\n",
       "                                                                  ('onehot',\n",
       "                                                                   OneHotEncoder(handle_unknown='ignore'))]),\n",
       "                                                  ['Getting up', 'God',\n",
       "                                                   'Health', 'Borrowed stuff',\n",
       "                                                   'Self-criticism',\n",
       "                                                   'Elections',\n",
       "                                                   'Number of friends',\n",
       "                                                   'Spending on healthy eating',\n",
       "                                                   'Music', 'Movies',\n",
       "                                                   'Friends versus money',\n",
       "                                                   'Changing the past'])]))])</pre></div></div></div><div class=\"sk-serial\"><div class=\"sk-item sk-dashed-wrapped\"><div class=\"sk-label-container\"><div class=\"sk-label sk-toggleable\"><input class=\"sk-toggleable__control sk-hidden--visually\" id=\"8e657ff8-0fcb-4e3d-bbf5-640fdd81b8d3\" type=\"checkbox\" ><label class=\"sk-toggleable__label\" for=\"8e657ff8-0fcb-4e3d-bbf5-640fdd81b8d3\">data_transformer: ColumnTransformer</label><div class=\"sk-toggleable__content\"><pre>ColumnTransformer(transformers=[('numerical',\n",
       "                                 Pipeline(steps=[('imputer', SimpleImputer()),\n",
       "                                                 ('scaler', StandardScaler()),\n",
       "                                                 ('fs', SelectKBest(k='all'))]),\n",
       "                                 ['Age', 'Height', 'Weight']),\n",
       "                                ('categorical',\n",
       "                                 Pipeline(steps=[('imputer', SimpleImputer()),\n",
       "                                                 ('onehot',\n",
       "                                                  OneHotEncoder(handle_unknown='ignore'))]),\n",
       "                                 ['Getting up', 'God', 'Health',\n",
       "                                  'Borrowed stuff', 'Self-criticism',\n",
       "                                  'Elections', 'Number of friends',\n",
       "                                  'Spending on healthy eating', 'Music',\n",
       "                                  'Movies', 'Friends versus money',\n",
       "                                  'Changing the past'])])</pre></div></div></div><div class=\"sk-parallel\"><div class=\"sk-parallel-item\"><div class=\"sk-item\"><div class=\"sk-label-container\"><div class=\"sk-label sk-toggleable\"><input class=\"sk-toggleable__control sk-hidden--visually\" id=\"e5b5bdbe-5d5f-417e-aa60-61823d4a5b32\" type=\"checkbox\" ><label class=\"sk-toggleable__label\" for=\"e5b5bdbe-5d5f-417e-aa60-61823d4a5b32\">numerical</label><div class=\"sk-toggleable__content\"><pre>['Age', 'Height', 'Weight']</pre></div></div></div><div class=\"sk-serial\"><div class=\"sk-item\"><div class=\"sk-serial\"><div class=\"sk-item\"><div class=\"sk-estimator sk-toggleable\"><input class=\"sk-toggleable__control sk-hidden--visually\" id=\"ef485250-3f0a-41e5-8c54-a8ed521542c7\" type=\"checkbox\" ><label class=\"sk-toggleable__label\" for=\"ef485250-3f0a-41e5-8c54-a8ed521542c7\">SimpleImputer</label><div class=\"sk-toggleable__content\"><pre>SimpleImputer()</pre></div></div></div><div class=\"sk-item\"><div class=\"sk-estimator sk-toggleable\"><input class=\"sk-toggleable__control sk-hidden--visually\" id=\"c11345cb-6aab-4c54-8992-9eef70a75495\" type=\"checkbox\" ><label class=\"sk-toggleable__label\" for=\"c11345cb-6aab-4c54-8992-9eef70a75495\">StandardScaler</label><div class=\"sk-toggleable__content\"><pre>StandardScaler()</pre></div></div></div><div class=\"sk-item\"><div class=\"sk-estimator sk-toggleable\"><input class=\"sk-toggleable__control sk-hidden--visually\" id=\"812a2dea-0cc0-4944-a69e-b9d8f2923f23\" type=\"checkbox\" ><label class=\"sk-toggleable__label\" for=\"812a2dea-0cc0-4944-a69e-b9d8f2923f23\">SelectKBest</label><div class=\"sk-toggleable__content\"><pre>SelectKBest(k='all')</pre></div></div></div></div></div></div></div></div><div class=\"sk-parallel-item\"><div class=\"sk-item\"><div class=\"sk-label-container\"><div class=\"sk-label sk-toggleable\"><input class=\"sk-toggleable__control sk-hidden--visually\" id=\"c73081db-9506-4fc2-8021-61dfc1215313\" type=\"checkbox\" ><label class=\"sk-toggleable__label\" for=\"c73081db-9506-4fc2-8021-61dfc1215313\">categorical</label><div class=\"sk-toggleable__content\"><pre>['Getting up', 'God', 'Health', 'Borrowed stuff', 'Self-criticism', 'Elections', 'Number of friends', 'Spending on healthy eating', 'Music', 'Movies', 'Friends versus money', 'Changing the past']</pre></div></div></div><div class=\"sk-serial\"><div class=\"sk-item\"><div class=\"sk-serial\"><div class=\"sk-item\"><div class=\"sk-estimator sk-toggleable\"><input class=\"sk-toggleable__control sk-hidden--visually\" id=\"34a9a712-af09-4209-8f19-d85d7690d2fc\" type=\"checkbox\" ><label class=\"sk-toggleable__label\" for=\"34a9a712-af09-4209-8f19-d85d7690d2fc\">SimpleImputer</label><div class=\"sk-toggleable__content\"><pre>SimpleImputer()</pre></div></div></div><div class=\"sk-item\"><div class=\"sk-estimator sk-toggleable\"><input class=\"sk-toggleable__control sk-hidden--visually\" id=\"99bf12a5-e00b-4da2-a6ca-6b3c8ad61073\" type=\"checkbox\" ><label class=\"sk-toggleable__label\" for=\"99bf12a5-e00b-4da2-a6ca-6b3c8ad61073\">OneHotEncoder</label><div class=\"sk-toggleable__content\"><pre>OneHotEncoder(handle_unknown='ignore')</pre></div></div></div></div></div></div></div></div></div></div></div></div><div class=\"sk-item\"><div class=\"sk-estimator sk-toggleable\"><input class=\"sk-toggleable__control sk-hidden--visually\" id=\"9fb26576-611b-48b6-9627-7324dbc5d607\" type=\"checkbox\" ><label class=\"sk-toggleable__label\" for=\"9fb26576-611b-48b6-9627-7324dbc5d607\">XGBClassifier</label><div class=\"sk-toggleable__content\"><pre>XGBClassifier(base_score=None, booster=None, colsample_bylevel=None,\n",
       "              colsample_bynode=None, colsample_bytree=None, gamma=None,\n",
       "              gpu_id=None, importance_type='gain', interaction_constraints=None,\n",
       "              learning_rate=None, max_delta_step=None, max_depth=None,\n",
       "              min_child_weight=None, missing=nan, monotone_constraints=None,\n",
       "              n_estimators=100, n_jobs=None, num_parallel_tree=None,\n",
       "              random_state=None, reg_alpha=None, reg_lambda=None,\n",
       "              scale_pos_weight=None, subsample=None, tree_method=None,\n",
       "              validate_parameters=None, verbosity=None)</pre></div></div></div></div></div></div></div></div></div></div><div class=\"sk-item\"><div class=\"sk-parallel\"><div class=\"sk-parallel-item\"><div class=\"sk-item\"><div class=\"sk-label-container\"><div class=\"sk-label sk-toggleable\"><label>final_estimator</label></div></div><div class=\"sk-serial\"><div class=\"sk-item\"><div class=\"sk-estimator sk-toggleable\"><input class=\"sk-toggleable__control sk-hidden--visually\" id=\"2822416e-7f00-4192-88a4-d0264d04d125\" type=\"checkbox\" ><label class=\"sk-toggleable__label\" for=\"2822416e-7f00-4192-88a4-d0264d04d125\">LogisticRegression</label><div class=\"sk-toggleable__content\"><pre>LogisticRegression(n_jobs=-1, verbose=True)</pre></div></div></div></div></div></div></div></div></div></div></div></div>"
      ],
      "text/plain": [
       "StackingClassifier(estimators=[('SVM',\n",
       "                                Pipeline(steps=[('pipeline',\n",
       "                                                 Pipeline(steps=[('data_transformer',\n",
       "                                                                  ColumnTransformer(transformers=[('numerical',\n",
       "                                                                                                   Pipeline(steps=[('imputer',\n",
       "                                                                                                                    SimpleImputer()),\n",
       "                                                                                                                   ('scaler',\n",
       "                                                                                                                    StandardScaler()),\n",
       "                                                                                                                   ('fs',\n",
       "                                                                                                                    SelectKBest(k='all'))]),\n",
       "                                                                                                   ['Age',\n",
       "                                                                                                    'Height',\n",
       "                                                                                                    'Weight']),\n",
       "                                                                                                  ('categorical',\n",
       "                                                                                                   Pipeline(steps=[('imputer',\n",
       "                                                                                                                    SimpleImputer()),\n",
       "                                                                                                                   ('onehot',\n",
       "                                                                                                                    OneHo...\n",
       "                                                               max_depth=None,\n",
       "                                                               min_child_weight=None,\n",
       "                                                               missing=nan,\n",
       "                                                               monotone_constraints=None,\n",
       "                                                               n_estimators=100,\n",
       "                                                               n_jobs=None,\n",
       "                                                               num_parallel_tree=None,\n",
       "                                                               random_state=None,\n",
       "                                                               reg_alpha=None,\n",
       "                                                               reg_lambda=None,\n",
       "                                                               scale_pos_weight=None,\n",
       "                                                               subsample=None,\n",
       "                                                               tree_method=None,\n",
       "                                                               validate_parameters=None,\n",
       "                                                               verbosity=None))]))],\n",
       "                   final_estimator=LogisticRegression(n_jobs=-1, verbose=True),\n",
       "                   n_jobs=-1, verbose=True)"
      ]
     },
     "execution_count": 68,
     "metadata": {},
     "output_type": "execute_result"
    }
   ],
   "source": [
    "from sklearn.decomposition import PCA\n",
    "\n",
    "# получим список эстиматоров\n",
    "estimators = [\n",
    "    (\"SVM\", make_pipeline(preprocessor, PCA(), LinearSVC())),\n",
    "    (\"Random_Forest\", make_pipeline(preprocessor, RandomForestClassifier())),\n",
    "    (\"Xgboost\", make_pipeline(preprocessor, xgboost.XGBClassifier())),\n",
    "]\n",
    "\n",
    "# построим классификатор используя стекинг и наш список классификаторов\n",
    "stacking_classifier = StackingClassifier(\n",
    "    estimators=estimators,\n",
    "    final_estimator=LogisticRegression(n_jobs=-1, verbose=True),\n",
    "    n_jobs=-1,\n",
    "    verbose=True,\n",
    ")\n",
    "\n",
    "stacking_classifier"
   ]
  },
  {
   "cell_type": "code",
   "execution_count": null,
   "metadata": {},
   "outputs": [],
   "source": []
  },
  {
   "cell_type": "code",
   "execution_count": null,
   "metadata": {},
   "outputs": [],
   "source": []
  },
  {
   "cell_type": "code",
   "execution_count": null,
   "metadata": {},
   "outputs": [],
   "source": []
  },
  {
   "cell_type": "code",
   "execution_count": null,
   "metadata": {},
   "outputs": [],
   "source": []
  },
  {
   "cell_type": "code",
   "execution_count": null,
   "metadata": {},
   "outputs": [],
   "source": []
  },
  {
   "cell_type": "code",
   "execution_count": null,
   "metadata": {},
   "outputs": [],
   "source": []
  },
  {
   "cell_type": "markdown",
   "metadata": {},
   "source": [
    "# А сколько всего кода было написано?"
   ]
  },
  {
   "cell_type": "code",
   "execution_count": 74,
   "metadata": {},
   "outputs": [],
   "source": [
    "numerical_transformer = Pipeline(steps=[\n",
    "    (\"imputer\", SimpleImputer()),\n",
    "    (\"scaler\", StandardScaler()),\n",
    "    (\"feature_selector\", SelectKBest(score_func=f_classif, k=\"all\"))])\n",
    "\n",
    "categorical_transformer = Pipeline(steps=[\n",
    "    (\"imputer\", SimpleImputer()),\n",
    "    (\"onehot\", OneHotEncoder(handle_unknown=\"ignore\"))])\n",
    "\n",
    "data_transformer = ColumnTransformer(transformers=[\n",
    "    (\"numerical\", numerical_transformer, numerical_features),\n",
    "    (\"categorical\", categorical_transformer, categorical_features)])\n",
    "\n",
    "preprocessor = Pipeline(steps=[(\"data_transformer\", data_transformer)])\n",
    "\n",
    "estimators = [\n",
    "    (\"SVM\", make_pipeline(preprocessor, LinearSVC())),\n",
    "    (\"Random_Forest\", make_pipeline(preprocessor, RandomForestClassifier(n_jobs=-1))),\n",
    "    (\"xgboost\", make_pipeline(preprocessor, xgboost.XGBClassifier(n_jobs=-1)))]\n",
    "\n",
    "stacking_classifier = StackingClassifier(\n",
    "    estimators=estimators,\n",
    "    final_estimator=LogisticRegression(n_jobs=-1, verbose=True),\n",
    "    n_jobs=-1,\n",
    "    verbose=True,\n",
    ")"
   ]
  },
  {
   "cell_type": "code",
   "execution_count": 75,
   "metadata": {},
   "outputs": [
    {
     "data": {
      "text/html": [
       "<style>#sk-a6a4d61d-e954-41a9-82c1-93b3bb71e0b1 {color: black;background-color: white;}#sk-a6a4d61d-e954-41a9-82c1-93b3bb71e0b1 pre{padding: 0;}#sk-a6a4d61d-e954-41a9-82c1-93b3bb71e0b1 div.sk-toggleable {background-color: white;}#sk-a6a4d61d-e954-41a9-82c1-93b3bb71e0b1 label.sk-toggleable__label {cursor: pointer;display: block;width: 100%;margin-bottom: 0;padding: 0.3em;box-sizing: border-box;text-align: center;}#sk-a6a4d61d-e954-41a9-82c1-93b3bb71e0b1 div.sk-toggleable__content {max-height: 0;max-width: 0;overflow: hidden;text-align: left;background-color: #f0f8ff;}#sk-a6a4d61d-e954-41a9-82c1-93b3bb71e0b1 div.sk-toggleable__content pre {margin: 0.2em;color: black;border-radius: 0.25em;background-color: #f0f8ff;}#sk-a6a4d61d-e954-41a9-82c1-93b3bb71e0b1 input.sk-toggleable__control:checked~div.sk-toggleable__content {max-height: 200px;max-width: 100%;overflow: auto;}#sk-a6a4d61d-e954-41a9-82c1-93b3bb71e0b1 div.sk-estimator input.sk-toggleable__control:checked~label.sk-toggleable__label {background-color: #d4ebff;}#sk-a6a4d61d-e954-41a9-82c1-93b3bb71e0b1 div.sk-label input.sk-toggleable__control:checked~label.sk-toggleable__label {background-color: #d4ebff;}#sk-a6a4d61d-e954-41a9-82c1-93b3bb71e0b1 input.sk-hidden--visually {border: 0;clip: rect(1px 1px 1px 1px);clip: rect(1px, 1px, 1px, 1px);height: 1px;margin: -1px;overflow: hidden;padding: 0;position: absolute;width: 1px;}#sk-a6a4d61d-e954-41a9-82c1-93b3bb71e0b1 div.sk-estimator {font-family: monospace;background-color: #f0f8ff;border: 1px dotted black;border-radius: 0.25em;box-sizing: border-box;margin-bottom: 0.5em;}#sk-a6a4d61d-e954-41a9-82c1-93b3bb71e0b1 div.sk-estimator:hover {background-color: #d4ebff;}#sk-a6a4d61d-e954-41a9-82c1-93b3bb71e0b1 div.sk-parallel-item::after {content: \"\";width: 100%;border-bottom: 1px solid gray;flex-grow: 1;}#sk-a6a4d61d-e954-41a9-82c1-93b3bb71e0b1 div.sk-label:hover label.sk-toggleable__label {background-color: #d4ebff;}#sk-a6a4d61d-e954-41a9-82c1-93b3bb71e0b1 div.sk-serial::before {content: \"\";position: absolute;border-left: 1px solid gray;box-sizing: border-box;top: 2em;bottom: 0;left: 50%;}#sk-a6a4d61d-e954-41a9-82c1-93b3bb71e0b1 div.sk-serial {display: flex;flex-direction: column;align-items: center;background-color: white;padding-right: 0.2em;padding-left: 0.2em;}#sk-a6a4d61d-e954-41a9-82c1-93b3bb71e0b1 div.sk-item {z-index: 1;}#sk-a6a4d61d-e954-41a9-82c1-93b3bb71e0b1 div.sk-parallel {display: flex;align-items: stretch;justify-content: center;background-color: white;}#sk-a6a4d61d-e954-41a9-82c1-93b3bb71e0b1 div.sk-parallel::before {content: \"\";position: absolute;border-left: 1px solid gray;box-sizing: border-box;top: 2em;bottom: 0;left: 50%;}#sk-a6a4d61d-e954-41a9-82c1-93b3bb71e0b1 div.sk-parallel-item {display: flex;flex-direction: column;position: relative;background-color: white;}#sk-a6a4d61d-e954-41a9-82c1-93b3bb71e0b1 div.sk-parallel-item:first-child::after {align-self: flex-end;width: 50%;}#sk-a6a4d61d-e954-41a9-82c1-93b3bb71e0b1 div.sk-parallel-item:last-child::after {align-self: flex-start;width: 50%;}#sk-a6a4d61d-e954-41a9-82c1-93b3bb71e0b1 div.sk-parallel-item:only-child::after {width: 0;}#sk-a6a4d61d-e954-41a9-82c1-93b3bb71e0b1 div.sk-dashed-wrapped {border: 1px dashed gray;margin: 0 0.4em 0.5em 0.4em;box-sizing: border-box;padding-bottom: 0.4em;background-color: white;position: relative;}#sk-a6a4d61d-e954-41a9-82c1-93b3bb71e0b1 div.sk-label label {font-family: monospace;font-weight: bold;background-color: white;display: inline-block;line-height: 1.2em;}#sk-a6a4d61d-e954-41a9-82c1-93b3bb71e0b1 div.sk-label-container {position: relative;z-index: 2;text-align: center;}#sk-a6a4d61d-e954-41a9-82c1-93b3bb71e0b1 div.sk-container {display: inline-block;position: relative;}</style><div id=\"sk-a6a4d61d-e954-41a9-82c1-93b3bb71e0b1\" class\"sk-top-container\"><div class=\"sk-container\"><div class=\"sk-item sk-dashed-wrapped\"><div class=\"sk-label-container\"><div class=\"sk-label sk-toggleable\"><input class=\"sk-toggleable__control sk-hidden--visually\" id=\"811982b2-0a9d-4b44-9b56-2542fbc71e11\" type=\"checkbox\" ><label class=\"sk-toggleable__label\" for=\"811982b2-0a9d-4b44-9b56-2542fbc71e11\">StackingClassifier</label><div class=\"sk-toggleable__content\"><pre>StackingClassifier(estimators=[('SVM',\n",
       "                                Pipeline(steps=[('pipeline',\n",
       "                                                 Pipeline(steps=[('data_transformer',\n",
       "                                                                  ColumnTransformer(transformers=[('numerical',\n",
       "                                                                                                   Pipeline(steps=[('imputer',\n",
       "                                                                                                                    SimpleImputer()),\n",
       "                                                                                                                   ('scaler',\n",
       "                                                                                                                    StandardScaler()),\n",
       "                                                                                                                   ('feature_selector',\n",
       "                                                                                                                    SelectKBest(k='all'))]),\n",
       "                                                                                                   ['Age',\n",
       "                                                                                                    'Height',\n",
       "                                                                                                    'Weight']),\n",
       "                                                                                                  ('categorical',\n",
       "                                                                                                   Pipeline(steps=[('imputer',\n",
       "                                                                                                                    SimpleImputer()),\n",
       "                                                                                                                   (...\n",
       "                                                               max_depth=None,\n",
       "                                                               min_child_weight=None,\n",
       "                                                               missing=nan,\n",
       "                                                               monotone_constraints=None,\n",
       "                                                               n_estimators=100,\n",
       "                                                               n_jobs=-1,\n",
       "                                                               num_parallel_tree=None,\n",
       "                                                               random_state=None,\n",
       "                                                               reg_alpha=None,\n",
       "                                                               reg_lambda=None,\n",
       "                                                               scale_pos_weight=None,\n",
       "                                                               subsample=None,\n",
       "                                                               tree_method=None,\n",
       "                                                               validate_parameters=None,\n",
       "                                                               verbosity=None))]))],\n",
       "                   final_estimator=LogisticRegression(n_jobs=-1, verbose=True),\n",
       "                   n_jobs=-1, verbose=True)</pre></div></div></div><div class=\"sk-serial\"><div class=\"sk-item\"><div class=\"sk-parallel\"><div class=\"sk-parallel-item\"><div class=\"sk-item\"><div class=\"sk-label-container\"><div class=\"sk-label sk-toggleable\"><label>SVM</label></div></div><div class=\"sk-serial\"><div class=\"sk-item\"><div class=\"sk-serial\"><div class=\"sk-item\"><div class=\"sk-label-container\"><div class=\"sk-label sk-toggleable\"><input class=\"sk-toggleable__control sk-hidden--visually\" id=\"6175a714-a3fe-4968-9e19-4c93ec13af69\" type=\"checkbox\" ><label class=\"sk-toggleable__label\" for=\"6175a714-a3fe-4968-9e19-4c93ec13af69\">pipeline: Pipeline</label><div class=\"sk-toggleable__content\"><pre>Pipeline(steps=[('data_transformer',\n",
       "                 ColumnTransformer(transformers=[('numerical',\n",
       "                                                  Pipeline(steps=[('imputer',\n",
       "                                                                   SimpleImputer()),\n",
       "                                                                  ('scaler',\n",
       "                                                                   StandardScaler()),\n",
       "                                                                  ('feature_selector',\n",
       "                                                                   SelectKBest(k='all'))]),\n",
       "                                                  ['Age', 'Height', 'Weight']),\n",
       "                                                 ('categorical',\n",
       "                                                  Pipeline(steps=[('imputer',\n",
       "                                                                   SimpleImputer()),\n",
       "                                                                  ('onehot',\n",
       "                                                                   OneHotEncoder(handle_unknown='ignore'))]),\n",
       "                                                  ['Getting up', 'God',\n",
       "                                                   'Health', 'Borrowed stuff',\n",
       "                                                   'Self-criticism',\n",
       "                                                   'Elections',\n",
       "                                                   'Number of friends',\n",
       "                                                   'Spending on healthy eating',\n",
       "                                                   'Music', 'Movies',\n",
       "                                                   'Friends versus money',\n",
       "                                                   'Changing the past'])]))])</pre></div></div></div><div class=\"sk-serial\"><div class=\"sk-item sk-dashed-wrapped\"><div class=\"sk-label-container\"><div class=\"sk-label sk-toggleable\"><input class=\"sk-toggleable__control sk-hidden--visually\" id=\"cfb9ed66-77c6-4bcb-8137-971f7ea3df16\" type=\"checkbox\" ><label class=\"sk-toggleable__label\" for=\"cfb9ed66-77c6-4bcb-8137-971f7ea3df16\">data_transformer: ColumnTransformer</label><div class=\"sk-toggleable__content\"><pre>ColumnTransformer(transformers=[('numerical',\n",
       "                                 Pipeline(steps=[('imputer', SimpleImputer()),\n",
       "                                                 ('scaler', StandardScaler()),\n",
       "                                                 ('feature_selector',\n",
       "                                                  SelectKBest(k='all'))]),\n",
       "                                 ['Age', 'Height', 'Weight']),\n",
       "                                ('categorical',\n",
       "                                 Pipeline(steps=[('imputer', SimpleImputer()),\n",
       "                                                 ('onehot',\n",
       "                                                  OneHotEncoder(handle_unknown='ignore'))]),\n",
       "                                 ['Getting up', 'God', 'Health',\n",
       "                                  'Borrowed stuff', 'Self-criticism',\n",
       "                                  'Elections', 'Number of friends',\n",
       "                                  'Spending on healthy eating', 'Music',\n",
       "                                  'Movies', 'Friends versus money',\n",
       "                                  'Changing the past'])])</pre></div></div></div><div class=\"sk-parallel\"><div class=\"sk-parallel-item\"><div class=\"sk-item\"><div class=\"sk-label-container\"><div class=\"sk-label sk-toggleable\"><input class=\"sk-toggleable__control sk-hidden--visually\" id=\"0b6e46ae-2c5c-49e8-a896-a3455dd42759\" type=\"checkbox\" ><label class=\"sk-toggleable__label\" for=\"0b6e46ae-2c5c-49e8-a896-a3455dd42759\">numerical</label><div class=\"sk-toggleable__content\"><pre>['Age', 'Height', 'Weight']</pre></div></div></div><div class=\"sk-serial\"><div class=\"sk-item\"><div class=\"sk-serial\"><div class=\"sk-item\"><div class=\"sk-estimator sk-toggleable\"><input class=\"sk-toggleable__control sk-hidden--visually\" id=\"e21a6248-1fd6-44e4-9d7b-38eb01f72715\" type=\"checkbox\" ><label class=\"sk-toggleable__label\" for=\"e21a6248-1fd6-44e4-9d7b-38eb01f72715\">SimpleImputer</label><div class=\"sk-toggleable__content\"><pre>SimpleImputer()</pre></div></div></div><div class=\"sk-item\"><div class=\"sk-estimator sk-toggleable\"><input class=\"sk-toggleable__control sk-hidden--visually\" id=\"a8d32798-f51e-4981-9931-5b947f9f124b\" type=\"checkbox\" ><label class=\"sk-toggleable__label\" for=\"a8d32798-f51e-4981-9931-5b947f9f124b\">StandardScaler</label><div class=\"sk-toggleable__content\"><pre>StandardScaler()</pre></div></div></div><div class=\"sk-item\"><div class=\"sk-estimator sk-toggleable\"><input class=\"sk-toggleable__control sk-hidden--visually\" id=\"91613127-84c5-408a-9189-3abeda601fba\" type=\"checkbox\" ><label class=\"sk-toggleable__label\" for=\"91613127-84c5-408a-9189-3abeda601fba\">SelectKBest</label><div class=\"sk-toggleable__content\"><pre>SelectKBest(k='all')</pre></div></div></div></div></div></div></div></div><div class=\"sk-parallel-item\"><div class=\"sk-item\"><div class=\"sk-label-container\"><div class=\"sk-label sk-toggleable\"><input class=\"sk-toggleable__control sk-hidden--visually\" id=\"ba73a457-60fc-454e-99d7-c283706f2300\" type=\"checkbox\" ><label class=\"sk-toggleable__label\" for=\"ba73a457-60fc-454e-99d7-c283706f2300\">categorical</label><div class=\"sk-toggleable__content\"><pre>['Getting up', 'God', 'Health', 'Borrowed stuff', 'Self-criticism', 'Elections', 'Number of friends', 'Spending on healthy eating', 'Music', 'Movies', 'Friends versus money', 'Changing the past']</pre></div></div></div><div class=\"sk-serial\"><div class=\"sk-item\"><div class=\"sk-serial\"><div class=\"sk-item\"><div class=\"sk-estimator sk-toggleable\"><input class=\"sk-toggleable__control sk-hidden--visually\" id=\"9483d79b-cda7-4432-947d-28d8cda7b3af\" type=\"checkbox\" ><label class=\"sk-toggleable__label\" for=\"9483d79b-cda7-4432-947d-28d8cda7b3af\">SimpleImputer</label><div class=\"sk-toggleable__content\"><pre>SimpleImputer()</pre></div></div></div><div class=\"sk-item\"><div class=\"sk-estimator sk-toggleable\"><input class=\"sk-toggleable__control sk-hidden--visually\" id=\"346d086a-dd10-4dcc-8cf8-e8010712fa99\" type=\"checkbox\" ><label class=\"sk-toggleable__label\" for=\"346d086a-dd10-4dcc-8cf8-e8010712fa99\">OneHotEncoder</label><div class=\"sk-toggleable__content\"><pre>OneHotEncoder(handle_unknown='ignore')</pre></div></div></div></div></div></div></div></div></div></div></div></div><div class=\"sk-item\"><div class=\"sk-estimator sk-toggleable\"><input class=\"sk-toggleable__control sk-hidden--visually\" id=\"0a121b47-0b62-4231-a84b-363d790b0b5e\" type=\"checkbox\" ><label class=\"sk-toggleable__label\" for=\"0a121b47-0b62-4231-a84b-363d790b0b5e\">LinearSVC</label><div class=\"sk-toggleable__content\"><pre>LinearSVC()</pre></div></div></div></div></div></div></div></div><div class=\"sk-parallel-item\"><div class=\"sk-item\"><div class=\"sk-label-container\"><div class=\"sk-label sk-toggleable\"><label>Random_Forest</label></div></div><div class=\"sk-serial\"><div class=\"sk-item\"><div class=\"sk-serial\"><div class=\"sk-item\"><div class=\"sk-label-container\"><div class=\"sk-label sk-toggleable\"><input class=\"sk-toggleable__control sk-hidden--visually\" id=\"4c1acd70-d05a-4b65-a67b-ead4168a93f5\" type=\"checkbox\" ><label class=\"sk-toggleable__label\" for=\"4c1acd70-d05a-4b65-a67b-ead4168a93f5\">pipeline: Pipeline</label><div class=\"sk-toggleable__content\"><pre>Pipeline(steps=[('data_transformer',\n",
       "                 ColumnTransformer(transformers=[('numerical',\n",
       "                                                  Pipeline(steps=[('imputer',\n",
       "                                                                   SimpleImputer()),\n",
       "                                                                  ('scaler',\n",
       "                                                                   StandardScaler()),\n",
       "                                                                  ('feature_selector',\n",
       "                                                                   SelectKBest(k='all'))]),\n",
       "                                                  ['Age', 'Height', 'Weight']),\n",
       "                                                 ('categorical',\n",
       "                                                  Pipeline(steps=[('imputer',\n",
       "                                                                   SimpleImputer()),\n",
       "                                                                  ('onehot',\n",
       "                                                                   OneHotEncoder(handle_unknown='ignore'))]),\n",
       "                                                  ['Getting up', 'God',\n",
       "                                                   'Health', 'Borrowed stuff',\n",
       "                                                   'Self-criticism',\n",
       "                                                   'Elections',\n",
       "                                                   'Number of friends',\n",
       "                                                   'Spending on healthy eating',\n",
       "                                                   'Music', 'Movies',\n",
       "                                                   'Friends versus money',\n",
       "                                                   'Changing the past'])]))])</pre></div></div></div><div class=\"sk-serial\"><div class=\"sk-item sk-dashed-wrapped\"><div class=\"sk-label-container\"><div class=\"sk-label sk-toggleable\"><input class=\"sk-toggleable__control sk-hidden--visually\" id=\"d693b063-043f-440a-ab91-4edf9b50a225\" type=\"checkbox\" ><label class=\"sk-toggleable__label\" for=\"d693b063-043f-440a-ab91-4edf9b50a225\">data_transformer: ColumnTransformer</label><div class=\"sk-toggleable__content\"><pre>ColumnTransformer(transformers=[('numerical',\n",
       "                                 Pipeline(steps=[('imputer', SimpleImputer()),\n",
       "                                                 ('scaler', StandardScaler()),\n",
       "                                                 ('feature_selector',\n",
       "                                                  SelectKBest(k='all'))]),\n",
       "                                 ['Age', 'Height', 'Weight']),\n",
       "                                ('categorical',\n",
       "                                 Pipeline(steps=[('imputer', SimpleImputer()),\n",
       "                                                 ('onehot',\n",
       "                                                  OneHotEncoder(handle_unknown='ignore'))]),\n",
       "                                 ['Getting up', 'God', 'Health',\n",
       "                                  'Borrowed stuff', 'Self-criticism',\n",
       "                                  'Elections', 'Number of friends',\n",
       "                                  'Spending on healthy eating', 'Music',\n",
       "                                  'Movies', 'Friends versus money',\n",
       "                                  'Changing the past'])])</pre></div></div></div><div class=\"sk-parallel\"><div class=\"sk-parallel-item\"><div class=\"sk-item\"><div class=\"sk-label-container\"><div class=\"sk-label sk-toggleable\"><input class=\"sk-toggleable__control sk-hidden--visually\" id=\"5678da5c-60ff-483b-8838-0996971ba60a\" type=\"checkbox\" ><label class=\"sk-toggleable__label\" for=\"5678da5c-60ff-483b-8838-0996971ba60a\">numerical</label><div class=\"sk-toggleable__content\"><pre>['Age', 'Height', 'Weight']</pre></div></div></div><div class=\"sk-serial\"><div class=\"sk-item\"><div class=\"sk-serial\"><div class=\"sk-item\"><div class=\"sk-estimator sk-toggleable\"><input class=\"sk-toggleable__control sk-hidden--visually\" id=\"6967bce2-1895-41ea-9833-c2fd10158973\" type=\"checkbox\" ><label class=\"sk-toggleable__label\" for=\"6967bce2-1895-41ea-9833-c2fd10158973\">SimpleImputer</label><div class=\"sk-toggleable__content\"><pre>SimpleImputer()</pre></div></div></div><div class=\"sk-item\"><div class=\"sk-estimator sk-toggleable\"><input class=\"sk-toggleable__control sk-hidden--visually\" id=\"972361d7-64dd-44c8-8070-dd7284e70e33\" type=\"checkbox\" ><label class=\"sk-toggleable__label\" for=\"972361d7-64dd-44c8-8070-dd7284e70e33\">StandardScaler</label><div class=\"sk-toggleable__content\"><pre>StandardScaler()</pre></div></div></div><div class=\"sk-item\"><div class=\"sk-estimator sk-toggleable\"><input class=\"sk-toggleable__control sk-hidden--visually\" id=\"9ce15b63-7231-42b3-87c6-cb0de69070d8\" type=\"checkbox\" ><label class=\"sk-toggleable__label\" for=\"9ce15b63-7231-42b3-87c6-cb0de69070d8\">SelectKBest</label><div class=\"sk-toggleable__content\"><pre>SelectKBest(k='all')</pre></div></div></div></div></div></div></div></div><div class=\"sk-parallel-item\"><div class=\"sk-item\"><div class=\"sk-label-container\"><div class=\"sk-label sk-toggleable\"><input class=\"sk-toggleable__control sk-hidden--visually\" id=\"c015eb2b-7a55-45fe-95d9-857d2663bfa6\" type=\"checkbox\" ><label class=\"sk-toggleable__label\" for=\"c015eb2b-7a55-45fe-95d9-857d2663bfa6\">categorical</label><div class=\"sk-toggleable__content\"><pre>['Getting up', 'God', 'Health', 'Borrowed stuff', 'Self-criticism', 'Elections', 'Number of friends', 'Spending on healthy eating', 'Music', 'Movies', 'Friends versus money', 'Changing the past']</pre></div></div></div><div class=\"sk-serial\"><div class=\"sk-item\"><div class=\"sk-serial\"><div class=\"sk-item\"><div class=\"sk-estimator sk-toggleable\"><input class=\"sk-toggleable__control sk-hidden--visually\" id=\"12c87fcc-3050-4dcf-b342-59e0c9a9a3c7\" type=\"checkbox\" ><label class=\"sk-toggleable__label\" for=\"12c87fcc-3050-4dcf-b342-59e0c9a9a3c7\">SimpleImputer</label><div class=\"sk-toggleable__content\"><pre>SimpleImputer()</pre></div></div></div><div class=\"sk-item\"><div class=\"sk-estimator sk-toggleable\"><input class=\"sk-toggleable__control sk-hidden--visually\" id=\"0ed6d6cb-17e4-4173-9573-a265597f384b\" type=\"checkbox\" ><label class=\"sk-toggleable__label\" for=\"0ed6d6cb-17e4-4173-9573-a265597f384b\">OneHotEncoder</label><div class=\"sk-toggleable__content\"><pre>OneHotEncoder(handle_unknown='ignore')</pre></div></div></div></div></div></div></div></div></div></div></div></div><div class=\"sk-item\"><div class=\"sk-estimator sk-toggleable\"><input class=\"sk-toggleable__control sk-hidden--visually\" id=\"47ee31ef-c71d-463f-9cbf-4edbeddddeef\" type=\"checkbox\" ><label class=\"sk-toggleable__label\" for=\"47ee31ef-c71d-463f-9cbf-4edbeddddeef\">RandomForestClassifier</label><div class=\"sk-toggleable__content\"><pre>RandomForestClassifier(n_jobs=-1)</pre></div></div></div></div></div></div></div></div><div class=\"sk-parallel-item\"><div class=\"sk-item\"><div class=\"sk-label-container\"><div class=\"sk-label sk-toggleable\"><label>xgboost</label></div></div><div class=\"sk-serial\"><div class=\"sk-item\"><div class=\"sk-serial\"><div class=\"sk-item\"><div class=\"sk-label-container\"><div class=\"sk-label sk-toggleable\"><input class=\"sk-toggleable__control sk-hidden--visually\" id=\"2e53b372-a7f3-4a11-992b-b84a98265826\" type=\"checkbox\" ><label class=\"sk-toggleable__label\" for=\"2e53b372-a7f3-4a11-992b-b84a98265826\">pipeline: Pipeline</label><div class=\"sk-toggleable__content\"><pre>Pipeline(steps=[('data_transformer',\n",
       "                 ColumnTransformer(transformers=[('numerical',\n",
       "                                                  Pipeline(steps=[('imputer',\n",
       "                                                                   SimpleImputer()),\n",
       "                                                                  ('scaler',\n",
       "                                                                   StandardScaler()),\n",
       "                                                                  ('feature_selector',\n",
       "                                                                   SelectKBest(k='all'))]),\n",
       "                                                  ['Age', 'Height', 'Weight']),\n",
       "                                                 ('categorical',\n",
       "                                                  Pipeline(steps=[('imputer',\n",
       "                                                                   SimpleImputer()),\n",
       "                                                                  ('onehot',\n",
       "                                                                   OneHotEncoder(handle_unknown='ignore'))]),\n",
       "                                                  ['Getting up', 'God',\n",
       "                                                   'Health', 'Borrowed stuff',\n",
       "                                                   'Self-criticism',\n",
       "                                                   'Elections',\n",
       "                                                   'Number of friends',\n",
       "                                                   'Spending on healthy eating',\n",
       "                                                   'Music', 'Movies',\n",
       "                                                   'Friends versus money',\n",
       "                                                   'Changing the past'])]))])</pre></div></div></div><div class=\"sk-serial\"><div class=\"sk-item sk-dashed-wrapped\"><div class=\"sk-label-container\"><div class=\"sk-label sk-toggleable\"><input class=\"sk-toggleable__control sk-hidden--visually\" id=\"efb18693-0576-4659-9180-18b82bd4fd11\" type=\"checkbox\" ><label class=\"sk-toggleable__label\" for=\"efb18693-0576-4659-9180-18b82bd4fd11\">data_transformer: ColumnTransformer</label><div class=\"sk-toggleable__content\"><pre>ColumnTransformer(transformers=[('numerical',\n",
       "                                 Pipeline(steps=[('imputer', SimpleImputer()),\n",
       "                                                 ('scaler', StandardScaler()),\n",
       "                                                 ('feature_selector',\n",
       "                                                  SelectKBest(k='all'))]),\n",
       "                                 ['Age', 'Height', 'Weight']),\n",
       "                                ('categorical',\n",
       "                                 Pipeline(steps=[('imputer', SimpleImputer()),\n",
       "                                                 ('onehot',\n",
       "                                                  OneHotEncoder(handle_unknown='ignore'))]),\n",
       "                                 ['Getting up', 'God', 'Health',\n",
       "                                  'Borrowed stuff', 'Self-criticism',\n",
       "                                  'Elections', 'Number of friends',\n",
       "                                  'Spending on healthy eating', 'Music',\n",
       "                                  'Movies', 'Friends versus money',\n",
       "                                  'Changing the past'])])</pre></div></div></div><div class=\"sk-parallel\"><div class=\"sk-parallel-item\"><div class=\"sk-item\"><div class=\"sk-label-container\"><div class=\"sk-label sk-toggleable\"><input class=\"sk-toggleable__control sk-hidden--visually\" id=\"63695714-c5be-4d59-8fd7-a23422654e65\" type=\"checkbox\" ><label class=\"sk-toggleable__label\" for=\"63695714-c5be-4d59-8fd7-a23422654e65\">numerical</label><div class=\"sk-toggleable__content\"><pre>['Age', 'Height', 'Weight']</pre></div></div></div><div class=\"sk-serial\"><div class=\"sk-item\"><div class=\"sk-serial\"><div class=\"sk-item\"><div class=\"sk-estimator sk-toggleable\"><input class=\"sk-toggleable__control sk-hidden--visually\" id=\"855c96c2-d8f5-4841-a79b-332d7b22ce4b\" type=\"checkbox\" ><label class=\"sk-toggleable__label\" for=\"855c96c2-d8f5-4841-a79b-332d7b22ce4b\">SimpleImputer</label><div class=\"sk-toggleable__content\"><pre>SimpleImputer()</pre></div></div></div><div class=\"sk-item\"><div class=\"sk-estimator sk-toggleable\"><input class=\"sk-toggleable__control sk-hidden--visually\" id=\"49393c1a-a59f-47f3-9762-5a12527e07c7\" type=\"checkbox\" ><label class=\"sk-toggleable__label\" for=\"49393c1a-a59f-47f3-9762-5a12527e07c7\">StandardScaler</label><div class=\"sk-toggleable__content\"><pre>StandardScaler()</pre></div></div></div><div class=\"sk-item\"><div class=\"sk-estimator sk-toggleable\"><input class=\"sk-toggleable__control sk-hidden--visually\" id=\"2a9a00ae-626f-4a48-aa5e-cbed843c4f79\" type=\"checkbox\" ><label class=\"sk-toggleable__label\" for=\"2a9a00ae-626f-4a48-aa5e-cbed843c4f79\">SelectKBest</label><div class=\"sk-toggleable__content\"><pre>SelectKBest(k='all')</pre></div></div></div></div></div></div></div></div><div class=\"sk-parallel-item\"><div class=\"sk-item\"><div class=\"sk-label-container\"><div class=\"sk-label sk-toggleable\"><input class=\"sk-toggleable__control sk-hidden--visually\" id=\"1df1911e-229a-4eb9-b3c4-c00597f2a9af\" type=\"checkbox\" ><label class=\"sk-toggleable__label\" for=\"1df1911e-229a-4eb9-b3c4-c00597f2a9af\">categorical</label><div class=\"sk-toggleable__content\"><pre>['Getting up', 'God', 'Health', 'Borrowed stuff', 'Self-criticism', 'Elections', 'Number of friends', 'Spending on healthy eating', 'Music', 'Movies', 'Friends versus money', 'Changing the past']</pre></div></div></div><div class=\"sk-serial\"><div class=\"sk-item\"><div class=\"sk-serial\"><div class=\"sk-item\"><div class=\"sk-estimator sk-toggleable\"><input class=\"sk-toggleable__control sk-hidden--visually\" id=\"11df3819-d15e-4c2d-b717-ac7315e3e156\" type=\"checkbox\" ><label class=\"sk-toggleable__label\" for=\"11df3819-d15e-4c2d-b717-ac7315e3e156\">SimpleImputer</label><div class=\"sk-toggleable__content\"><pre>SimpleImputer()</pre></div></div></div><div class=\"sk-item\"><div class=\"sk-estimator sk-toggleable\"><input class=\"sk-toggleable__control sk-hidden--visually\" id=\"65f4df18-d42b-444c-8b5b-178953d38f4a\" type=\"checkbox\" ><label class=\"sk-toggleable__label\" for=\"65f4df18-d42b-444c-8b5b-178953d38f4a\">OneHotEncoder</label><div class=\"sk-toggleable__content\"><pre>OneHotEncoder(handle_unknown='ignore')</pre></div></div></div></div></div></div></div></div></div></div></div></div><div class=\"sk-item\"><div class=\"sk-estimator sk-toggleable\"><input class=\"sk-toggleable__control sk-hidden--visually\" id=\"6b480707-470b-44e3-af33-a828b966934d\" type=\"checkbox\" ><label class=\"sk-toggleable__label\" for=\"6b480707-470b-44e3-af33-a828b966934d\">XGBClassifier</label><div class=\"sk-toggleable__content\"><pre>XGBClassifier(base_score=None, booster=None, colsample_bylevel=None,\n",
       "              colsample_bynode=None, colsample_bytree=None, gamma=None,\n",
       "              gpu_id=None, importance_type='gain', interaction_constraints=None,\n",
       "              learning_rate=None, max_delta_step=None, max_depth=None,\n",
       "              min_child_weight=None, missing=nan, monotone_constraints=None,\n",
       "              n_estimators=100, n_jobs=-1, num_parallel_tree=None,\n",
       "              random_state=None, reg_alpha=None, reg_lambda=None,\n",
       "              scale_pos_weight=None, subsample=None, tree_method=None,\n",
       "              validate_parameters=None, verbosity=None)</pre></div></div></div></div></div></div></div></div></div></div><div class=\"sk-item\"><div class=\"sk-parallel\"><div class=\"sk-parallel-item\"><div class=\"sk-item\"><div class=\"sk-label-container\"><div class=\"sk-label sk-toggleable\"><label>final_estimator</label></div></div><div class=\"sk-serial\"><div class=\"sk-item\"><div class=\"sk-estimator sk-toggleable\"><input class=\"sk-toggleable__control sk-hidden--visually\" id=\"80d0dd6b-d404-4c4f-9078-aa4104eeaed3\" type=\"checkbox\" ><label class=\"sk-toggleable__label\" for=\"80d0dd6b-d404-4c4f-9078-aa4104eeaed3\">LogisticRegression</label><div class=\"sk-toggleable__content\"><pre>LogisticRegression(n_jobs=-1, verbose=True)</pre></div></div></div></div></div></div></div></div></div></div></div></div>"
      ],
      "text/plain": [
       "StackingClassifier(estimators=[('SVM',\n",
       "                                Pipeline(steps=[('pipeline',\n",
       "                                                 Pipeline(steps=[('data_transformer',\n",
       "                                                                  ColumnTransformer(transformers=[('numerical',\n",
       "                                                                                                   Pipeline(steps=[('imputer',\n",
       "                                                                                                                    SimpleImputer()),\n",
       "                                                                                                                   ('scaler',\n",
       "                                                                                                                    StandardScaler()),\n",
       "                                                                                                                   ('feature_selector',\n",
       "                                                                                                                    SelectKBest(k='all'))]),\n",
       "                                                                                                   ['Age',\n",
       "                                                                                                    'Height',\n",
       "                                                                                                    'Weight']),\n",
       "                                                                                                  ('categorical',\n",
       "                                                                                                   Pipeline(steps=[('imputer',\n",
       "                                                                                                                    SimpleImputer()),\n",
       "                                                                                                                   (...\n",
       "                                                               max_depth=None,\n",
       "                                                               min_child_weight=None,\n",
       "                                                               missing=nan,\n",
       "                                                               monotone_constraints=None,\n",
       "                                                               n_estimators=100,\n",
       "                                                               n_jobs=-1,\n",
       "                                                               num_parallel_tree=None,\n",
       "                                                               random_state=None,\n",
       "                                                               reg_alpha=None,\n",
       "                                                               reg_lambda=None,\n",
       "                                                               scale_pos_weight=None,\n",
       "                                                               subsample=None,\n",
       "                                                               tree_method=None,\n",
       "                                                               validate_parameters=None,\n",
       "                                                               verbosity=None))]))],\n",
       "                   final_estimator=LogisticRegression(n_jobs=-1, verbose=True),\n",
       "                   n_jobs=-1, verbose=True)"
      ]
     },
     "execution_count": 75,
     "metadata": {},
     "output_type": "execute_result"
    }
   ],
   "source": [
    "stacking_classifier"
   ]
  },
  {
   "cell_type": "code",
   "execution_count": null,
   "metadata": {},
   "outputs": [],
   "source": []
  },
  {
   "cell_type": "code",
   "execution_count": null,
   "metadata": {},
   "outputs": [],
   "source": []
  },
  {
   "cell_type": "code",
   "execution_count": null,
   "metadata": {},
   "outputs": [],
   "source": []
  },
  {
   "cell_type": "code",
   "execution_count": null,
   "metadata": {},
   "outputs": [],
   "source": []
  },
  {
   "cell_type": "code",
   "execution_count": null,
   "metadata": {},
   "outputs": [],
   "source": []
  },
  {
   "cell_type": "markdown",
   "metadata": {},
   "source": [
    "# Обучении махины - Будет ли легко?"
   ]
  },
  {
   "cell_type": "code",
   "execution_count": 76,
   "metadata": {},
   "outputs": [
    {
     "name": "stderr",
     "output_type": "stream",
     "text": [
      "[Parallel(n_jobs=-1)]: Using backend LokyBackend with 8 concurrent workers.\n",
      "[Parallel(n_jobs=-1)]: Done   1 out of   1 | elapsed:    0.8s finished\n"
     ]
    },
    {
     "data": {
      "text/html": [
       "<style>#sk-bd27689f-daff-422d-b73f-c462f25012d1 {color: black;background-color: white;}#sk-bd27689f-daff-422d-b73f-c462f25012d1 pre{padding: 0;}#sk-bd27689f-daff-422d-b73f-c462f25012d1 div.sk-toggleable {background-color: white;}#sk-bd27689f-daff-422d-b73f-c462f25012d1 label.sk-toggleable__label {cursor: pointer;display: block;width: 100%;margin-bottom: 0;padding: 0.3em;box-sizing: border-box;text-align: center;}#sk-bd27689f-daff-422d-b73f-c462f25012d1 div.sk-toggleable__content {max-height: 0;max-width: 0;overflow: hidden;text-align: left;background-color: #f0f8ff;}#sk-bd27689f-daff-422d-b73f-c462f25012d1 div.sk-toggleable__content pre {margin: 0.2em;color: black;border-radius: 0.25em;background-color: #f0f8ff;}#sk-bd27689f-daff-422d-b73f-c462f25012d1 input.sk-toggleable__control:checked~div.sk-toggleable__content {max-height: 200px;max-width: 100%;overflow: auto;}#sk-bd27689f-daff-422d-b73f-c462f25012d1 div.sk-estimator input.sk-toggleable__control:checked~label.sk-toggleable__label {background-color: #d4ebff;}#sk-bd27689f-daff-422d-b73f-c462f25012d1 div.sk-label input.sk-toggleable__control:checked~label.sk-toggleable__label {background-color: #d4ebff;}#sk-bd27689f-daff-422d-b73f-c462f25012d1 input.sk-hidden--visually {border: 0;clip: rect(1px 1px 1px 1px);clip: rect(1px, 1px, 1px, 1px);height: 1px;margin: -1px;overflow: hidden;padding: 0;position: absolute;width: 1px;}#sk-bd27689f-daff-422d-b73f-c462f25012d1 div.sk-estimator {font-family: monospace;background-color: #f0f8ff;border: 1px dotted black;border-radius: 0.25em;box-sizing: border-box;margin-bottom: 0.5em;}#sk-bd27689f-daff-422d-b73f-c462f25012d1 div.sk-estimator:hover {background-color: #d4ebff;}#sk-bd27689f-daff-422d-b73f-c462f25012d1 div.sk-parallel-item::after {content: \"\";width: 100%;border-bottom: 1px solid gray;flex-grow: 1;}#sk-bd27689f-daff-422d-b73f-c462f25012d1 div.sk-label:hover label.sk-toggleable__label {background-color: #d4ebff;}#sk-bd27689f-daff-422d-b73f-c462f25012d1 div.sk-serial::before {content: \"\";position: absolute;border-left: 1px solid gray;box-sizing: border-box;top: 2em;bottom: 0;left: 50%;}#sk-bd27689f-daff-422d-b73f-c462f25012d1 div.sk-serial {display: flex;flex-direction: column;align-items: center;background-color: white;padding-right: 0.2em;padding-left: 0.2em;}#sk-bd27689f-daff-422d-b73f-c462f25012d1 div.sk-item {z-index: 1;}#sk-bd27689f-daff-422d-b73f-c462f25012d1 div.sk-parallel {display: flex;align-items: stretch;justify-content: center;background-color: white;}#sk-bd27689f-daff-422d-b73f-c462f25012d1 div.sk-parallel::before {content: \"\";position: absolute;border-left: 1px solid gray;box-sizing: border-box;top: 2em;bottom: 0;left: 50%;}#sk-bd27689f-daff-422d-b73f-c462f25012d1 div.sk-parallel-item {display: flex;flex-direction: column;position: relative;background-color: white;}#sk-bd27689f-daff-422d-b73f-c462f25012d1 div.sk-parallel-item:first-child::after {align-self: flex-end;width: 50%;}#sk-bd27689f-daff-422d-b73f-c462f25012d1 div.sk-parallel-item:last-child::after {align-self: flex-start;width: 50%;}#sk-bd27689f-daff-422d-b73f-c462f25012d1 div.sk-parallel-item:only-child::after {width: 0;}#sk-bd27689f-daff-422d-b73f-c462f25012d1 div.sk-dashed-wrapped {border: 1px dashed gray;margin: 0 0.4em 0.5em 0.4em;box-sizing: border-box;padding-bottom: 0.4em;background-color: white;position: relative;}#sk-bd27689f-daff-422d-b73f-c462f25012d1 div.sk-label label {font-family: monospace;font-weight: bold;background-color: white;display: inline-block;line-height: 1.2em;}#sk-bd27689f-daff-422d-b73f-c462f25012d1 div.sk-label-container {position: relative;z-index: 2;text-align: center;}#sk-bd27689f-daff-422d-b73f-c462f25012d1 div.sk-container {display: inline-block;position: relative;}</style><div id=\"sk-bd27689f-daff-422d-b73f-c462f25012d1\" class\"sk-top-container\"><div class=\"sk-container\"><div class=\"sk-item sk-dashed-wrapped\"><div class=\"sk-label-container\"><div class=\"sk-label sk-toggleable\"><input class=\"sk-toggleable__control sk-hidden--visually\" id=\"52aaf325-4e57-40cb-bedd-8910736d20bd\" type=\"checkbox\" ><label class=\"sk-toggleable__label\" for=\"52aaf325-4e57-40cb-bedd-8910736d20bd\">StackingClassifier</label><div class=\"sk-toggleable__content\"><pre>StackingClassifier(estimators=[('SVM',\n",
       "                                Pipeline(steps=[('pipeline',\n",
       "                                                 Pipeline(steps=[('data_transformer',\n",
       "                                                                  ColumnTransformer(transformers=[('numerical',\n",
       "                                                                                                   Pipeline(steps=[('imputer',\n",
       "                                                                                                                    SimpleImputer()),\n",
       "                                                                                                                   ('scaler',\n",
       "                                                                                                                    StandardScaler()),\n",
       "                                                                                                                   ('feature_selector',\n",
       "                                                                                                                    SelectKBest(k='all'))]),\n",
       "                                                                                                   ['Age',\n",
       "                                                                                                    'Height',\n",
       "                                                                                                    'Weight']),\n",
       "                                                                                                  ('categorical',\n",
       "                                                                                                   Pipeline(steps=[('imputer',\n",
       "                                                                                                                    SimpleImputer()),\n",
       "                                                                                                                   (...\n",
       "                                                               max_depth=None,\n",
       "                                                               min_child_weight=None,\n",
       "                                                               missing=nan,\n",
       "                                                               monotone_constraints=None,\n",
       "                                                               n_estimators=100,\n",
       "                                                               n_jobs=-1,\n",
       "                                                               num_parallel_tree=None,\n",
       "                                                               random_state=None,\n",
       "                                                               reg_alpha=None,\n",
       "                                                               reg_lambda=None,\n",
       "                                                               scale_pos_weight=None,\n",
       "                                                               subsample=None,\n",
       "                                                               tree_method=None,\n",
       "                                                               validate_parameters=None,\n",
       "                                                               verbosity=None))]))],\n",
       "                   final_estimator=LogisticRegression(n_jobs=-1, verbose=True),\n",
       "                   n_jobs=-1, verbose=True)</pre></div></div></div><div class=\"sk-serial\"><div class=\"sk-item\"><div class=\"sk-parallel\"><div class=\"sk-parallel-item\"><div class=\"sk-item\"><div class=\"sk-label-container\"><div class=\"sk-label sk-toggleable\"><label>SVM</label></div></div><div class=\"sk-serial\"><div class=\"sk-item\"><div class=\"sk-serial\"><div class=\"sk-item\"><div class=\"sk-label-container\"><div class=\"sk-label sk-toggleable\"><input class=\"sk-toggleable__control sk-hidden--visually\" id=\"1139f089-0a1b-4ae1-af67-482718beb7d9\" type=\"checkbox\" ><label class=\"sk-toggleable__label\" for=\"1139f089-0a1b-4ae1-af67-482718beb7d9\">pipeline: Pipeline</label><div class=\"sk-toggleable__content\"><pre>Pipeline(steps=[('data_transformer',\n",
       "                 ColumnTransformer(transformers=[('numerical',\n",
       "                                                  Pipeline(steps=[('imputer',\n",
       "                                                                   SimpleImputer()),\n",
       "                                                                  ('scaler',\n",
       "                                                                   StandardScaler()),\n",
       "                                                                  ('feature_selector',\n",
       "                                                                   SelectKBest(k='all'))]),\n",
       "                                                  ['Age', 'Height', 'Weight']),\n",
       "                                                 ('categorical',\n",
       "                                                  Pipeline(steps=[('imputer',\n",
       "                                                                   SimpleImputer()),\n",
       "                                                                  ('onehot',\n",
       "                                                                   OneHotEncoder(handle_unknown='ignore'))]),\n",
       "                                                  ['Getting up', 'God',\n",
       "                                                   'Health', 'Borrowed stuff',\n",
       "                                                   'Self-criticism',\n",
       "                                                   'Elections',\n",
       "                                                   'Number of friends',\n",
       "                                                   'Spending on healthy eating',\n",
       "                                                   'Music', 'Movies',\n",
       "                                                   'Friends versus money',\n",
       "                                                   'Changing the past'])]))])</pre></div></div></div><div class=\"sk-serial\"><div class=\"sk-item sk-dashed-wrapped\"><div class=\"sk-label-container\"><div class=\"sk-label sk-toggleable\"><input class=\"sk-toggleable__control sk-hidden--visually\" id=\"560e842f-dd9f-46ec-827f-e1d9727d9bd2\" type=\"checkbox\" ><label class=\"sk-toggleable__label\" for=\"560e842f-dd9f-46ec-827f-e1d9727d9bd2\">data_transformer: ColumnTransformer</label><div class=\"sk-toggleable__content\"><pre>ColumnTransformer(transformers=[('numerical',\n",
       "                                 Pipeline(steps=[('imputer', SimpleImputer()),\n",
       "                                                 ('scaler', StandardScaler()),\n",
       "                                                 ('feature_selector',\n",
       "                                                  SelectKBest(k='all'))]),\n",
       "                                 ['Age', 'Height', 'Weight']),\n",
       "                                ('categorical',\n",
       "                                 Pipeline(steps=[('imputer', SimpleImputer()),\n",
       "                                                 ('onehot',\n",
       "                                                  OneHotEncoder(handle_unknown='ignore'))]),\n",
       "                                 ['Getting up', 'God', 'Health',\n",
       "                                  'Borrowed stuff', 'Self-criticism',\n",
       "                                  'Elections', 'Number of friends',\n",
       "                                  'Spending on healthy eating', 'Music',\n",
       "                                  'Movies', 'Friends versus money',\n",
       "                                  'Changing the past'])])</pre></div></div></div><div class=\"sk-parallel\"><div class=\"sk-parallel-item\"><div class=\"sk-item\"><div class=\"sk-label-container\"><div class=\"sk-label sk-toggleable\"><input class=\"sk-toggleable__control sk-hidden--visually\" id=\"418b5aed-98c1-4af2-9694-aa628d3691f0\" type=\"checkbox\" ><label class=\"sk-toggleable__label\" for=\"418b5aed-98c1-4af2-9694-aa628d3691f0\">numerical</label><div class=\"sk-toggleable__content\"><pre>['Age', 'Height', 'Weight']</pre></div></div></div><div class=\"sk-serial\"><div class=\"sk-item\"><div class=\"sk-serial\"><div class=\"sk-item\"><div class=\"sk-estimator sk-toggleable\"><input class=\"sk-toggleable__control sk-hidden--visually\" id=\"5ec4a098-e9dd-4e39-ae06-49557f3b2731\" type=\"checkbox\" ><label class=\"sk-toggleable__label\" for=\"5ec4a098-e9dd-4e39-ae06-49557f3b2731\">SimpleImputer</label><div class=\"sk-toggleable__content\"><pre>SimpleImputer()</pre></div></div></div><div class=\"sk-item\"><div class=\"sk-estimator sk-toggleable\"><input class=\"sk-toggleable__control sk-hidden--visually\" id=\"1807deb6-a94d-4a5b-aed1-8efea5468891\" type=\"checkbox\" ><label class=\"sk-toggleable__label\" for=\"1807deb6-a94d-4a5b-aed1-8efea5468891\">StandardScaler</label><div class=\"sk-toggleable__content\"><pre>StandardScaler()</pre></div></div></div><div class=\"sk-item\"><div class=\"sk-estimator sk-toggleable\"><input class=\"sk-toggleable__control sk-hidden--visually\" id=\"77349f89-9526-42e2-a908-b19a2981c689\" type=\"checkbox\" ><label class=\"sk-toggleable__label\" for=\"77349f89-9526-42e2-a908-b19a2981c689\">SelectKBest</label><div class=\"sk-toggleable__content\"><pre>SelectKBest(k='all')</pre></div></div></div></div></div></div></div></div><div class=\"sk-parallel-item\"><div class=\"sk-item\"><div class=\"sk-label-container\"><div class=\"sk-label sk-toggleable\"><input class=\"sk-toggleable__control sk-hidden--visually\" id=\"810e8d7b-56e2-452b-b1b2-a41baa9f2b9c\" type=\"checkbox\" ><label class=\"sk-toggleable__label\" for=\"810e8d7b-56e2-452b-b1b2-a41baa9f2b9c\">categorical</label><div class=\"sk-toggleable__content\"><pre>['Getting up', 'God', 'Health', 'Borrowed stuff', 'Self-criticism', 'Elections', 'Number of friends', 'Spending on healthy eating', 'Music', 'Movies', 'Friends versus money', 'Changing the past']</pre></div></div></div><div class=\"sk-serial\"><div class=\"sk-item\"><div class=\"sk-serial\"><div class=\"sk-item\"><div class=\"sk-estimator sk-toggleable\"><input class=\"sk-toggleable__control sk-hidden--visually\" id=\"295d8e88-798b-4f26-adaf-01c72e3c5a2a\" type=\"checkbox\" ><label class=\"sk-toggleable__label\" for=\"295d8e88-798b-4f26-adaf-01c72e3c5a2a\">SimpleImputer</label><div class=\"sk-toggleable__content\"><pre>SimpleImputer()</pre></div></div></div><div class=\"sk-item\"><div class=\"sk-estimator sk-toggleable\"><input class=\"sk-toggleable__control sk-hidden--visually\" id=\"e7e299e5-ad56-44a8-a895-7448d100d34d\" type=\"checkbox\" ><label class=\"sk-toggleable__label\" for=\"e7e299e5-ad56-44a8-a895-7448d100d34d\">OneHotEncoder</label><div class=\"sk-toggleable__content\"><pre>OneHotEncoder(handle_unknown='ignore')</pre></div></div></div></div></div></div></div></div></div></div></div></div><div class=\"sk-item\"><div class=\"sk-estimator sk-toggleable\"><input class=\"sk-toggleable__control sk-hidden--visually\" id=\"0a70a1c2-6272-49b0-9da7-02a81e2f1f6c\" type=\"checkbox\" ><label class=\"sk-toggleable__label\" for=\"0a70a1c2-6272-49b0-9da7-02a81e2f1f6c\">LinearSVC</label><div class=\"sk-toggleable__content\"><pre>LinearSVC()</pre></div></div></div></div></div></div></div></div><div class=\"sk-parallel-item\"><div class=\"sk-item\"><div class=\"sk-label-container\"><div class=\"sk-label sk-toggleable\"><label>Random_Forest</label></div></div><div class=\"sk-serial\"><div class=\"sk-item\"><div class=\"sk-serial\"><div class=\"sk-item\"><div class=\"sk-label-container\"><div class=\"sk-label sk-toggleable\"><input class=\"sk-toggleable__control sk-hidden--visually\" id=\"018c2543-8816-47fd-b472-1004213aca86\" type=\"checkbox\" ><label class=\"sk-toggleable__label\" for=\"018c2543-8816-47fd-b472-1004213aca86\">pipeline: Pipeline</label><div class=\"sk-toggleable__content\"><pre>Pipeline(steps=[('data_transformer',\n",
       "                 ColumnTransformer(transformers=[('numerical',\n",
       "                                                  Pipeline(steps=[('imputer',\n",
       "                                                                   SimpleImputer()),\n",
       "                                                                  ('scaler',\n",
       "                                                                   StandardScaler()),\n",
       "                                                                  ('feature_selector',\n",
       "                                                                   SelectKBest(k='all'))]),\n",
       "                                                  ['Age', 'Height', 'Weight']),\n",
       "                                                 ('categorical',\n",
       "                                                  Pipeline(steps=[('imputer',\n",
       "                                                                   SimpleImputer()),\n",
       "                                                                  ('onehot',\n",
       "                                                                   OneHotEncoder(handle_unknown='ignore'))]),\n",
       "                                                  ['Getting up', 'God',\n",
       "                                                   'Health', 'Borrowed stuff',\n",
       "                                                   'Self-criticism',\n",
       "                                                   'Elections',\n",
       "                                                   'Number of friends',\n",
       "                                                   'Spending on healthy eating',\n",
       "                                                   'Music', 'Movies',\n",
       "                                                   'Friends versus money',\n",
       "                                                   'Changing the past'])]))])</pre></div></div></div><div class=\"sk-serial\"><div class=\"sk-item sk-dashed-wrapped\"><div class=\"sk-label-container\"><div class=\"sk-label sk-toggleable\"><input class=\"sk-toggleable__control sk-hidden--visually\" id=\"f930ead8-cc4f-4aff-9d34-10cf6b66d1e8\" type=\"checkbox\" ><label class=\"sk-toggleable__label\" for=\"f930ead8-cc4f-4aff-9d34-10cf6b66d1e8\">data_transformer: ColumnTransformer</label><div class=\"sk-toggleable__content\"><pre>ColumnTransformer(transformers=[('numerical',\n",
       "                                 Pipeline(steps=[('imputer', SimpleImputer()),\n",
       "                                                 ('scaler', StandardScaler()),\n",
       "                                                 ('feature_selector',\n",
       "                                                  SelectKBest(k='all'))]),\n",
       "                                 ['Age', 'Height', 'Weight']),\n",
       "                                ('categorical',\n",
       "                                 Pipeline(steps=[('imputer', SimpleImputer()),\n",
       "                                                 ('onehot',\n",
       "                                                  OneHotEncoder(handle_unknown='ignore'))]),\n",
       "                                 ['Getting up', 'God', 'Health',\n",
       "                                  'Borrowed stuff', 'Self-criticism',\n",
       "                                  'Elections', 'Number of friends',\n",
       "                                  'Spending on healthy eating', 'Music',\n",
       "                                  'Movies', 'Friends versus money',\n",
       "                                  'Changing the past'])])</pre></div></div></div><div class=\"sk-parallel\"><div class=\"sk-parallel-item\"><div class=\"sk-item\"><div class=\"sk-label-container\"><div class=\"sk-label sk-toggleable\"><input class=\"sk-toggleable__control sk-hidden--visually\" id=\"1d290c2d-815a-46b8-9d52-eaa3bd252a6c\" type=\"checkbox\" ><label class=\"sk-toggleable__label\" for=\"1d290c2d-815a-46b8-9d52-eaa3bd252a6c\">numerical</label><div class=\"sk-toggleable__content\"><pre>['Age', 'Height', 'Weight']</pre></div></div></div><div class=\"sk-serial\"><div class=\"sk-item\"><div class=\"sk-serial\"><div class=\"sk-item\"><div class=\"sk-estimator sk-toggleable\"><input class=\"sk-toggleable__control sk-hidden--visually\" id=\"e3e0c9d8-6799-41f5-b3ee-c029a05139d0\" type=\"checkbox\" ><label class=\"sk-toggleable__label\" for=\"e3e0c9d8-6799-41f5-b3ee-c029a05139d0\">SimpleImputer</label><div class=\"sk-toggleable__content\"><pre>SimpleImputer()</pre></div></div></div><div class=\"sk-item\"><div class=\"sk-estimator sk-toggleable\"><input class=\"sk-toggleable__control sk-hidden--visually\" id=\"591ac5dd-eeec-4f5c-a2f1-ca4eae9c5a60\" type=\"checkbox\" ><label class=\"sk-toggleable__label\" for=\"591ac5dd-eeec-4f5c-a2f1-ca4eae9c5a60\">StandardScaler</label><div class=\"sk-toggleable__content\"><pre>StandardScaler()</pre></div></div></div><div class=\"sk-item\"><div class=\"sk-estimator sk-toggleable\"><input class=\"sk-toggleable__control sk-hidden--visually\" id=\"49b9bf82-9a2f-4a6d-b2b7-703b7881a5ef\" type=\"checkbox\" ><label class=\"sk-toggleable__label\" for=\"49b9bf82-9a2f-4a6d-b2b7-703b7881a5ef\">SelectKBest</label><div class=\"sk-toggleable__content\"><pre>SelectKBest(k='all')</pre></div></div></div></div></div></div></div></div><div class=\"sk-parallel-item\"><div class=\"sk-item\"><div class=\"sk-label-container\"><div class=\"sk-label sk-toggleable\"><input class=\"sk-toggleable__control sk-hidden--visually\" id=\"c7fef14c-e8fd-420a-98d7-69b87e7e1e9f\" type=\"checkbox\" ><label class=\"sk-toggleable__label\" for=\"c7fef14c-e8fd-420a-98d7-69b87e7e1e9f\">categorical</label><div class=\"sk-toggleable__content\"><pre>['Getting up', 'God', 'Health', 'Borrowed stuff', 'Self-criticism', 'Elections', 'Number of friends', 'Spending on healthy eating', 'Music', 'Movies', 'Friends versus money', 'Changing the past']</pre></div></div></div><div class=\"sk-serial\"><div class=\"sk-item\"><div class=\"sk-serial\"><div class=\"sk-item\"><div class=\"sk-estimator sk-toggleable\"><input class=\"sk-toggleable__control sk-hidden--visually\" id=\"03883fd4-37cf-4558-9273-2a3373549141\" type=\"checkbox\" ><label class=\"sk-toggleable__label\" for=\"03883fd4-37cf-4558-9273-2a3373549141\">SimpleImputer</label><div class=\"sk-toggleable__content\"><pre>SimpleImputer()</pre></div></div></div><div class=\"sk-item\"><div class=\"sk-estimator sk-toggleable\"><input class=\"sk-toggleable__control sk-hidden--visually\" id=\"acc82c16-2c5e-433a-9350-dd4d7f3769ba\" type=\"checkbox\" ><label class=\"sk-toggleable__label\" for=\"acc82c16-2c5e-433a-9350-dd4d7f3769ba\">OneHotEncoder</label><div class=\"sk-toggleable__content\"><pre>OneHotEncoder(handle_unknown='ignore')</pre></div></div></div></div></div></div></div></div></div></div></div></div><div class=\"sk-item\"><div class=\"sk-estimator sk-toggleable\"><input class=\"sk-toggleable__control sk-hidden--visually\" id=\"d1ed0f82-3341-497e-b4f2-3d1392e46031\" type=\"checkbox\" ><label class=\"sk-toggleable__label\" for=\"d1ed0f82-3341-497e-b4f2-3d1392e46031\">RandomForestClassifier</label><div class=\"sk-toggleable__content\"><pre>RandomForestClassifier(n_jobs=-1)</pre></div></div></div></div></div></div></div></div><div class=\"sk-parallel-item\"><div class=\"sk-item\"><div class=\"sk-label-container\"><div class=\"sk-label sk-toggleable\"><label>xgboost</label></div></div><div class=\"sk-serial\"><div class=\"sk-item\"><div class=\"sk-serial\"><div class=\"sk-item\"><div class=\"sk-label-container\"><div class=\"sk-label sk-toggleable\"><input class=\"sk-toggleable__control sk-hidden--visually\" id=\"7f22673a-c893-4dbf-962e-816d3ec6117d\" type=\"checkbox\" ><label class=\"sk-toggleable__label\" for=\"7f22673a-c893-4dbf-962e-816d3ec6117d\">pipeline: Pipeline</label><div class=\"sk-toggleable__content\"><pre>Pipeline(steps=[('data_transformer',\n",
       "                 ColumnTransformer(transformers=[('numerical',\n",
       "                                                  Pipeline(steps=[('imputer',\n",
       "                                                                   SimpleImputer()),\n",
       "                                                                  ('scaler',\n",
       "                                                                   StandardScaler()),\n",
       "                                                                  ('feature_selector',\n",
       "                                                                   SelectKBest(k='all'))]),\n",
       "                                                  ['Age', 'Height', 'Weight']),\n",
       "                                                 ('categorical',\n",
       "                                                  Pipeline(steps=[('imputer',\n",
       "                                                                   SimpleImputer()),\n",
       "                                                                  ('onehot',\n",
       "                                                                   OneHotEncoder(handle_unknown='ignore'))]),\n",
       "                                                  ['Getting up', 'God',\n",
       "                                                   'Health', 'Borrowed stuff',\n",
       "                                                   'Self-criticism',\n",
       "                                                   'Elections',\n",
       "                                                   'Number of friends',\n",
       "                                                   'Spending on healthy eating',\n",
       "                                                   'Music', 'Movies',\n",
       "                                                   'Friends versus money',\n",
       "                                                   'Changing the past'])]))])</pre></div></div></div><div class=\"sk-serial\"><div class=\"sk-item sk-dashed-wrapped\"><div class=\"sk-label-container\"><div class=\"sk-label sk-toggleable\"><input class=\"sk-toggleable__control sk-hidden--visually\" id=\"3c4dc49f-2417-4aa8-973b-41fa7287bff6\" type=\"checkbox\" ><label class=\"sk-toggleable__label\" for=\"3c4dc49f-2417-4aa8-973b-41fa7287bff6\">data_transformer: ColumnTransformer</label><div class=\"sk-toggleable__content\"><pre>ColumnTransformer(transformers=[('numerical',\n",
       "                                 Pipeline(steps=[('imputer', SimpleImputer()),\n",
       "                                                 ('scaler', StandardScaler()),\n",
       "                                                 ('feature_selector',\n",
       "                                                  SelectKBest(k='all'))]),\n",
       "                                 ['Age', 'Height', 'Weight']),\n",
       "                                ('categorical',\n",
       "                                 Pipeline(steps=[('imputer', SimpleImputer()),\n",
       "                                                 ('onehot',\n",
       "                                                  OneHotEncoder(handle_unknown='ignore'))]),\n",
       "                                 ['Getting up', 'God', 'Health',\n",
       "                                  'Borrowed stuff', 'Self-criticism',\n",
       "                                  'Elections', 'Number of friends',\n",
       "                                  'Spending on healthy eating', 'Music',\n",
       "                                  'Movies', 'Friends versus money',\n",
       "                                  'Changing the past'])])</pre></div></div></div><div class=\"sk-parallel\"><div class=\"sk-parallel-item\"><div class=\"sk-item\"><div class=\"sk-label-container\"><div class=\"sk-label sk-toggleable\"><input class=\"sk-toggleable__control sk-hidden--visually\" id=\"f455164d-02e7-4894-9197-99a9e8fb1d10\" type=\"checkbox\" ><label class=\"sk-toggleable__label\" for=\"f455164d-02e7-4894-9197-99a9e8fb1d10\">numerical</label><div class=\"sk-toggleable__content\"><pre>['Age', 'Height', 'Weight']</pre></div></div></div><div class=\"sk-serial\"><div class=\"sk-item\"><div class=\"sk-serial\"><div class=\"sk-item\"><div class=\"sk-estimator sk-toggleable\"><input class=\"sk-toggleable__control sk-hidden--visually\" id=\"d3b5d077-75d6-423c-a3ab-1470a8847463\" type=\"checkbox\" ><label class=\"sk-toggleable__label\" for=\"d3b5d077-75d6-423c-a3ab-1470a8847463\">SimpleImputer</label><div class=\"sk-toggleable__content\"><pre>SimpleImputer()</pre></div></div></div><div class=\"sk-item\"><div class=\"sk-estimator sk-toggleable\"><input class=\"sk-toggleable__control sk-hidden--visually\" id=\"2f3235b4-ead2-4350-8e9e-ef74952ba616\" type=\"checkbox\" ><label class=\"sk-toggleable__label\" for=\"2f3235b4-ead2-4350-8e9e-ef74952ba616\">StandardScaler</label><div class=\"sk-toggleable__content\"><pre>StandardScaler()</pre></div></div></div><div class=\"sk-item\"><div class=\"sk-estimator sk-toggleable\"><input class=\"sk-toggleable__control sk-hidden--visually\" id=\"5f964095-d6b2-4d20-bac8-2934c7bb3775\" type=\"checkbox\" ><label class=\"sk-toggleable__label\" for=\"5f964095-d6b2-4d20-bac8-2934c7bb3775\">SelectKBest</label><div class=\"sk-toggleable__content\"><pre>SelectKBest(k='all')</pre></div></div></div></div></div></div></div></div><div class=\"sk-parallel-item\"><div class=\"sk-item\"><div class=\"sk-label-container\"><div class=\"sk-label sk-toggleable\"><input class=\"sk-toggleable__control sk-hidden--visually\" id=\"cc4a705c-1ed2-4cf3-bf85-e298f5383126\" type=\"checkbox\" ><label class=\"sk-toggleable__label\" for=\"cc4a705c-1ed2-4cf3-bf85-e298f5383126\">categorical</label><div class=\"sk-toggleable__content\"><pre>['Getting up', 'God', 'Health', 'Borrowed stuff', 'Self-criticism', 'Elections', 'Number of friends', 'Spending on healthy eating', 'Music', 'Movies', 'Friends versus money', 'Changing the past']</pre></div></div></div><div class=\"sk-serial\"><div class=\"sk-item\"><div class=\"sk-serial\"><div class=\"sk-item\"><div class=\"sk-estimator sk-toggleable\"><input class=\"sk-toggleable__control sk-hidden--visually\" id=\"1e72425f-0c66-4199-bda5-71b2629b70b9\" type=\"checkbox\" ><label class=\"sk-toggleable__label\" for=\"1e72425f-0c66-4199-bda5-71b2629b70b9\">SimpleImputer</label><div class=\"sk-toggleable__content\"><pre>SimpleImputer()</pre></div></div></div><div class=\"sk-item\"><div class=\"sk-estimator sk-toggleable\"><input class=\"sk-toggleable__control sk-hidden--visually\" id=\"231ea16b-fd34-4440-ae18-3d4cc93c50d3\" type=\"checkbox\" ><label class=\"sk-toggleable__label\" for=\"231ea16b-fd34-4440-ae18-3d4cc93c50d3\">OneHotEncoder</label><div class=\"sk-toggleable__content\"><pre>OneHotEncoder(handle_unknown='ignore')</pre></div></div></div></div></div></div></div></div></div></div></div></div><div class=\"sk-item\"><div class=\"sk-estimator sk-toggleable\"><input class=\"sk-toggleable__control sk-hidden--visually\" id=\"9709bfd3-4856-4939-a522-bdbd9d63e329\" type=\"checkbox\" ><label class=\"sk-toggleable__label\" for=\"9709bfd3-4856-4939-a522-bdbd9d63e329\">XGBClassifier</label><div class=\"sk-toggleable__content\"><pre>XGBClassifier(base_score=None, booster=None, colsample_bylevel=None,\n",
       "              colsample_bynode=None, colsample_bytree=None, gamma=None,\n",
       "              gpu_id=None, importance_type='gain', interaction_constraints=None,\n",
       "              learning_rate=None, max_delta_step=None, max_depth=None,\n",
       "              min_child_weight=None, missing=nan, monotone_constraints=None,\n",
       "              n_estimators=100, n_jobs=-1, num_parallel_tree=None,\n",
       "              random_state=None, reg_alpha=None, reg_lambda=None,\n",
       "              scale_pos_weight=None, subsample=None, tree_method=None,\n",
       "              validate_parameters=None, verbosity=None)</pre></div></div></div></div></div></div></div></div></div></div><div class=\"sk-item\"><div class=\"sk-parallel\"><div class=\"sk-parallel-item\"><div class=\"sk-item\"><div class=\"sk-label-container\"><div class=\"sk-label sk-toggleable\"><label>final_estimator</label></div></div><div class=\"sk-serial\"><div class=\"sk-item\"><div class=\"sk-estimator sk-toggleable\"><input class=\"sk-toggleable__control sk-hidden--visually\" id=\"2b36b4c5-c881-4760-8c73-c01c09b88572\" type=\"checkbox\" ><label class=\"sk-toggleable__label\" for=\"2b36b4c5-c881-4760-8c73-c01c09b88572\">LogisticRegression</label><div class=\"sk-toggleable__content\"><pre>LogisticRegression(n_jobs=-1, verbose=True)</pre></div></div></div></div></div></div></div></div></div></div></div></div>"
      ],
      "text/plain": [
       "StackingClassifier(estimators=[('SVM',\n",
       "                                Pipeline(steps=[('pipeline',\n",
       "                                                 Pipeline(steps=[('data_transformer',\n",
       "                                                                  ColumnTransformer(transformers=[('numerical',\n",
       "                                                                                                   Pipeline(steps=[('imputer',\n",
       "                                                                                                                    SimpleImputer()),\n",
       "                                                                                                                   ('scaler',\n",
       "                                                                                                                    StandardScaler()),\n",
       "                                                                                                                   ('feature_selector',\n",
       "                                                                                                                    SelectKBest(k='all'))]),\n",
       "                                                                                                   ['Age',\n",
       "                                                                                                    'Height',\n",
       "                                                                                                    'Weight']),\n",
       "                                                                                                  ('categorical',\n",
       "                                                                                                   Pipeline(steps=[('imputer',\n",
       "                                                                                                                    SimpleImputer()),\n",
       "                                                                                                                   (...\n",
       "                                                               max_depth=None,\n",
       "                                                               min_child_weight=None,\n",
       "                                                               missing=nan,\n",
       "                                                               monotone_constraints=None,\n",
       "                                                               n_estimators=100,\n",
       "                                                               n_jobs=-1,\n",
       "                                                               num_parallel_tree=None,\n",
       "                                                               random_state=None,\n",
       "                                                               reg_alpha=None,\n",
       "                                                               reg_lambda=None,\n",
       "                                                               scale_pos_weight=None,\n",
       "                                                               subsample=None,\n",
       "                                                               tree_method=None,\n",
       "                                                               validate_parameters=None,\n",
       "                                                               verbosity=None))]))],\n",
       "                   final_estimator=LogisticRegression(n_jobs=-1, verbose=True),\n",
       "                   n_jobs=-1, verbose=True)"
      ]
     },
     "execution_count": 76,
     "metadata": {},
     "output_type": "execute_result"
    }
   ],
   "source": [
    "stacking_classifier.fit(data[interesting_features], data[target])\n"
   ]
  },
  {
   "cell_type": "code",
   "execution_count": 79,
   "metadata": {},
   "outputs": [
    {
     "name": "stdout",
     "output_type": "stream",
     "text": [
      "              precision    recall  f1-score   support\n",
      "\n",
      "          -1       0.95      0.91      0.93       324\n",
      "           0       0.95      1.00      0.98       467\n",
      "           1       0.94      0.87      0.91       134\n",
      "\n",
      "    accuracy                           0.95       925\n",
      "   macro avg       0.95      0.93      0.94       925\n",
      "weighted avg       0.95      0.95      0.95       925\n",
      "\n"
     ]
    }
   ],
   "source": [
    "preds = stacking_classifier.predict(data[interesting_features])\n",
    "\n",
    "print(classification_report(data[target], preds))"
   ]
  },
  {
   "cell_type": "markdown",
   "metadata": {},
   "source": [
    "# Гибкость паплайна"
   ]
  },
  {
   "cell_type": "code",
   "execution_count": 107,
   "metadata": {},
   "outputs": [
    {
     "data": {
      "text/plain": [
       "'all'"
      ]
     },
     "execution_count": 107,
     "metadata": {},
     "output_type": "execute_result"
    }
   ],
   "source": [
    "# stacking_classifier.estimators[0][1][0].steps[0][1].transformers[0][1].steps[2][1].k"
   ]
  },
  {
   "cell_type": "code",
   "execution_count": null,
   "metadata": {},
   "outputs": [],
   "source": []
  },
  {
   "cell_type": "code",
   "execution_count": null,
   "metadata": {},
   "outputs": [],
   "source": []
  },
  {
   "cell_type": "markdown",
   "metadata": {},
   "source": [
    "# Как сохранить всю эту махину?"
   ]
  },
  {
   "cell_type": "code",
   "execution_count": 108,
   "metadata": {},
   "outputs": [],
   "source": [
    "# Для сериализации моделей\n",
    "import pickle"
   ]
  },
  {
   "cell_type": "code",
   "execution_count": 109,
   "metadata": {},
   "outputs": [],
   "source": [
    "with open(\"owesome_pipeline.pkl\", \"wb\") as f:\n",
    "    pickle.dump(stacking_classifier, f)"
   ]
  },
  {
   "cell_type": "code",
   "execution_count": null,
   "metadata": {},
   "outputs": [],
   "source": []
  },
  {
   "cell_type": "markdown",
   "metadata": {},
   "source": [
    "# Импорт модели"
   ]
  },
  {
   "cell_type": "code",
   "execution_count": 110,
   "metadata": {},
   "outputs": [],
   "source": [
    "with open(\"owesome_pipeline.pkl\", 'rb') as f:\n",
    "    pipeline_from_saved = pickle.load(f)"
   ]
  },
  {
   "cell_type": "code",
   "execution_count": null,
   "metadata": {},
   "outputs": [],
   "source": []
  },
  {
   "cell_type": "code",
   "execution_count": 111,
   "metadata": {},
   "outputs": [
    {
     "name": "stderr",
     "output_type": "stream",
     "text": [
      "[Parallel(n_jobs=-1)]: Using backend LokyBackend with 8 concurrent workers.\n",
      "[Parallel(n_jobs=-1)]: Done   1 out of   1 | elapsed:    0.7s finished\n"
     ]
    },
    {
     "name": "stdout",
     "output_type": "stream",
     "text": [
      "              precision    recall  f1-score   support\n",
      "\n",
      "          -1       0.58      0.43      0.50        65\n",
      "           0       0.59      0.83      0.69        93\n",
      "           1       1.00      0.26      0.41        27\n",
      "\n",
      "    accuracy                           0.61       185\n",
      "   macro avg       0.73      0.51      0.53       185\n",
      "weighted avg       0.65      0.61      0.58       185\n",
      "\n"
     ]
    }
   ],
   "source": [
    "pipeline_from_saved.fit(data_train, data_train[target])\n",
    "preds = pipeline_from_saved.predict(data_test)\n",
    "print(classification_report(data_test[target], preds))"
   ]
  },
  {
   "cell_type": "code",
   "execution_count": null,
   "metadata": {},
   "outputs": [],
   "source": []
  },
  {
   "cell_type": "code",
   "execution_count": null,
   "metadata": {},
   "outputs": [],
   "source": []
  },
  {
   "cell_type": "code",
   "execution_count": null,
   "metadata": {},
   "outputs": [],
   "source": []
  },
  {
   "cell_type": "markdown",
   "metadata": {},
   "source": [
    "# Что дальше?"
   ]
  },
  {
   "cell_type": "markdown",
   "metadata": {},
   "source": [
    "<div class=\"alert alert-success\">\n",
    "    \n",
    "* Признаки бывают разные\n",
    "* Предобработка бывает сложнее\n",
    "* Генерация новых признаков"
   ]
  },
  {
   "cell_type": "markdown",
   "metadata": {},
   "source": [
    "# Дополонительно:\n",
    "    \n",
    "Канал автора в Телеграмм: **https://t.me/datafeeling** "
   ]
  },
  {
   "cell_type": "code",
   "execution_count": null,
   "metadata": {},
   "outputs": [],
   "source": []
  },
  {
   "cell_type": "code",
   "execution_count": null,
   "metadata": {},
   "outputs": [],
   "source": []
  }
 ],
 "metadata": {
  "kernelspec": {
   "display_name": "Python 3",
   "language": "python",
   "name": "python3"
  },
  "language_info": {
   "codemirror_mode": {
    "name": "ipython",
    "version": 3
   },
   "file_extension": ".py",
   "mimetype": "text/x-python",
   "name": "python",
   "nbconvert_exporter": "python",
   "pygments_lexer": "ipython3",
   "version": "3.8.5"
  },
  "toc": {
   "base_numbering": 1,
   "nav_menu": {},
   "number_sections": true,
   "sideBar": true,
   "skip_h1_title": false,
   "title_cell": "Table of Contents",
   "title_sidebar": "Contents",
   "toc_cell": false,
   "toc_position": {},
   "toc_section_display": true,
   "toc_window_display": false
  },
  "varInspector": {
   "cols": {
    "lenName": 16,
    "lenType": 16,
    "lenVar": 40
   },
   "kernels_config": {
    "python": {
     "delete_cmd_postfix": "",
     "delete_cmd_prefix": "del ",
     "library": "var_list.py",
     "varRefreshCmd": "print(var_dic_list())"
    },
    "r": {
     "delete_cmd_postfix": ") ",
     "delete_cmd_prefix": "rm(",
     "library": "var_list.r",
     "varRefreshCmd": "cat(var_dic_list()) "
    }
   },
   "position": {
    "height": "291.719px",
    "left": "1036.46px",
    "right": "20px",
    "top": "120px",
    "width": "327.173px"
   },
   "types_to_exclude": [
    "module",
    "function",
    "builtin_function_or_method",
    "instance",
    "_Feature"
   ],
   "window_display": false
  }
 },
 "nbformat": 4,
 "nbformat_minor": 4
}
